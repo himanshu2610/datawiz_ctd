{
  "nbformat": 4,
  "nbformat_minor": 0,
  "metadata": {
    "colab": {
      "provenance": []
    },
    "kernelspec": {
      "name": "python3",
      "display_name": "Python 3"
    },
    "language_info": {
      "name": "python"
    }
  },
  "cells": [
    {
      "cell_type": "code",
      "execution_count": null,
      "metadata": {
        "id": "w9SWc-AMJ08y"
      },
      "outputs": [],
      "source": [
        "import numpy as np\n",
        "import pandas as pd\n",
        "import matplotlib.pyplot as plt\n",
        "import seaborn as sns\n"
      ]
    },
    {
      "cell_type": "code",
      "source": [
        "from google.colab import drive"
      ],
      "metadata": {
        "id": "kNucyBE2KJHr"
      },
      "execution_count": null,
      "outputs": []
    },
    {
      "cell_type": "code",
      "source": [
        "drive.mount('/content/drive')\n",
        "\n"
      ],
      "metadata": {
        "colab": {
          "base_uri": "https://localhost:8080/"
        },
        "id": "3Hb5F2XFKPxg",
        "outputId": "2ea04c31-7c1c-490e-efff-ebd3006c31cd"
      },
      "execution_count": null,
      "outputs": [
        {
          "output_type": "stream",
          "name": "stdout",
          "text": [
            "Mounted at /content/drive\n"
          ]
        }
      ]
    },
    {
      "cell_type": "code",
      "source": [
        "path1 = \"/content/drive/MyDrive/datasets/train.csv\"\n",
        "path2 = \"/content/drive/MyDrive/datasets/test.csv\"\n",
        "train_df = pd.read_csv(path1)\n",
        "test_df = pd.read_csv(path2)"
      ],
      "metadata": {
        "id": "R3ijTfWDKaV2"
      },
      "execution_count": null,
      "outputs": []
    },
    {
      "cell_type": "code",
      "source": [
        "path3 = \"/content/drive/MyDrive/datasets/test.csv\""
      ],
      "metadata": {
        "id": "yFXaPm6cSC4Q"
      },
      "execution_count": null,
      "outputs": []
    },
    {
      "cell_type": "code",
      "source": [
        "index_df = pd.read_csv(path3)"
      ],
      "metadata": {
        "id": "SgFI6GX9TXMy"
      },
      "execution_count": null,
      "outputs": []
    },
    {
      "cell_type": "code",
      "source": [
        "index_df.head()"
      ],
      "metadata": {
        "colab": {
          "base_uri": "https://localhost:8080/",
          "height": 404
        },
        "id": "RLPMU5D7TOwP",
        "outputId": "1d48babd-3cac-40bc-e7c0-fc2b5b07a072"
      },
      "execution_count": null,
      "outputs": [
        {
          "output_type": "execute_result",
          "data": {
            "text/plain": [
              "   index      mort category             geography  year   gender  deaths  \\\n",
              "0  14438  LGA36950      LGA            Torres (S)  2016  Unknown   19.04   \n",
              "1   9222  LGA45120      LGA   Northern Areas (DC)  2015        M   23.52   \n",
              "2   9469  LGA51310      LGA         Cambridge (T)  2017        M   68.32   \n",
              "3  11904  LGA43790      LGA  Loxton Waikerie (DC)  2017        F   62.72   \n",
              "4   2655  SA311003      SA3      Moree - Narrabri  2013        M  119.84   \n",
              "\n",
              "  population crude_rate standardised_age_rate  ... premature_deaths_percent  \\\n",
              "0      3,888      437.2                        ...                     64.7   \n",
              "1      2,349      886.8                 545.3  ...                     38.1   \n",
              "2     13,992      437.6                 320.2  ...                     24.2   \n",
              "3      5,808      964.9                 495.4  ...                     19.6   \n",
              "4     13,251      807.5                   833  ...                     49.5   \n",
              "\n",
              "  premature_deaths_asr_per_100,000 potential_years_of_life_lost leverman_rate  \\\n",
              "0                                                           119          31.2   \n",
              "1                                                            85          39.9   \n",
              "2                                                           173          13.2   \n",
              "3                                                           163          31.5   \n",
              "4                            356.5                          810          64.6   \n",
              "\n",
              "  potentially_avoidable_deaths pad_percent pad_asr_per_100,000 marital_status  \\\n",
              "0                            7        63.6                             Single   \n",
              "1                            4                                        Married   \n",
              "2                            6        42.8                             Single   \n",
              "3                            5        45.5                            Married   \n",
              "4                           34        64.2               235.1        Married   \n",
              "\n",
              "  stramer_rate inverse_pyll_metric  \n",
              "0     0.270206            2.267081  \n",
              "1     0.235901            1.784841  \n",
              "2     0.151069            5.140845  \n",
              "3     0.333018            2.246154  \n",
              "4     0.377614            1.112805  \n",
              "\n",
              "[5 rows x 22 columns]"
            ],
            "text/html": [
              "\n",
              "  <div id=\"df-246cba9f-8b41-4406-9564-c2156d7d25fc\">\n",
              "    <div class=\"colab-df-container\">\n",
              "      <div>\n",
              "<style scoped>\n",
              "    .dataframe tbody tr th:only-of-type {\n",
              "        vertical-align: middle;\n",
              "    }\n",
              "\n",
              "    .dataframe tbody tr th {\n",
              "        vertical-align: top;\n",
              "    }\n",
              "\n",
              "    .dataframe thead th {\n",
              "        text-align: right;\n",
              "    }\n",
              "</style>\n",
              "<table border=\"1\" class=\"dataframe\">\n",
              "  <thead>\n",
              "    <tr style=\"text-align: right;\">\n",
              "      <th></th>\n",
              "      <th>index</th>\n",
              "      <th>mort</th>\n",
              "      <th>category</th>\n",
              "      <th>geography</th>\n",
              "      <th>year</th>\n",
              "      <th>gender</th>\n",
              "      <th>deaths</th>\n",
              "      <th>population</th>\n",
              "      <th>crude_rate</th>\n",
              "      <th>standardised_age_rate</th>\n",
              "      <th>...</th>\n",
              "      <th>premature_deaths_percent</th>\n",
              "      <th>premature_deaths_asr_per_100,000</th>\n",
              "      <th>potential_years_of_life_lost</th>\n",
              "      <th>leverman_rate</th>\n",
              "      <th>potentially_avoidable_deaths</th>\n",
              "      <th>pad_percent</th>\n",
              "      <th>pad_asr_per_100,000</th>\n",
              "      <th>marital_status</th>\n",
              "      <th>stramer_rate</th>\n",
              "      <th>inverse_pyll_metric</th>\n",
              "    </tr>\n",
              "  </thead>\n",
              "  <tbody>\n",
              "    <tr>\n",
              "      <th>0</th>\n",
              "      <td>14438</td>\n",
              "      <td>LGA36950</td>\n",
              "      <td>LGA</td>\n",
              "      <td>Torres (S)</td>\n",
              "      <td>2016</td>\n",
              "      <td>Unknown</td>\n",
              "      <td>19.04</td>\n",
              "      <td>3,888</td>\n",
              "      <td>437.2</td>\n",
              "      <td></td>\n",
              "      <td>...</td>\n",
              "      <td>64.7</td>\n",
              "      <td></td>\n",
              "      <td>119</td>\n",
              "      <td>31.2</td>\n",
              "      <td>7</td>\n",
              "      <td>63.6</td>\n",
              "      <td></td>\n",
              "      <td>Single</td>\n",
              "      <td>0.270206</td>\n",
              "      <td>2.267081</td>\n",
              "    </tr>\n",
              "    <tr>\n",
              "      <th>1</th>\n",
              "      <td>9222</td>\n",
              "      <td>LGA45120</td>\n",
              "      <td>LGA</td>\n",
              "      <td>Northern Areas (DC)</td>\n",
              "      <td>2015</td>\n",
              "      <td>M</td>\n",
              "      <td>23.52</td>\n",
              "      <td>2,349</td>\n",
              "      <td>886.8</td>\n",
              "      <td>545.3</td>\n",
              "      <td>...</td>\n",
              "      <td>38.1</td>\n",
              "      <td></td>\n",
              "      <td>85</td>\n",
              "      <td>39.9</td>\n",
              "      <td>4</td>\n",
              "      <td></td>\n",
              "      <td></td>\n",
              "      <td>Married</td>\n",
              "      <td>0.235901</td>\n",
              "      <td>1.784841</td>\n",
              "    </tr>\n",
              "    <tr>\n",
              "      <th>2</th>\n",
              "      <td>9469</td>\n",
              "      <td>LGA51310</td>\n",
              "      <td>LGA</td>\n",
              "      <td>Cambridge (T)</td>\n",
              "      <td>2017</td>\n",
              "      <td>M</td>\n",
              "      <td>68.32</td>\n",
              "      <td>13,992</td>\n",
              "      <td>437.6</td>\n",
              "      <td>320.2</td>\n",
              "      <td>...</td>\n",
              "      <td>24.2</td>\n",
              "      <td></td>\n",
              "      <td>173</td>\n",
              "      <td>13.2</td>\n",
              "      <td>6</td>\n",
              "      <td>42.8</td>\n",
              "      <td></td>\n",
              "      <td>Single</td>\n",
              "      <td>0.151069</td>\n",
              "      <td>5.140845</td>\n",
              "    </tr>\n",
              "    <tr>\n",
              "      <th>3</th>\n",
              "      <td>11904</td>\n",
              "      <td>LGA43790</td>\n",
              "      <td>LGA</td>\n",
              "      <td>Loxton Waikerie (DC)</td>\n",
              "      <td>2017</td>\n",
              "      <td>F</td>\n",
              "      <td>62.72</td>\n",
              "      <td>5,808</td>\n",
              "      <td>964.9</td>\n",
              "      <td>495.4</td>\n",
              "      <td>...</td>\n",
              "      <td>19.6</td>\n",
              "      <td></td>\n",
              "      <td>163</td>\n",
              "      <td>31.5</td>\n",
              "      <td>5</td>\n",
              "      <td>45.5</td>\n",
              "      <td></td>\n",
              "      <td>Married</td>\n",
              "      <td>0.333018</td>\n",
              "      <td>2.246154</td>\n",
              "    </tr>\n",
              "    <tr>\n",
              "      <th>4</th>\n",
              "      <td>2655</td>\n",
              "      <td>SA311003</td>\n",
              "      <td>SA3</td>\n",
              "      <td>Moree - Narrabri</td>\n",
              "      <td>2013</td>\n",
              "      <td>M</td>\n",
              "      <td>119.84</td>\n",
              "      <td>13,251</td>\n",
              "      <td>807.5</td>\n",
              "      <td>833</td>\n",
              "      <td>...</td>\n",
              "      <td>49.5</td>\n",
              "      <td>356.5</td>\n",
              "      <td>810</td>\n",
              "      <td>64.6</td>\n",
              "      <td>34</td>\n",
              "      <td>64.2</td>\n",
              "      <td>235.1</td>\n",
              "      <td>Married</td>\n",
              "      <td>0.377614</td>\n",
              "      <td>1.112805</td>\n",
              "    </tr>\n",
              "  </tbody>\n",
              "</table>\n",
              "<p>5 rows × 22 columns</p>\n",
              "</div>\n",
              "      <button class=\"colab-df-convert\" onclick=\"convertToInteractive('df-246cba9f-8b41-4406-9564-c2156d7d25fc')\"\n",
              "              title=\"Convert this dataframe to an interactive table.\"\n",
              "              style=\"display:none;\">\n",
              "        \n",
              "  <svg xmlns=\"http://www.w3.org/2000/svg\" height=\"24px\"viewBox=\"0 0 24 24\"\n",
              "       width=\"24px\">\n",
              "    <path d=\"M0 0h24v24H0V0z\" fill=\"none\"/>\n",
              "    <path d=\"M18.56 5.44l.94 2.06.94-2.06 2.06-.94-2.06-.94-.94-2.06-.94 2.06-2.06.94zm-11 1L8.5 8.5l.94-2.06 2.06-.94-2.06-.94L8.5 2.5l-.94 2.06-2.06.94zm10 10l.94 2.06.94-2.06 2.06-.94-2.06-.94-.94-2.06-.94 2.06-2.06.94z\"/><path d=\"M17.41 7.96l-1.37-1.37c-.4-.4-.92-.59-1.43-.59-.52 0-1.04.2-1.43.59L10.3 9.45l-7.72 7.72c-.78.78-.78 2.05 0 2.83L4 21.41c.39.39.9.59 1.41.59.51 0 1.02-.2 1.41-.59l7.78-7.78 2.81-2.81c.8-.78.8-2.07 0-2.86zM5.41 20L4 18.59l7.72-7.72 1.47 1.35L5.41 20z\"/>\n",
              "  </svg>\n",
              "      </button>\n",
              "      \n",
              "  <style>\n",
              "    .colab-df-container {\n",
              "      display:flex;\n",
              "      flex-wrap:wrap;\n",
              "      gap: 12px;\n",
              "    }\n",
              "\n",
              "    .colab-df-convert {\n",
              "      background-color: #E8F0FE;\n",
              "      border: none;\n",
              "      border-radius: 50%;\n",
              "      cursor: pointer;\n",
              "      display: none;\n",
              "      fill: #1967D2;\n",
              "      height: 32px;\n",
              "      padding: 0 0 0 0;\n",
              "      width: 32px;\n",
              "    }\n",
              "\n",
              "    .colab-df-convert:hover {\n",
              "      background-color: #E2EBFA;\n",
              "      box-shadow: 0px 1px 2px rgba(60, 64, 67, 0.3), 0px 1px 3px 1px rgba(60, 64, 67, 0.15);\n",
              "      fill: #174EA6;\n",
              "    }\n",
              "\n",
              "    [theme=dark] .colab-df-convert {\n",
              "      background-color: #3B4455;\n",
              "      fill: #D2E3FC;\n",
              "    }\n",
              "\n",
              "    [theme=dark] .colab-df-convert:hover {\n",
              "      background-color: #434B5C;\n",
              "      box-shadow: 0px 1px 3px 1px rgba(0, 0, 0, 0.15);\n",
              "      filter: drop-shadow(0px 1px 2px rgba(0, 0, 0, 0.3));\n",
              "      fill: #FFFFFF;\n",
              "    }\n",
              "  </style>\n",
              "\n",
              "      <script>\n",
              "        const buttonEl =\n",
              "          document.querySelector('#df-246cba9f-8b41-4406-9564-c2156d7d25fc button.colab-df-convert');\n",
              "        buttonEl.style.display =\n",
              "          google.colab.kernel.accessAllowed ? 'block' : 'none';\n",
              "\n",
              "        async function convertToInteractive(key) {\n",
              "          const element = document.querySelector('#df-246cba9f-8b41-4406-9564-c2156d7d25fc');\n",
              "          const dataTable =\n",
              "            await google.colab.kernel.invokeFunction('convertToInteractive',\n",
              "                                                     [key], {});\n",
              "          if (!dataTable) return;\n",
              "\n",
              "          const docLinkHtml = 'Like what you see? Visit the ' +\n",
              "            '<a target=\"_blank\" href=https://colab.research.google.com/notebooks/data_table.ipynb>data table notebook</a>'\n",
              "            + ' to learn more about interactive tables.';\n",
              "          element.innerHTML = '';\n",
              "          dataTable['output_type'] = 'display_data';\n",
              "          await google.colab.output.renderOutput(dataTable, element);\n",
              "          const docLink = document.createElement('div');\n",
              "          docLink.innerHTML = docLinkHtml;\n",
              "          element.appendChild(docLink);\n",
              "        }\n",
              "      </script>\n",
              "    </div>\n",
              "  </div>\n",
              "  "
            ]
          },
          "metadata": {},
          "execution_count": 7
        }
      ]
    },
    {
      "cell_type": "code",
      "source": [
        "train_df.isna().sum()"
      ],
      "metadata": {
        "colab": {
          "base_uri": "https://localhost:8080/"
        },
        "id": "szKJotxdLA9J",
        "outputId": "5a07ff25-13b5-4cd3-f0f8-d7c1c1e9d10a"
      },
      "execution_count": null,
      "outputs": [
        {
          "output_type": "execute_result",
          "data": {
            "text/plain": [
              "index                               0\n",
              "mort                                0\n",
              "category                            0\n",
              "geography                           0\n",
              "year                                0\n",
              "gender                              0\n",
              "deaths                              0\n",
              "population                          0\n",
              "crude_rate                          0\n",
              "standardised_age_rate               0\n",
              "rate_ratio                          0\n",
              "premature_deaths                    0\n",
              "premature_deaths_percent            0\n",
              "premature_deaths_asr_per_100,000    0\n",
              "potential_years_of_life_lost        0\n",
              "leverman_rate                       0\n",
              "potentially_avoidable_deaths        0\n",
              "pad_percent                         0\n",
              "pad_asr_per_100,000                 0\n",
              "marital_status                      0\n",
              "stramer_rate                        0\n",
              "inverse_pyll_metric                 0\n",
              "median_age                          0\n",
              "dtype: int64"
            ]
          },
          "metadata": {},
          "execution_count": 51
        }
      ]
    },
    {
      "cell_type": "code",
      "source": [
        "print(train_df[train_df['index']==12109])"
      ],
      "metadata": {
        "colab": {
          "base_uri": "https://localhost:8080/"
        },
        "id": "Kcm61S9HLNq9",
        "outputId": "bb386809-98bc-4607-edaa-45aad60e6ad8"
      },
      "execution_count": null,
      "outputs": [
        {
          "output_type": "stream",
          "name": "stdout",
          "text": [
            "   index      mort category          geography  year gender  deaths  \\\n",
            "3  12109  LGA49399      LGA  Unincorporated SA  2017      F    4.48   \n",
            "\n",
            "  population crude_rate standardised_age_rate  ...  \\\n",
            "3      1,362      327.1                        ...   \n",
            "\n",
            "  premature_deaths_asr_per_100,000 potential_years_of_life_lost leverman_rate  \\\n",
            "3                                                            17          13.6   \n",
            "\n",
            "  potentially_avoidable_deaths pad_percent pad_asr_per_100,000 marital_status  \\\n",
            "3                            1                                        Unknown   \n",
            "\n",
            "  stramer_rate inverse_pyll_metric median_age  \n",
            "3     0.263523                 5.0      74.57  \n",
            "\n",
            "[1 rows x 23 columns]\n"
          ]
        }
      ]
    },
    {
      "cell_type": "code",
      "source": [
        "train_df.info()"
      ],
      "metadata": {
        "colab": {
          "base_uri": "https://localhost:8080/"
        },
        "id": "n3EDM5GNPGvs",
        "outputId": "a612f771-28ec-4674-c99a-f8527aab826e"
      },
      "execution_count": null,
      "outputs": [
        {
          "output_type": "stream",
          "name": "stdout",
          "text": [
            "<class 'pandas.core.frame.DataFrame'>\n",
            "RangeIndex: 11835 entries, 0 to 11834\n",
            "Data columns (total 23 columns):\n",
            " #   Column                            Non-Null Count  Dtype  \n",
            "---  ------                            --------------  -----  \n",
            " 0   index                             11835 non-null  int64  \n",
            " 1   mort                              11835 non-null  object \n",
            " 2   category                          11835 non-null  object \n",
            " 3   geography                         11835 non-null  object \n",
            " 4   year                              11835 non-null  int64  \n",
            " 5   gender                            11835 non-null  object \n",
            " 6   deaths                            11835 non-null  float64\n",
            " 7   population                        11835 non-null  object \n",
            " 8   crude_rate                        11835 non-null  object \n",
            " 9   standardised_age_rate             11835 non-null  object \n",
            " 10  rate_ratio                        11835 non-null  object \n",
            " 11  premature_deaths                  11835 non-null  object \n",
            " 12  premature_deaths_percent          11835 non-null  object \n",
            " 13  premature_deaths_asr_per_100,000  11835 non-null  object \n",
            " 14  potential_years_of_life_lost      11835 non-null  object \n",
            " 15  leverman_rate                     11835 non-null  object \n",
            " 16  potentially_avoidable_deaths      11835 non-null  object \n",
            " 17  pad_percent                       11835 non-null  object \n",
            " 18  pad_asr_per_100,000               11835 non-null  object \n",
            " 19  marital_status                    11835 non-null  object \n",
            " 20  stramer_rate                      11835 non-null  float64\n",
            " 21  inverse_pyll_metric               11835 non-null  float64\n",
            " 22  median_age                        11835 non-null  float64\n",
            "dtypes: float64(4), int64(2), object(17)\n",
            "memory usage: 2.1+ MB\n"
          ]
        }
      ]
    },
    {
      "cell_type": "code",
      "source": [
        "cols=[]\n",
        "for col in train_df.columns:\n",
        "    cols.append(col)\n",
        "print(cols)"
      ],
      "metadata": {
        "colab": {
          "base_uri": "https://localhost:8080/"
        },
        "id": "U6gETJVBPuHE",
        "outputId": "7a771bd6-f6bf-4aea-8e41-4447fcbe80c8"
      },
      "execution_count": null,
      "outputs": [
        {
          "output_type": "stream",
          "name": "stdout",
          "text": [
            "['index', 'mort', 'category', 'geography', 'year', 'gender', 'deaths', 'population', 'crude_rate', 'standardised_age_rate', 'rate_ratio', 'premature_deaths', 'premature_deaths_percent', 'premature_deaths_asr_per_100,000', 'potential_years_of_life_lost', 'leverman_rate', 'potentially_avoidable_deaths', 'pad_percent', 'pad_asr_per_100,000', 'marital_status', 'stramer_rate', 'inverse_pyll_metric', 'median_age']\n"
          ]
        }
      ]
    },
    {
      "cell_type": "code",
      "source": [
        "\n",
        "categorical_cols = cols[7:18]\n",
        "print(categorical_cols)"
      ],
      "metadata": {
        "colab": {
          "base_uri": "https://localhost:8080/"
        },
        "id": "Kadi-t3fQKEe",
        "outputId": "b212f0a6-509c-40b2-d204-07f922b44b91"
      },
      "execution_count": null,
      "outputs": [
        {
          "output_type": "stream",
          "name": "stdout",
          "text": [
            "['population', 'crude_rate', 'standardised_age_rate', 'rate_ratio', 'premature_deaths', 'premature_deaths_percent', 'premature_deaths_asr_per_100,000', 'potential_years_of_life_lost', 'leverman_rate', 'potentially_avoidable_deaths', 'pad_percent']\n"
          ]
        }
      ]
    },
    {
      "cell_type": "code",
      "source": [
        "train_df.isnull().sum()"
      ],
      "metadata": {
        "colab": {
          "base_uri": "https://localhost:8080/"
        },
        "id": "sSrMdQUZMB6I",
        "outputId": "f0bcc5e1-3fed-4670-ac16-7a322a47be14"
      },
      "execution_count": null,
      "outputs": [
        {
          "output_type": "execute_result",
          "data": {
            "text/plain": [
              "index                               0\n",
              "mort                                0\n",
              "category                            0\n",
              "geography                           0\n",
              "year                                0\n",
              "gender                              0\n",
              "deaths                              0\n",
              "population                          0\n",
              "crude_rate                          0\n",
              "standardised_age_rate               0\n",
              "rate_ratio                          0\n",
              "premature_deaths                    0\n",
              "premature_deaths_percent            0\n",
              "premature_deaths_asr_per_100,000    0\n",
              "potential_years_of_life_lost        0\n",
              "leverman_rate                       0\n",
              "potentially_avoidable_deaths        0\n",
              "pad_percent                         0\n",
              "pad_asr_per_100,000                 0\n",
              "marital_status                      0\n",
              "stramer_rate                        0\n",
              "inverse_pyll_metric                 0\n",
              "median_age                          0\n",
              "dtype: int64"
            ]
          },
          "metadata": {},
          "execution_count": 56
        }
      ]
    },
    {
      "cell_type": "code",
      "source": [
        "train_df['category'].unique()\n",
        "\n"
      ],
      "metadata": {
        "colab": {
          "base_uri": "https://localhost:8080/"
        },
        "id": "t4oULy9NMFEM",
        "outputId": "36d53c25-2540-4000-bd68-db040e109c16"
      },
      "execution_count": null,
      "outputs": [
        {
          "output_type": "execute_result",
          "data": {
            "text/plain": [
              "array(['LGA', 'SA3', 'GCCSA', 'PHN', 'SA4', 'Remoteness area',\n",
              "       'State and territory', 'Socioeconomic group'], dtype=object)"
            ]
          },
          "metadata": {},
          "execution_count": 57
        }
      ]
    },
    {
      "cell_type": "code",
      "source": [
        "train_df['year'].unique()"
      ],
      "metadata": {
        "colab": {
          "base_uri": "https://localhost:8080/"
        },
        "id": "6pAoKOxyOCC0",
        "outputId": "ea4694c7-8aa3-49a4-b022-4f5614662d28"
      },
      "execution_count": null,
      "outputs": [
        {
          "output_type": "execute_result",
          "data": {
            "text/plain": [
              "array([2016, 2013, 2014, 2017, 2015])"
            ]
          },
          "metadata": {},
          "execution_count": 58
        }
      ]
    },
    {
      "cell_type": "code",
      "source": [
        "\n",
        "train_df['gender'].unique()"
      ],
      "metadata": {
        "colab": {
          "base_uri": "https://localhost:8080/"
        },
        "id": "UU7dmQmsOEp6",
        "outputId": "414b6215-840f-43d5-fc00-9c0a03eeceda"
      },
      "execution_count": null,
      "outputs": [
        {
          "output_type": "execute_result",
          "data": {
            "text/plain": [
              "array(['Unknown', 'F', 'M'], dtype=object)"
            ]
          },
          "metadata": {},
          "execution_count": 59
        }
      ]
    },
    {
      "cell_type": "code",
      "source": [
        "train_df['marital_status'].unique()"
      ],
      "metadata": {
        "colab": {
          "base_uri": "https://localhost:8080/"
        },
        "id": "Kw0ZT0kwNiB1",
        "outputId": "3716dc97-0543-448f-fb8a-5c4ba0b58925"
      },
      "execution_count": null,
      "outputs": [
        {
          "output_type": "execute_result",
          "data": {
            "text/plain": [
              "array(['Married', 'Divorced', 'Unknown', 'Single'], dtype=object)"
            ]
          },
          "metadata": {},
          "execution_count": 60
        }
      ]
    },
    {
      "cell_type": "code",
      "source": [
        "for i in categorical_cols:\n",
        "  train_df[i]= train_df[i].str.replace(',', '')\n",
        "\n",
        "for i in categorical_cols:\n",
        "  test_df[i]= test_df[i].str.replace(',', '')\n"
      ],
      "metadata": {
        "id": "KwQWI6ZgPjoY"
      },
      "execution_count": null,
      "outputs": []
    },
    {
      "cell_type": "code",
      "source": [
        "train_df['population'] = pd.to_numeric(train_df['population'], errors='coerce')\n",
        "test_df['population'] = pd.to_numeric(test_df['population'], errors='coerce')"
      ],
      "metadata": {
        "id": "PhJj0gKxSFY8"
      },
      "execution_count": null,
      "outputs": []
    },
    {
      "cell_type": "code",
      "source": [
        "train_df['population'] = train_df['population'].astype(float)\n",
        "test_df['population'] = test_df['population'].astype(float)\n"
      ],
      "metadata": {
        "id": "P2S4PiGaTbYV"
      },
      "execution_count": null,
      "outputs": []
    },
    {
      "cell_type": "code",
      "source": [
        "from pandas.core.arrays import categorical\n",
        "for i in categorical_cols:\n",
        "  train_df[i]=pd.to_numeric(train_df[i],errors='coerce')\n",
        "  train_df[i]=train_df[i].astype(float)\n",
        "\n",
        "for i in categorical_cols:\n",
        "  test_df[i]=pd.to_numeric(test_df[i],errors='coerce')\n",
        "  test_df[i]=test_df[i].astype(float)"
      ],
      "metadata": {
        "id": "hMDim9cpTlDT"
      },
      "execution_count": null,
      "outputs": []
    },
    {
      "cell_type": "code",
      "source": [
        "train_df.info()"
      ],
      "metadata": {
        "colab": {
          "base_uri": "https://localhost:8080/"
        },
        "id": "LVyRA5ZRT39a",
        "outputId": "b6a4f73e-b504-45bd-d7ef-37410611f461"
      },
      "execution_count": null,
      "outputs": [
        {
          "output_type": "stream",
          "name": "stdout",
          "text": [
            "<class 'pandas.core.frame.DataFrame'>\n",
            "RangeIndex: 11835 entries, 0 to 11834\n",
            "Data columns (total 23 columns):\n",
            " #   Column                            Non-Null Count  Dtype  \n",
            "---  ------                            --------------  -----  \n",
            " 0   index                             11835 non-null  int64  \n",
            " 1   mort                              11835 non-null  object \n",
            " 2   category                          11835 non-null  object \n",
            " 3   geography                         11835 non-null  object \n",
            " 4   year                              11835 non-null  int64  \n",
            " 5   gender                            11835 non-null  object \n",
            " 6   deaths                            11835 non-null  float64\n",
            " 7   population                        11755 non-null  float64\n",
            " 8   crude_rate                        11659 non-null  float64\n",
            " 9   standardised_age_rate             9561 non-null   float64\n",
            " 10  rate_ratio                        9561 non-null   float64\n",
            " 11  premature_deaths                  11674 non-null  float64\n",
            " 12  premature_deaths_percent          10299 non-null  float64\n",
            " 13  premature_deaths_asr_per_100,000  8541 non-null   float64\n",
            " 14  potential_years_of_life_lost      11674 non-null  float64\n",
            " 15  leverman_rate                     11659 non-null  float64\n",
            " 16  potentially_avoidable_deaths      11674 non-null  float64\n",
            " 17  pad_percent                       9579 non-null   float64\n",
            " 18  pad_asr_per_100,000               11835 non-null  object \n",
            " 19  marital_status                    11835 non-null  object \n",
            " 20  stramer_rate                      11835 non-null  float64\n",
            " 21  inverse_pyll_metric               11835 non-null  float64\n",
            " 22  median_age                        11835 non-null  float64\n",
            "dtypes: float64(15), int64(2), object(6)\n",
            "memory usage: 2.1+ MB\n"
          ]
        }
      ]
    },
    {
      "cell_type": "code",
      "source": [
        "train_df['pad_asr_per_100,000'] = pd.to_numeric(train_df['pad_asr_per_100,000'], errors='coerce')\n",
        "test_df['pad_asr_per_100,000'] = pd.to_numeric(test_df['pad_asr_per_100,000'], errors='coerce')"
      ],
      "metadata": {
        "id": "d8Fss28gT-zT"
      },
      "execution_count": null,
      "outputs": []
    },
    {
      "cell_type": "code",
      "source": [
        "train_df['pad_asr_per_100,000'] = train_df['pad_asr_per_100,000'].astype(float)\n",
        "test_df['pad_asr_per_100,000'] = test_df['pad_asr_per_100,000'].astype(float)"
      ],
      "metadata": {
        "id": "u6KTp4rzUR21"
      },
      "execution_count": null,
      "outputs": []
    },
    {
      "cell_type": "code",
      "source": [
        "train_df.info()"
      ],
      "metadata": {
        "colab": {
          "base_uri": "https://localhost:8080/"
        },
        "id": "H0gDGRIWUhCs",
        "outputId": "80dfc314-e91c-461d-db7e-9e60b92c3570"
      },
      "execution_count": null,
      "outputs": [
        {
          "output_type": "stream",
          "name": "stdout",
          "text": [
            "<class 'pandas.core.frame.DataFrame'>\n",
            "RangeIndex: 11835 entries, 0 to 11834\n",
            "Data columns (total 23 columns):\n",
            " #   Column                            Non-Null Count  Dtype  \n",
            "---  ------                            --------------  -----  \n",
            " 0   index                             11835 non-null  int64  \n",
            " 1   mort                              11835 non-null  object \n",
            " 2   category                          11835 non-null  object \n",
            " 3   geography                         11835 non-null  object \n",
            " 4   year                              11835 non-null  int64  \n",
            " 5   gender                            11835 non-null  object \n",
            " 6   deaths                            11835 non-null  float64\n",
            " 7   population                        11755 non-null  float64\n",
            " 8   crude_rate                        11659 non-null  float64\n",
            " 9   standardised_age_rate             9561 non-null   float64\n",
            " 10  rate_ratio                        9561 non-null   float64\n",
            " 11  premature_deaths                  11674 non-null  float64\n",
            " 12  premature_deaths_percent          10299 non-null  float64\n",
            " 13  premature_deaths_asr_per_100,000  8541 non-null   float64\n",
            " 14  potential_years_of_life_lost      11674 non-null  float64\n",
            " 15  leverman_rate                     11659 non-null  float64\n",
            " 16  potentially_avoidable_deaths      11674 non-null  float64\n",
            " 17  pad_percent                       9579 non-null   float64\n",
            " 18  pad_asr_per_100,000               7234 non-null   float64\n",
            " 19  marital_status                    11835 non-null  object \n",
            " 20  stramer_rate                      11835 non-null  float64\n",
            " 21  inverse_pyll_metric               11835 non-null  float64\n",
            " 22  median_age                        11835 non-null  float64\n",
            "dtypes: float64(16), int64(2), object(5)\n",
            "memory usage: 2.1+ MB\n"
          ]
        }
      ]
    },
    {
      "cell_type": "code",
      "source": [
        "train_df.drop(['index'],axis=1,inplace=True)\n",
        "test_df.drop(['index'],axis=1,inplace=True)"
      ],
      "metadata": {
        "id": "6tDCTmSyUw7z"
      },
      "execution_count": null,
      "outputs": []
    },
    {
      "cell_type": "code",
      "source": [
        "train_df.drop(['mort'],axis=1,inplace = True)\n",
        "test_df.drop(['mort'],axis=1,inplace= True)"
      ],
      "metadata": {
        "id": "XopkDwn0VdC4"
      },
      "execution_count": null,
      "outputs": []
    },
    {
      "cell_type": "code",
      "source": [
        "train_df.head()"
      ],
      "metadata": {
        "colab": {
          "base_uri": "https://localhost:8080/",
          "height": 352
        },
        "id": "pOOR30qqV1QS",
        "outputId": "5dea0be0-ce4f-4afb-9b5f-d08c35c5fdfe"
      },
      "execution_count": null,
      "outputs": [
        {
          "output_type": "execute_result",
          "data": {
            "text/plain": [
              "  category                       geography  year   gender  deaths  population  \\\n",
              "0      LGA  Norwood Payneham St Peters (C)  2016  Unknown  329.28     37099.0   \n",
              "1      SA3                        Playford  2013  Unknown  708.96     91348.0   \n",
              "2      SA3                    Woden Valley  2014        F  187.04     18259.0   \n",
              "3      LGA               Unincorporated SA  2017        F    4.48      1362.0   \n",
              "4      LGA                   Mid-Coast (A)  2014        F  585.76     47105.0   \n",
              "\n",
              "   crude_rate  standardised_age_rate  rate_ratio  premature_deaths  ...  \\\n",
              "0       792.5                  428.3        0.81              68.0  ...   \n",
              "1       693.0                  702.5        1.31             262.0  ...   \n",
              "2       914.6                  457.4        1.03              27.0  ...   \n",
              "3       327.1                    NaN         NaN               2.0  ...   \n",
              "4      1110.9                  469.6        1.06             128.0  ...   \n",
              "\n",
              "   premature_deaths_asr_per_100,000  potential_years_of_life_lost  \\\n",
              "0                             159.5                        1151.0   \n",
              "1                             320.7                        4871.0   \n",
              "2                             123.1                         272.0   \n",
              "3                               NaN                          17.0   \n",
              "4                             167.3                        1604.0   \n",
              "\n",
              "   leverman_rate  potentially_avoidable_deaths  pad_percent  \\\n",
              "0           34.5                          28.0         41.2   \n",
              "1           56.4                         146.0         55.7   \n",
              "2           16.6                          11.0         40.7   \n",
              "3           13.6                           1.0          NaN   \n",
              "4           39.4                          69.0         53.9   \n",
              "\n",
              "   pad_asr_per_100,000  marital_status stramer_rate  inverse_pyll_metric  \\\n",
              "0                 67.2         Married     0.261667             2.056338   \n",
              "1                181.6         Married     0.467149             1.271777   \n",
              "2                  NaN        Divorced     0.311074             4.147727   \n",
              "3                  NaN         Unknown     0.263523             5.000000   \n",
              "4                 98.0          Single     0.368682             1.806931   \n",
              "\n",
              "   median_age  \n",
              "0       86.00  \n",
              "1       79.30  \n",
              "2       87.80  \n",
              "3       74.57  \n",
              "4       84.40  \n",
              "\n",
              "[5 rows x 21 columns]"
            ],
            "text/html": [
              "\n",
              "  <div id=\"df-7e25df3e-b646-4148-86cf-f14b2f154cc5\">\n",
              "    <div class=\"colab-df-container\">\n",
              "      <div>\n",
              "<style scoped>\n",
              "    .dataframe tbody tr th:only-of-type {\n",
              "        vertical-align: middle;\n",
              "    }\n",
              "\n",
              "    .dataframe tbody tr th {\n",
              "        vertical-align: top;\n",
              "    }\n",
              "\n",
              "    .dataframe thead th {\n",
              "        text-align: right;\n",
              "    }\n",
              "</style>\n",
              "<table border=\"1\" class=\"dataframe\">\n",
              "  <thead>\n",
              "    <tr style=\"text-align: right;\">\n",
              "      <th></th>\n",
              "      <th>category</th>\n",
              "      <th>geography</th>\n",
              "      <th>year</th>\n",
              "      <th>gender</th>\n",
              "      <th>deaths</th>\n",
              "      <th>population</th>\n",
              "      <th>crude_rate</th>\n",
              "      <th>standardised_age_rate</th>\n",
              "      <th>rate_ratio</th>\n",
              "      <th>premature_deaths</th>\n",
              "      <th>...</th>\n",
              "      <th>premature_deaths_asr_per_100,000</th>\n",
              "      <th>potential_years_of_life_lost</th>\n",
              "      <th>leverman_rate</th>\n",
              "      <th>potentially_avoidable_deaths</th>\n",
              "      <th>pad_percent</th>\n",
              "      <th>pad_asr_per_100,000</th>\n",
              "      <th>marital_status</th>\n",
              "      <th>stramer_rate</th>\n",
              "      <th>inverse_pyll_metric</th>\n",
              "      <th>median_age</th>\n",
              "    </tr>\n",
              "  </thead>\n",
              "  <tbody>\n",
              "    <tr>\n",
              "      <th>0</th>\n",
              "      <td>LGA</td>\n",
              "      <td>Norwood Payneham St Peters (C)</td>\n",
              "      <td>2016</td>\n",
              "      <td>Unknown</td>\n",
              "      <td>329.28</td>\n",
              "      <td>37099.0</td>\n",
              "      <td>792.5</td>\n",
              "      <td>428.3</td>\n",
              "      <td>0.81</td>\n",
              "      <td>68.0</td>\n",
              "      <td>...</td>\n",
              "      <td>159.5</td>\n",
              "      <td>1151.0</td>\n",
              "      <td>34.5</td>\n",
              "      <td>28.0</td>\n",
              "      <td>41.2</td>\n",
              "      <td>67.2</td>\n",
              "      <td>Married</td>\n",
              "      <td>0.261667</td>\n",
              "      <td>2.056338</td>\n",
              "      <td>86.00</td>\n",
              "    </tr>\n",
              "    <tr>\n",
              "      <th>1</th>\n",
              "      <td>SA3</td>\n",
              "      <td>Playford</td>\n",
              "      <td>2013</td>\n",
              "      <td>Unknown</td>\n",
              "      <td>708.96</td>\n",
              "      <td>91348.0</td>\n",
              "      <td>693.0</td>\n",
              "      <td>702.5</td>\n",
              "      <td>1.31</td>\n",
              "      <td>262.0</td>\n",
              "      <td>...</td>\n",
              "      <td>320.7</td>\n",
              "      <td>4871.0</td>\n",
              "      <td>56.4</td>\n",
              "      <td>146.0</td>\n",
              "      <td>55.7</td>\n",
              "      <td>181.6</td>\n",
              "      <td>Married</td>\n",
              "      <td>0.467149</td>\n",
              "      <td>1.271777</td>\n",
              "      <td>79.30</td>\n",
              "    </tr>\n",
              "    <tr>\n",
              "      <th>2</th>\n",
              "      <td>SA3</td>\n",
              "      <td>Woden Valley</td>\n",
              "      <td>2014</td>\n",
              "      <td>F</td>\n",
              "      <td>187.04</td>\n",
              "      <td>18259.0</td>\n",
              "      <td>914.6</td>\n",
              "      <td>457.4</td>\n",
              "      <td>1.03</td>\n",
              "      <td>27.0</td>\n",
              "      <td>...</td>\n",
              "      <td>123.1</td>\n",
              "      <td>272.0</td>\n",
              "      <td>16.6</td>\n",
              "      <td>11.0</td>\n",
              "      <td>40.7</td>\n",
              "      <td>NaN</td>\n",
              "      <td>Divorced</td>\n",
              "      <td>0.311074</td>\n",
              "      <td>4.147727</td>\n",
              "      <td>87.80</td>\n",
              "    </tr>\n",
              "    <tr>\n",
              "      <th>3</th>\n",
              "      <td>LGA</td>\n",
              "      <td>Unincorporated SA</td>\n",
              "      <td>2017</td>\n",
              "      <td>F</td>\n",
              "      <td>4.48</td>\n",
              "      <td>1362.0</td>\n",
              "      <td>327.1</td>\n",
              "      <td>NaN</td>\n",
              "      <td>NaN</td>\n",
              "      <td>2.0</td>\n",
              "      <td>...</td>\n",
              "      <td>NaN</td>\n",
              "      <td>17.0</td>\n",
              "      <td>13.6</td>\n",
              "      <td>1.0</td>\n",
              "      <td>NaN</td>\n",
              "      <td>NaN</td>\n",
              "      <td>Unknown</td>\n",
              "      <td>0.263523</td>\n",
              "      <td>5.000000</td>\n",
              "      <td>74.57</td>\n",
              "    </tr>\n",
              "    <tr>\n",
              "      <th>4</th>\n",
              "      <td>LGA</td>\n",
              "      <td>Mid-Coast (A)</td>\n",
              "      <td>2014</td>\n",
              "      <td>F</td>\n",
              "      <td>585.76</td>\n",
              "      <td>47105.0</td>\n",
              "      <td>1110.9</td>\n",
              "      <td>469.6</td>\n",
              "      <td>1.06</td>\n",
              "      <td>128.0</td>\n",
              "      <td>...</td>\n",
              "      <td>167.3</td>\n",
              "      <td>1604.0</td>\n",
              "      <td>39.4</td>\n",
              "      <td>69.0</td>\n",
              "      <td>53.9</td>\n",
              "      <td>98.0</td>\n",
              "      <td>Single</td>\n",
              "      <td>0.368682</td>\n",
              "      <td>1.806931</td>\n",
              "      <td>84.40</td>\n",
              "    </tr>\n",
              "  </tbody>\n",
              "</table>\n",
              "<p>5 rows × 21 columns</p>\n",
              "</div>\n",
              "      <button class=\"colab-df-convert\" onclick=\"convertToInteractive('df-7e25df3e-b646-4148-86cf-f14b2f154cc5')\"\n",
              "              title=\"Convert this dataframe to an interactive table.\"\n",
              "              style=\"display:none;\">\n",
              "        \n",
              "  <svg xmlns=\"http://www.w3.org/2000/svg\" height=\"24px\"viewBox=\"0 0 24 24\"\n",
              "       width=\"24px\">\n",
              "    <path d=\"M0 0h24v24H0V0z\" fill=\"none\"/>\n",
              "    <path d=\"M18.56 5.44l.94 2.06.94-2.06 2.06-.94-2.06-.94-.94-2.06-.94 2.06-2.06.94zm-11 1L8.5 8.5l.94-2.06 2.06-.94-2.06-.94L8.5 2.5l-.94 2.06-2.06.94zm10 10l.94 2.06.94-2.06 2.06-.94-2.06-.94-.94-2.06-.94 2.06-2.06.94z\"/><path d=\"M17.41 7.96l-1.37-1.37c-.4-.4-.92-.59-1.43-.59-.52 0-1.04.2-1.43.59L10.3 9.45l-7.72 7.72c-.78.78-.78 2.05 0 2.83L4 21.41c.39.39.9.59 1.41.59.51 0 1.02-.2 1.41-.59l7.78-7.78 2.81-2.81c.8-.78.8-2.07 0-2.86zM5.41 20L4 18.59l7.72-7.72 1.47 1.35L5.41 20z\"/>\n",
              "  </svg>\n",
              "      </button>\n",
              "      \n",
              "  <style>\n",
              "    .colab-df-container {\n",
              "      display:flex;\n",
              "      flex-wrap:wrap;\n",
              "      gap: 12px;\n",
              "    }\n",
              "\n",
              "    .colab-df-convert {\n",
              "      background-color: #E8F0FE;\n",
              "      border: none;\n",
              "      border-radius: 50%;\n",
              "      cursor: pointer;\n",
              "      display: none;\n",
              "      fill: #1967D2;\n",
              "      height: 32px;\n",
              "      padding: 0 0 0 0;\n",
              "      width: 32px;\n",
              "    }\n",
              "\n",
              "    .colab-df-convert:hover {\n",
              "      background-color: #E2EBFA;\n",
              "      box-shadow: 0px 1px 2px rgba(60, 64, 67, 0.3), 0px 1px 3px 1px rgba(60, 64, 67, 0.15);\n",
              "      fill: #174EA6;\n",
              "    }\n",
              "\n",
              "    [theme=dark] .colab-df-convert {\n",
              "      background-color: #3B4455;\n",
              "      fill: #D2E3FC;\n",
              "    }\n",
              "\n",
              "    [theme=dark] .colab-df-convert:hover {\n",
              "      background-color: #434B5C;\n",
              "      box-shadow: 0px 1px 3px 1px rgba(0, 0, 0, 0.15);\n",
              "      filter: drop-shadow(0px 1px 2px rgba(0, 0, 0, 0.3));\n",
              "      fill: #FFFFFF;\n",
              "    }\n",
              "  </style>\n",
              "\n",
              "      <script>\n",
              "        const buttonEl =\n",
              "          document.querySelector('#df-7e25df3e-b646-4148-86cf-f14b2f154cc5 button.colab-df-convert');\n",
              "        buttonEl.style.display =\n",
              "          google.colab.kernel.accessAllowed ? 'block' : 'none';\n",
              "\n",
              "        async function convertToInteractive(key) {\n",
              "          const element = document.querySelector('#df-7e25df3e-b646-4148-86cf-f14b2f154cc5');\n",
              "          const dataTable =\n",
              "            await google.colab.kernel.invokeFunction('convertToInteractive',\n",
              "                                                     [key], {});\n",
              "          if (!dataTable) return;\n",
              "\n",
              "          const docLinkHtml = 'Like what you see? Visit the ' +\n",
              "            '<a target=\"_blank\" href=https://colab.research.google.com/notebooks/data_table.ipynb>data table notebook</a>'\n",
              "            + ' to learn more about interactive tables.';\n",
              "          element.innerHTML = '';\n",
              "          dataTable['output_type'] = 'display_data';\n",
              "          await google.colab.output.renderOutput(dataTable, element);\n",
              "          const docLink = document.createElement('div');\n",
              "          docLink.innerHTML = docLinkHtml;\n",
              "          element.appendChild(docLink);\n",
              "        }\n",
              "      </script>\n",
              "    </div>\n",
              "  </div>\n",
              "  "
            ]
          },
          "metadata": {},
          "execution_count": 227
        }
      ]
    },
    {
      "cell_type": "code",
      "source": [
        "train_df.isnull().sum()"
      ],
      "metadata": {
        "colab": {
          "base_uri": "https://localhost:8080/"
        },
        "id": "aoF56dMbWMj_",
        "outputId": "77a0f6aa-e860-47b5-e855-89e5bd3bf9f1"
      },
      "execution_count": null,
      "outputs": [
        {
          "output_type": "execute_result",
          "data": {
            "text/plain": [
              "category                               0\n",
              "geography                              0\n",
              "year                                   0\n",
              "gender                                 0\n",
              "deaths                                 0\n",
              "population                            80\n",
              "crude_rate                           176\n",
              "standardised_age_rate               2274\n",
              "rate_ratio                          2274\n",
              "premature_deaths                     161\n",
              "premature_deaths_percent            1536\n",
              "premature_deaths_asr_per_100,000    3294\n",
              "potential_years_of_life_lost         161\n",
              "leverman_rate                        176\n",
              "potentially_avoidable_deaths         161\n",
              "pad_percent                         2256\n",
              "pad_asr_per_100,000                 4601\n",
              "marital_status                         0\n",
              "stramer_rate                           0\n",
              "inverse_pyll_metric                    0\n",
              "median_age                             0\n",
              "dtype: int64"
            ]
          },
          "metadata": {},
          "execution_count": 228
        }
      ]
    },
    {
      "cell_type": "code",
      "source": [
        "\n",
        "train_df['population'].fillna(value = train_df['population'].mean(), inplace = True)\n",
        "train_df['crude_rate'].fillna(value = train_df['crude_rate'].mean(), inplace = True)\n",
        "#train_df['standardised_age_rate '].fillna(value = train_df['standardised_age_rate'].mean(), inplace = True)\n",
        "train_df['rate_ratio'].fillna(value = train_df['rate_ratio'].mean(), inplace = True)\n",
        "train_df['premature_deaths'].fillna(value = train_df['premature_deaths'].mean(), inplace = True)\n",
        "train_df['premature_deaths_percent'].fillna(value = train_df['premature_deaths_percent'].mean(), inplace = True)\n",
        "\n",
        "train_df['premature_deaths_asr_per_100,000'].fillna(value = train_df['premature_deaths_asr_per_100,000'].mean(), inplace = True)\n",
        "\n",
        "train_df['potential_years_of_life_lost'].fillna(value = train_df['potential_years_of_life_lost'].mean(), inplace = True)\n",
        "\n",
        "train_df['leverman_rate'].fillna(value = train_df['leverman_rate'].mean(), inplace = True)\n",
        "\n",
        "train_df['potentially_avoidable_deaths'].fillna(value = train_df['potentially_avoidable_deaths'].mean(), inplace = True)\n",
        "train_df['pad_percent'].fillna(value = train_df['pad_percent'].mean(), inplace = True)\n",
        "\n",
        "train_df['pad_asr_per_100,000'].fillna(value = train_df['pad_asr_per_100,000'].mean(), inplace = True)"
      ],
      "metadata": {
        "id": "I_PHjxjIWc4b"
      },
      "execution_count": null,
      "outputs": []
    },
    {
      "cell_type": "code",
      "source": [
        "test_df['population'].fillna(value = test_df['population'].mean(), inplace = True)\n",
        "test_df['crude_rate'].fillna(value = test_df['crude_rate'].mean(), inplace = True)\n",
        "#train_df['standardised_age_rate '].fillna(value = train_df['standardised_age_rate'].mean(), inplace = True)\n",
        "test_df['rate_ratio'].fillna(value = test_df['rate_ratio'].mean(), inplace = True)\n",
        "test_df['premature_deaths'].fillna(value = test_df['premature_deaths'].mean(), inplace = True)\n",
        "test_df['premature_deaths_percent'].fillna(value = test_df['premature_deaths_percent'].mean(), inplace = True)\n",
        "\n",
        "test_df['premature_deaths_asr_per_100,000'].fillna(value = test_df['premature_deaths_asr_per_100,000'].mean(), inplace = True)\n",
        "\n",
        "test_df['potential_years_of_life_lost'].fillna(value = test_df['potential_years_of_life_lost'].mean(), inplace = True)\n",
        "\n",
        "test_df['leverman_rate'].fillna(value = test_df['leverman_rate'].mean(), inplace = True)\n",
        "\n",
        "test_df['potentially_avoidable_deaths'].fillna(value = test_df['potentially_avoidable_deaths'].mean(), inplace = True)\n",
        "test_df['pad_percent'].fillna(value = test_df['pad_percent'].mean(), inplace = True)\n",
        "\n",
        "test_df['pad_asr_per_100,000'].fillna(value = test_df['pad_asr_per_100,000'].mean(), inplace = True)"
      ],
      "metadata": {
        "id": "eY-4EISX_PV6"
      },
      "execution_count": null,
      "outputs": []
    },
    {
      "cell_type": "code",
      "source": [
        "train_df['standardised_age_rate'].fillna(value = train_df['standardised_age_rate'].mean(), inplace = True)\n",
        "test_df['standardised_age_rate'].fillna(value = test_df['standardised_age_rate'].mean(), inplace = True)"
      ],
      "metadata": {
        "id": "Xtsbjgc-ZCTZ"
      },
      "execution_count": null,
      "outputs": []
    },
    {
      "cell_type": "code",
      "source": [
        "import seaborn as sns\n",
        "Q1 = np.percentile(train_df['potential_years_of_life_lost'], 25,\n",
        "                   interpolation = 'midpoint')\n",
        "Q3 = np.percentile(train_df['potential_years_of_life_lost'], 75,\n",
        "                   interpolation = 'midpoint')\n",
        "IQR = Q3 - Q1\n",
        "print(IQR)"
      ],
      "metadata": {
        "colab": {
          "base_uri": "https://localhost:8080/"
        },
        "id": "D76Ionl2aRys",
        "outputId": "d14fd605-2a8c-4840-ea05-58c23b15ff78"
      },
      "execution_count": null,
      "outputs": [
        {
          "output_type": "stream",
          "name": "stdout",
          "text": [
            "2678.5\n"
          ]
        }
      ]
    },
    {
      "cell_type": "code",
      "source": [
        "upper = train_df['potential_years_of_life_lost'] >= (Q3+1.5*IQR)\n",
        "print(\"Upper bound:\",upper)\n",
        "print(np.where(upper))\n",
        " \n",
        "# Below Lower bound\n",
        "lower = train_df['potential_years_of_life_lost'] <= (Q1-1.5*IQR)\n",
        "print(\"Lower bound:\", lower)\n",
        "print(np.where(lower))"
      ],
      "metadata": {
        "colab": {
          "base_uri": "https://localhost:8080/"
        },
        "id": "PONibB7-c_2U",
        "outputId": "12252652-308c-4c99-9989-e7c82ce45ac5"
      },
      "execution_count": null,
      "outputs": [
        {
          "output_type": "stream",
          "name": "stdout",
          "text": [
            "Upper bound: 0        False\n",
            "1        False\n",
            "2        False\n",
            "3        False\n",
            "4        False\n",
            "         ...  \n",
            "11830    False\n",
            "11831    False\n",
            "11832    False\n",
            "11833    False\n",
            "11834    False\n",
            "Name: potential_years_of_life_lost, Length: 11835, dtype: bool\n",
            "(array([    6,    21,    23, ..., 11814, 11821, 11825]),)\n",
            "Lower bound: 0        False\n",
            "1        False\n",
            "2        False\n",
            "3        False\n",
            "4        False\n",
            "         ...  \n",
            "11830    False\n",
            "11831    False\n",
            "11832    False\n",
            "11833    False\n",
            "11834    False\n",
            "Name: potential_years_of_life_lost, Length: 11835, dtype: bool\n",
            "(array([], dtype=int64),)\n"
          ]
        }
      ]
    },
    {
      "cell_type": "code",
      "source": [
        "print(np.where(train_df['deaths']>150000))"
      ],
      "metadata": {
        "colab": {
          "base_uri": "https://localhost:8080/"
        },
        "id": "N-H1Qqocaspg",
        "outputId": "3603e4c0-4f53-4199-c272-24c749ad7d4e"
      },
      "execution_count": null,
      "outputs": [
        {
          "output_type": "stream",
          "name": "stdout",
          "text": [
            "(array([ 2254,  2429,  2592,  2622,  3140,  3216,  3258,  3483,  3618,\n",
            "        3933,  3987,  4203,  5200,  6035,  7084,  7185,  7726,  7827,\n",
            "        8513,  8964,  9341,  9473,  9596, 10407, 11097, 11109, 11171,\n",
            "       11650]),)\n"
          ]
        }
      ]
    },
    {
      "cell_type": "code",
      "source": [
        "print(len(pd.unique(train_df['geography'])))"
      ],
      "metadata": {
        "colab": {
          "base_uri": "https://localhost:8080/"
        },
        "id": "dbQ7ERrpgteM",
        "outputId": "711fb6c7-be8e-4a96-f3f7-3244d54226f1"
      },
      "execution_count": null,
      "outputs": [
        {
          "output_type": "stream",
          "name": "stdout",
          "text": [
            "1021\n"
          ]
        }
      ]
    },
    {
      "cell_type": "code",
      "source": [
        "train_df.drop('geography',inplace =True,axis=1)"
      ],
      "metadata": {
        "id": "yAFnvy2rg6ZD"
      },
      "execution_count": null,
      "outputs": []
    },
    {
      "cell_type": "code",
      "source": [
        "train_df.info()"
      ],
      "metadata": {
        "colab": {
          "base_uri": "https://localhost:8080/"
        },
        "id": "fU9mwdd1hIZw",
        "outputId": "8c8285b4-1f50-4dbd-93c8-5466e651d6de"
      },
      "execution_count": null,
      "outputs": [
        {
          "output_type": "stream",
          "name": "stdout",
          "text": [
            "<class 'pandas.core.frame.DataFrame'>\n",
            "RangeIndex: 11835 entries, 0 to 11834\n",
            "Data columns (total 20 columns):\n",
            " #   Column                            Non-Null Count  Dtype  \n",
            "---  ------                            --------------  -----  \n",
            " 0   category                          11835 non-null  object \n",
            " 1   year                              11835 non-null  int64  \n",
            " 2   gender                            11835 non-null  object \n",
            " 3   deaths                            11835 non-null  float64\n",
            " 4   population                        11835 non-null  float64\n",
            " 5   crude_rate                        11835 non-null  float64\n",
            " 6   standardised_age_rate             11835 non-null  float64\n",
            " 7   rate_ratio                        11835 non-null  float64\n",
            " 8   premature_deaths                  11835 non-null  float64\n",
            " 9   premature_deaths_percent          11835 non-null  float64\n",
            " 10  premature_deaths_asr_per_100,000  11835 non-null  float64\n",
            " 11  potential_years_of_life_lost      11835 non-null  float64\n",
            " 12  leverman_rate                     11835 non-null  float64\n",
            " 13  potentially_avoidable_deaths      11835 non-null  float64\n",
            " 14  pad_percent                       11835 non-null  float64\n",
            " 15  pad_asr_per_100,000               11835 non-null  float64\n",
            " 16  marital_status                    11835 non-null  object \n",
            " 17  stramer_rate                      11835 non-null  float64\n",
            " 18  inverse_pyll_metric               11835 non-null  float64\n",
            " 19  median_age                        11835 non-null  float64\n",
            "dtypes: float64(16), int64(1), object(3)\n",
            "memory usage: 1.8+ MB\n"
          ]
        }
      ]
    },
    {
      "cell_type": "code",
      "source": [
        "train_encoded_df = train_df.copy(deep=True)\n",
        "test_encoded_df = test_df.copy(deep=True)"
      ],
      "metadata": {
        "id": "9H4J1fY89Hh-"
      },
      "execution_count": null,
      "outputs": []
    },
    {
      "cell_type": "code",
      "source": [
        "from sklearn import preprocessing\n",
        "  \n",
        "# label_encoder object knows how to understand word labels.\n",
        "label_encoder = preprocessing.LabelEncoder()\n",
        "  \n",
        "# Encode labels in column 'category'.\n",
        "train_encoded_df['category']= label_encoder.fit_transform(train_encoded_df['category'])\n",
        "  \n",
        "train_encoded_df['category'].unique()\n",
        "\n",
        "test_encoded_df['category']= label_encoder.fit_transform(test_encoded_df['category'])\n",
        "  \n",
        "test_encoded_df['category'].unique()"
      ],
      "metadata": {
        "colab": {
          "base_uri": "https://localhost:8080/"
        },
        "id": "Qjko-FWGM5f1",
        "outputId": "ad0eab1e-78b0-4add-dc85-3bb32f31ecbb"
      },
      "execution_count": null,
      "outputs": [
        {
          "output_type": "execute_result",
          "data": {
            "text/plain": [
              "array([1, 4, 3, 5, 0, 7, 6, 2])"
            ]
          },
          "metadata": {},
          "execution_count": 112
        }
      ]
    },
    {
      "cell_type": "code",
      "source": [
        "colors = ['#FF0000','#008000']\n",
        "l = list(train_df['marital_status'].value_counts())\n",
        "print(l) \n",
        "\n",
        "circle = [l[0] / sum(l) * 100,l[1] / sum(l) * 100,l[2] / sum(l) * 100,l[3] / sum(l) * 100]\n",
        "\n",
        "\n",
        "fig = plt.subplots(nrows = 1,ncols = 1,figsize = (20,5))\n",
        "\n",
        "plt.subplot(1,2,1)\n",
        "\n",
        "plt.pie(circle,labels = ['Married','Divorced', 'Unknown','Single'],autopct = '%1.1f%%',startangle = 90,explode = (0,0,0,0),colors = colors,\n",
        "       wedgeprops = {'edgecolor' : 'black','linewidth': 1,'antialiased' : True})\n",
        "\n",
        "plt.title('marital-status %');"
      ],
      "metadata": {
        "colab": {
          "base_uri": "https://localhost:8080/",
          "height": 336
        },
        "id": "Ft4UZpL-hOus",
        "outputId": "8aa186aa-b007-46cb-cf1e-866ae9cfd78b"
      },
      "execution_count": null,
      "outputs": [
        {
          "output_type": "stream",
          "name": "stdout",
          "text": [
            "[3033, 2959, 2935, 2908]\n"
          ]
        },
        {
          "output_type": "display_data",
          "data": {
            "text/plain": [
              "<Figure size 1440x360 with 1 Axes>"
            ],
            "image/png": "[encoded data removed]"
          },
          "metadata": {}
        }
      ]
    },
    {
      "cell_type": "code",
      "source": [
        "colors = ['#FF0000','#008000','#007000']\n",
        "l = list(train_df['gender'].value_counts())\n",
        "print(l) \n",
        "\n",
        "circle = [l[0] / sum(l) * 100,l[1] / sum(l) * 100,l[2] / sum(l) * 100]\n",
        "\n",
        "\n",
        "fig = plt.subplots(nrows = 1,ncols = 1,figsize = (20,5))\n",
        "\n",
        "plt.subplot(1,2,1)\n",
        "\n",
        "plt.pie(circle,labels = ['M','F','Unknown'],autopct = '%1.1f%%',startangle = 90,explode = (0,0,0),colors = colors,\n",
        "       wedgeprops = {'edgecolor' : 'black','linewidth': 1,'antialiased' : True})\n",
        "\n",
        "plt.title('gender %');\n"
      ],
      "metadata": {
        "colab": {
          "base_uri": "https://localhost:8080/",
          "height": 336
        },
        "id": "LiWFNEqMjrZ8",
        "outputId": "7a62aece-7685-47ef-ee69-b3d7e4556f33"
      },
      "execution_count": null,
      "outputs": [
        {
          "output_type": "stream",
          "name": "stdout",
          "text": [
            "[3976, 3971, 3888]\n"
          ]
        },
        {
          "output_type": "display_data",
          "data": {
            "text/plain": [
              "<Figure size 1440x360 with 1 Axes>"
            ],
            "image/png": "[encoded data removed]"
          },
          "metadata": {}
        }
      ]
    },
    {
      "cell_type": "code",
      "source": [
        "from sklearn.impute import SimpleImputer\n",
        "imputer = SimpleImputer(missing_values='Unknown',strategy='most_frequent')\n",
        "train_encoded_df.marital_status=imputer.fit_transform(train_encoded_df['marital_status'].values.reshape(-1,1))[:,0]\n",
        "test_encoded_df.marital_status=imputer.fit_transform(test_encoded_df['marital_status'].values.reshape(-1,1))[:,0]"
      ],
      "metadata": {
        "id": "fB4vMe8ek-7H"
      },
      "execution_count": null,
      "outputs": []
    },
    {
      "cell_type": "code",
      "source": [
        "from sklearn.impute import SimpleImputer\n",
        "imputer = SimpleImputer(missing_values='Unknown',strategy='most_frequent')\n",
        "train_encoded_df.gender=imputer.fit_transform(train_encoded_df['gender'].values.reshape(-1,1))[:,0]\n",
        "test_encoded_df.gender=imputer.fit_transform(test_encoded_df['gender'].values.reshape(-1,1))[:,0]"
      ],
      "metadata": {
        "id": "AQo9Eu8y3qES"
      },
      "execution_count": null,
      "outputs": []
    },
    {
      "cell_type": "code",
      "source": [
        "train_encoded_df.head()"
      ],
      "metadata": {
        "colab": {
          "base_uri": "https://localhost:8080/",
          "height": 270
        },
        "id": "pPJJCHFR3hLK",
        "outputId": "9bba290b-9bc2-4c0e-ae30-f8778d375a2d"
      },
      "execution_count": null,
      "outputs": [
        {
          "output_type": "execute_result",
          "data": {
            "text/plain": [
              "   category  year gender  deaths  population  crude_rate  \\\n",
              "0         1  2016      F  329.28     37099.0       792.5   \n",
              "1         4  2013      F  708.96     91348.0       693.0   \n",
              "2         4  2014      F  187.04     18259.0       914.6   \n",
              "3         1  2017      F    4.48      1362.0       327.1   \n",
              "4         1  2014      F  585.76     47105.0      1110.9   \n",
              "\n",
              "   standardised_age_rate  rate_ratio  premature_deaths  \\\n",
              "0             428.300000    0.810000              68.0   \n",
              "1             702.500000    1.310000             262.0   \n",
              "2             457.400000    1.030000              27.0   \n",
              "3             547.742809    1.048957               2.0   \n",
              "4             469.600000    1.060000             128.0   \n",
              "\n",
              "   premature_deaths_percent  premature_deaths_asr_per_100,000  \\\n",
              "0                  23.10000                        159.500000   \n",
              "1                  41.40000                        320.700000   \n",
              "2                  16.20000                        123.100000   \n",
              "3                  36.97926                        220.543203   \n",
              "4                  24.50000                        167.300000   \n",
              "\n",
              "   potential_years_of_life_lost  leverman_rate  potentially_avoidable_deaths  \\\n",
              "0                        1151.0           34.5                          28.0   \n",
              "1                        4871.0           56.4                         146.0   \n",
              "2                         272.0           16.6                          11.0   \n",
              "3                          17.0           13.6                           1.0   \n",
              "4                        1604.0           39.4                          69.0   \n",
              "\n",
              "   pad_percent  pad_asr_per_100,000 marital_status  stramer_rate  \\\n",
              "0    41.200000            67.200000        Married      0.261667   \n",
              "1    55.700000           181.600000        Married      0.467149   \n",
              "2    40.700000           116.674772       Divorced      0.311074   \n",
              "3    50.379549           116.674772        Married      0.263523   \n",
              "4    53.900000            98.000000         Single      0.368682   \n",
              "\n",
              "   inverse_pyll_metric  median_age  \n",
              "0             2.056338       86.00  \n",
              "1             1.271777       79.30  \n",
              "2             4.147727       87.80  \n",
              "3             5.000000       74.57  \n",
              "4             1.806931       84.40  "
            ],
            "text/html": [
              "\n",
              "  <div id=\"df-46dbc8c0-204b-46ee-84b7-4d6effb69420\">\n",
              "    <div class=\"colab-df-container\">\n",
              "      <div>\n",
              "<style scoped>\n",
              "    .dataframe tbody tr th:only-of-type {\n",
              "        vertical-align: middle;\n",
              "    }\n",
              "\n",
              "    .dataframe tbody tr th {\n",
              "        vertical-align: top;\n",
              "    }\n",
              "\n",
              "    .dataframe thead th {\n",
              "        text-align: right;\n",
              "    }\n",
              "</style>\n",
              "<table border=\"1\" class=\"dataframe\">\n",
              "  <thead>\n",
              "    <tr style=\"text-align: right;\">\n",
              "      <th></th>\n",
              "      <th>category</th>\n",
              "      <th>year</th>\n",
              "      <th>gender</th>\n",
              "      <th>deaths</th>\n",
              "      <th>population</th>\n",
              "      <th>crude_rate</th>\n",
              "      <th>standardised_age_rate</th>\n",
              "      <th>rate_ratio</th>\n",
              "      <th>premature_deaths</th>\n",
              "      <th>premature_deaths_percent</th>\n",
              "      <th>premature_deaths_asr_per_100,000</th>\n",
              "      <th>potential_years_of_life_lost</th>\n",
              "      <th>leverman_rate</th>\n",
              "      <th>potentially_avoidable_deaths</th>\n",
              "      <th>pad_percent</th>\n",
              "      <th>pad_asr_per_100,000</th>\n",
              "      <th>marital_status</th>\n",
              "      <th>stramer_rate</th>\n",
              "      <th>inverse_pyll_metric</th>\n",
              "      <th>median_age</th>\n",
              "    </tr>\n",
              "  </thead>\n",
              "  <tbody>\n",
              "    <tr>\n",
              "      <th>0</th>\n",
              "      <td>1</td>\n",
              "      <td>2016</td>\n",
              "      <td>F</td>\n",
              "      <td>329.28</td>\n",
              "      <td>37099.0</td>\n",
              "      <td>792.5</td>\n",
              "      <td>428.300000</td>\n",
              "      <td>0.810000</td>\n",
              "      <td>68.0</td>\n",
              "      <td>23.10000</td>\n",
              "      <td>159.500000</td>\n",
              "      <td>1151.0</td>\n",
              "      <td>34.5</td>\n",
              "      <td>28.0</td>\n",
              "      <td>41.200000</td>\n",
              "      <td>67.200000</td>\n",
              "      <td>Married</td>\n",
              "      <td>0.261667</td>\n",
              "      <td>2.056338</td>\n",
              "      <td>86.00</td>\n",
              "    </tr>\n",
              "    <tr>\n",
              "      <th>1</th>\n",
              "      <td>4</td>\n",
              "      <td>2013</td>\n",
              "      <td>F</td>\n",
              "      <td>708.96</td>\n",
              "      <td>91348.0</td>\n",
              "      <td>693.0</td>\n",
              "      <td>702.500000</td>\n",
              "      <td>1.310000</td>\n",
              "      <td>262.0</td>\n",
              "      <td>41.40000</td>\n",
              "      <td>320.700000</td>\n",
              "      <td>4871.0</td>\n",
              "      <td>56.4</td>\n",
              "      <td>146.0</td>\n",
              "      <td>55.700000</td>\n",
              "      <td>181.600000</td>\n",
              "      <td>Married</td>\n",
              "      <td>0.467149</td>\n",
              "      <td>1.271777</td>\n",
              "      <td>79.30</td>\n",
              "    </tr>\n",
              "    <tr>\n",
              "      <th>2</th>\n",
              "      <td>4</td>\n",
              "      <td>2014</td>\n",
              "      <td>F</td>\n",
              "      <td>187.04</td>\n",
              "      <td>18259.0</td>\n",
              "      <td>914.6</td>\n",
              "      <td>457.400000</td>\n",
              "      <td>1.030000</td>\n",
              "      <td>27.0</td>\n",
              "      <td>16.20000</td>\n",
              "      <td>123.100000</td>\n",
              "      <td>272.0</td>\n",
              "      <td>16.6</td>\n",
              "      <td>11.0</td>\n",
              "      <td>40.700000</td>\n",
              "      <td>116.674772</td>\n",
              "      <td>Divorced</td>\n",
              "      <td>0.311074</td>\n",
              "      <td>4.147727</td>\n",
              "      <td>87.80</td>\n",
              "    </tr>\n",
              "    <tr>\n",
              "      <th>3</th>\n",
              "      <td>1</td>\n",
              "      <td>2017</td>\n",
              "      <td>F</td>\n",
              "      <td>4.48</td>\n",
              "      <td>1362.0</td>\n",
              "      <td>327.1</td>\n",
              "      <td>547.742809</td>\n",
              "      <td>1.048957</td>\n",
              "      <td>2.0</td>\n",
              "      <td>36.97926</td>\n",
              "      <td>220.543203</td>\n",
              "      <td>17.0</td>\n",
              "      <td>13.6</td>\n",
              "      <td>1.0</td>\n",
              "      <td>50.379549</td>\n",
              "      <td>116.674772</td>\n",
              "      <td>Married</td>\n",
              "      <td>0.263523</td>\n",
              "      <td>5.000000</td>\n",
              "      <td>74.57</td>\n",
              "    </tr>\n",
              "    <tr>\n",
              "      <th>4</th>\n",
              "      <td>1</td>\n",
              "      <td>2014</td>\n",
              "      <td>F</td>\n",
              "      <td>585.76</td>\n",
              "      <td>47105.0</td>\n",
              "      <td>1110.9</td>\n",
              "      <td>469.600000</td>\n",
              "      <td>1.060000</td>\n",
              "      <td>128.0</td>\n",
              "      <td>24.50000</td>\n",
              "      <td>167.300000</td>\n",
              "      <td>1604.0</td>\n",
              "      <td>39.4</td>\n",
              "      <td>69.0</td>\n",
              "      <td>53.900000</td>\n",
              "      <td>98.000000</td>\n",
              "      <td>Single</td>\n",
              "      <td>0.368682</td>\n",
              "      <td>1.806931</td>\n",
              "      <td>84.40</td>\n",
              "    </tr>\n",
              "  </tbody>\n",
              "</table>\n",
              "</div>\n",
              "      <button class=\"colab-df-convert\" onclick=\"convertToInteractive('df-46dbc8c0-204b-46ee-84b7-4d6effb69420')\"\n",
              "              title=\"Convert this dataframe to an interactive table.\"\n",
              "              style=\"display:none;\">\n",
              "        \n",
              "  <svg xmlns=\"http://www.w3.org/2000/svg\" height=\"24px\"viewBox=\"0 0 24 24\"\n",
              "       width=\"24px\">\n",
              "    <path d=\"M0 0h24v24H0V0z\" fill=\"none\"/>\n",
              "    <path d=\"M18.56 5.44l.94 2.06.94-2.06 2.06-.94-2.06-.94-.94-2.06-.94 2.06-2.06.94zm-11 1L8.5 8.5l.94-2.06 2.06-.94-2.06-.94L8.5 2.5l-.94 2.06-2.06.94zm10 10l.94 2.06.94-2.06 2.06-.94-2.06-.94-.94-2.06-.94 2.06-2.06.94z\"/><path d=\"M17.41 7.96l-1.37-1.37c-.4-.4-.92-.59-1.43-.59-.52 0-1.04.2-1.43.59L10.3 9.45l-7.72 7.72c-.78.78-.78 2.05 0 2.83L4 21.41c.39.39.9.59 1.41.59.51 0 1.02-.2 1.41-.59l7.78-7.78 2.81-2.81c.8-.78.8-2.07 0-2.86zM5.41 20L4 18.59l7.72-7.72 1.47 1.35L5.41 20z\"/>\n",
              "  </svg>\n",
              "      </button>\n",
              "      \n",
              "  <style>\n",
              "    .colab-df-container {\n",
              "      display:flex;\n",
              "      flex-wrap:wrap;\n",
              "      gap: 12px;\n",
              "    }\n",
              "\n",
              "    .colab-df-convert {\n",
              "      background-color: #E8F0FE;\n",
              "      border: none;\n",
              "      border-radius: 50%;\n",
              "      cursor: pointer;\n",
              "      display: none;\n",
              "      fill: #1967D2;\n",
              "      height: 32px;\n",
              "      padding: 0 0 0 0;\n",
              "      width: 32px;\n",
              "    }\n",
              "\n",
              "    .colab-df-convert:hover {\n",
              "      background-color: #E2EBFA;\n",
              "      box-shadow: 0px 1px 2px rgba(60, 64, 67, 0.3), 0px 1px 3px 1px rgba(60, 64, 67, 0.15);\n",
              "      fill: #174EA6;\n",
              "    }\n",
              "\n",
              "    [theme=dark] .colab-df-convert {\n",
              "      background-color: #3B4455;\n",
              "      fill: #D2E3FC;\n",
              "    }\n",
              "\n",
              "    [theme=dark] .colab-df-convert:hover {\n",
              "      background-color: #434B5C;\n",
              "      box-shadow: 0px 1px 3px 1px rgba(0, 0, 0, 0.15);\n",
              "      filter: drop-shadow(0px 1px 2px rgba(0, 0, 0, 0.3));\n",
              "      fill: #FFFFFF;\n",
              "    }\n",
              "  </style>\n",
              "\n",
              "      <script>\n",
              "        const buttonEl =\n",
              "          document.querySelector('#df-46dbc8c0-204b-46ee-84b7-4d6effb69420 button.colab-df-convert');\n",
              "        buttonEl.style.display =\n",
              "          google.colab.kernel.accessAllowed ? 'block' : 'none';\n",
              "\n",
              "        async function convertToInteractive(key) {\n",
              "          const element = document.querySelector('#df-46dbc8c0-204b-46ee-84b7-4d6effb69420');\n",
              "          const dataTable =\n",
              "            await google.colab.kernel.invokeFunction('convertToInteractive',\n",
              "                                                     [key], {});\n",
              "          if (!dataTable) return;\n",
              "\n",
              "          const docLinkHtml = 'Like what you see? Visit the ' +\n",
              "            '<a target=\"_blank\" href=https://colab.research.google.com/notebooks/data_table.ipynb>data table notebook</a>'\n",
              "            + ' to learn more about interactive tables.';\n",
              "          element.innerHTML = '';\n",
              "          dataTable['output_type'] = 'display_data';\n",
              "          await google.colab.output.renderOutput(dataTable, element);\n",
              "          const docLink = document.createElement('div');\n",
              "          docLink.innerHTML = docLinkHtml;\n",
              "          element.appendChild(docLink);\n",
              "        }\n",
              "      </script>\n",
              "    </div>\n",
              "  </div>\n",
              "  "
            ]
          },
          "metadata": {},
          "execution_count": 115
        }
      ]
    },
    {
      "cell_type": "code",
      "source": [
        "test_encoded_df.drop('geography',axis=1,inplace=True)"
      ],
      "metadata": {
        "id": "Rt9719_IC1Wi"
      },
      "execution_count": null,
      "outputs": []
    },
    {
      "cell_type": "code",
      "source": [
        "\n",
        "\n",
        "# label_encoder object knows how to understand word labels.\n",
        "label_encoder = preprocessing.LabelEncoder()\n",
        "  \n",
        "# Encode labels in column 'category'.\n",
        "train_encoded_df['marital_status']= label_encoder.fit_transform(train_encoded_df['marital_status'])\n",
        "  \n",
        "test_encoded_df['marital_status']= label_encoder.fit_transform(test_encoded_df['marital_status'])"
      ],
      "metadata": {
        "id": "EM5C8VuC7era"
      },
      "execution_count": null,
      "outputs": []
    },
    {
      "cell_type": "code",
      "source": [
        "train_encoded_df.info()"
      ],
      "metadata": {
        "colab": {
          "base_uri": "https://localhost:8080/"
        },
        "id": "tgdB86ve94MC",
        "outputId": "b79dcaf4-7ac3-4d15-bb2c-7943ecf8874c"
      },
      "execution_count": null,
      "outputs": [
        {
          "output_type": "stream",
          "name": "stdout",
          "text": [
            "<class 'pandas.core.frame.DataFrame'>\n",
            "RangeIndex: 11835 entries, 0 to 11834\n",
            "Data columns (total 20 columns):\n",
            " #   Column                            Non-Null Count  Dtype  \n",
            "---  ------                            --------------  -----  \n",
            " 0   category                          11835 non-null  int64  \n",
            " 1   year                              11835 non-null  int64  \n",
            " 2   gender                            11835 non-null  object \n",
            " 3   deaths                            11835 non-null  float64\n",
            " 4   population                        11835 non-null  float64\n",
            " 5   crude_rate                        11835 non-null  float64\n",
            " 6   standardised_age_rate             11835 non-null  float64\n",
            " 7   rate_ratio                        11835 non-null  float64\n",
            " 8   premature_deaths                  11835 non-null  float64\n",
            " 9   premature_deaths_percent          11835 non-null  float64\n",
            " 10  premature_deaths_asr_per_100,000  11835 non-null  float64\n",
            " 11  potential_years_of_life_lost      11835 non-null  float64\n",
            " 12  leverman_rate                     11835 non-null  float64\n",
            " 13  potentially_avoidable_deaths      11835 non-null  float64\n",
            " 14  pad_percent                       11835 non-null  float64\n",
            " 15  pad_asr_per_100,000               11835 non-null  float64\n",
            " 16  marital_status                    11835 non-null  int64  \n",
            " 17  stramer_rate                      11835 non-null  float64\n",
            " 18  inverse_pyll_metric               11835 non-null  float64\n",
            " 19  median_age                        11835 non-null  float64\n",
            "dtypes: float64(16), int64(3), object(1)\n",
            "memory usage: 1.8+ MB\n"
          ]
        }
      ]
    },
    {
      "cell_type": "code",
      "source": [
        "from sklearn.preprocessing import OneHotEncoder\n",
        "One_enc = OneHotEncoder(handle_unknown='ignore')\n",
        "enc_df = pd.DataFrame(One_enc.fit_transform(train_encoded_df[['gender']]).toarray())\n",
        "train_encoded_df_final= train_encoded_df.join(enc_df)"
      ],
      "metadata": {
        "id": "jDjedzu_DY3P"
      },
      "execution_count": null,
      "outputs": []
    },
    {
      "cell_type": "code",
      "source": [
        "train_encoded_df_final.head()"
      ],
      "metadata": {
        "colab": {
          "base_uri": "https://localhost:8080/",
          "height": 299
        },
        "id": "eNY3SFkidSC9",
        "outputId": "160a7a94-676d-48e7-9088-8f6f5ceff472"
      },
      "execution_count": null,
      "outputs": [
        {
          "output_type": "execute_result",
          "data": {
            "text/plain": [
              "   category  year   gender  deaths  population  crude_rate  \\\n",
              "0         1  2016  Unknown  329.28     37099.0       792.5   \n",
              "1         4  2013  Unknown  708.96     91348.0       693.0   \n",
              "2         4  2014        F  187.04     18259.0       914.6   \n",
              "3         1  2017        F    4.48      1362.0       327.1   \n",
              "4         1  2014        F  585.76     47105.0      1110.9   \n",
              "\n",
              "   standardised_age_rate  rate_ratio  premature_deaths  \\\n",
              "0             428.300000    0.810000              68.0   \n",
              "1             702.500000    1.310000             262.0   \n",
              "2             457.400000    1.030000              27.0   \n",
              "3             547.742809    1.048957               2.0   \n",
              "4             469.600000    1.060000             128.0   \n",
              "\n",
              "   premature_deaths_percent  ...  potentially_avoidable_deaths  pad_percent  \\\n",
              "0                  23.10000  ...                          28.0    41.200000   \n",
              "1                  41.40000  ...                         146.0    55.700000   \n",
              "2                  16.20000  ...                          11.0    40.700000   \n",
              "3                  36.97926  ...                           1.0    50.379549   \n",
              "4                  24.50000  ...                          69.0    53.900000   \n",
              "\n",
              "   pad_asr_per_100,000  marital_status  stramer_rate  inverse_pyll_metric  \\\n",
              "0            67.200000               1      0.261667             2.056338   \n",
              "1           181.600000               1      0.467149             1.271777   \n",
              "2           116.674772               0      0.311074             4.147727   \n",
              "3           116.674772               3      0.263523             5.000000   \n",
              "4            98.000000               2      0.368682             1.806931   \n",
              "\n",
              "   median_age    0    1    2  \n",
              "0       86.00  0.0  0.0  1.0  \n",
              "1       79.30  0.0  0.0  1.0  \n",
              "2       87.80  1.0  0.0  0.0  \n",
              "3       74.57  1.0  0.0  0.0  \n",
              "4       84.40  1.0  0.0  0.0  \n",
              "\n",
              "[5 rows x 23 columns]"
            ],
            "text/html": [
              "\n",
              "  <div id=\"df-a7a20071-1a08-4590-9704-efe84c7a575b\">\n",
              "    <div class=\"colab-df-container\">\n",
              "      <div>\n",
              "<style scoped>\n",
              "    .dataframe tbody tr th:only-of-type {\n",
              "        vertical-align: middle;\n",
              "    }\n",
              "\n",
              "    .dataframe tbody tr th {\n",
              "        vertical-align: top;\n",
              "    }\n",
              "\n",
              "    .dataframe thead th {\n",
              "        text-align: right;\n",
              "    }\n",
              "</style>\n",
              "<table border=\"1\" class=\"dataframe\">\n",
              "  <thead>\n",
              "    <tr style=\"text-align: right;\">\n",
              "      <th></th>\n",
              "      <th>category</th>\n",
              "      <th>year</th>\n",
              "      <th>gender</th>\n",
              "      <th>deaths</th>\n",
              "      <th>population</th>\n",
              "      <th>crude_rate</th>\n",
              "      <th>standardised_age_rate</th>\n",
              "      <th>rate_ratio</th>\n",
              "      <th>premature_deaths</th>\n",
              "      <th>premature_deaths_percent</th>\n",
              "      <th>...</th>\n",
              "      <th>potentially_avoidable_deaths</th>\n",
              "      <th>pad_percent</th>\n",
              "      <th>pad_asr_per_100,000</th>\n",
              "      <th>marital_status</th>\n",
              "      <th>stramer_rate</th>\n",
              "      <th>inverse_pyll_metric</th>\n",
              "      <th>median_age</th>\n",
              "      <th>0</th>\n",
              "      <th>1</th>\n",
              "      <th>2</th>\n",
              "    </tr>\n",
              "  </thead>\n",
              "  <tbody>\n",
              "    <tr>\n",
              "      <th>0</th>\n",
              "      <td>1</td>\n",
              "      <td>2016</td>\n",
              "      <td>Unknown</td>\n",
              "      <td>329.28</td>\n",
              "      <td>37099.0</td>\n",
              "      <td>792.5</td>\n",
              "      <td>428.300000</td>\n",
              "      <td>0.810000</td>\n",
              "      <td>68.0</td>\n",
              "      <td>23.10000</td>\n",
              "      <td>...</td>\n",
              "      <td>28.0</td>\n",
              "      <td>41.200000</td>\n",
              "      <td>67.200000</td>\n",
              "      <td>1</td>\n",
              "      <td>0.261667</td>\n",
              "      <td>2.056338</td>\n",
              "      <td>86.00</td>\n",
              "      <td>0.0</td>\n",
              "      <td>0.0</td>\n",
              "      <td>1.0</td>\n",
              "    </tr>\n",
              "    <tr>\n",
              "      <th>1</th>\n",
              "      <td>4</td>\n",
              "      <td>2013</td>\n",
              "      <td>Unknown</td>\n",
              "      <td>708.96</td>\n",
              "      <td>91348.0</td>\n",
              "      <td>693.0</td>\n",
              "      <td>702.500000</td>\n",
              "      <td>1.310000</td>\n",
              "      <td>262.0</td>\n",
              "      <td>41.40000</td>\n",
              "      <td>...</td>\n",
              "      <td>146.0</td>\n",
              "      <td>55.700000</td>\n",
              "      <td>181.600000</td>\n",
              "      <td>1</td>\n",
              "      <td>0.467149</td>\n",
              "      <td>1.271777</td>\n",
              "      <td>79.30</td>\n",
              "      <td>0.0</td>\n",
              "      <td>0.0</td>\n",
              "      <td>1.0</td>\n",
              "    </tr>\n",
              "    <tr>\n",
              "      <th>2</th>\n",
              "      <td>4</td>\n",
              "      <td>2014</td>\n",
              "      <td>F</td>\n",
              "      <td>187.04</td>\n",
              "      <td>18259.0</td>\n",
              "      <td>914.6</td>\n",
              "      <td>457.400000</td>\n",
              "      <td>1.030000</td>\n",
              "      <td>27.0</td>\n",
              "      <td>16.20000</td>\n",
              "      <td>...</td>\n",
              "      <td>11.0</td>\n",
              "      <td>40.700000</td>\n",
              "      <td>116.674772</td>\n",
              "      <td>0</td>\n",
              "      <td>0.311074</td>\n",
              "      <td>4.147727</td>\n",
              "      <td>87.80</td>\n",
              "      <td>1.0</td>\n",
              "      <td>0.0</td>\n",
              "      <td>0.0</td>\n",
              "    </tr>\n",
              "    <tr>\n",
              "      <th>3</th>\n",
              "      <td>1</td>\n",
              "      <td>2017</td>\n",
              "      <td>F</td>\n",
              "      <td>4.48</td>\n",
              "      <td>1362.0</td>\n",
              "      <td>327.1</td>\n",
              "      <td>547.742809</td>\n",
              "      <td>1.048957</td>\n",
              "      <td>2.0</td>\n",
              "      <td>36.97926</td>\n",
              "      <td>...</td>\n",
              "      <td>1.0</td>\n",
              "      <td>50.379549</td>\n",
              "      <td>116.674772</td>\n",
              "      <td>3</td>\n",
              "      <td>0.263523</td>\n",
              "      <td>5.000000</td>\n",
              "      <td>74.57</td>\n",
              "      <td>1.0</td>\n",
              "      <td>0.0</td>\n",
              "      <td>0.0</td>\n",
              "    </tr>\n",
              "    <tr>\n",
              "      <th>4</th>\n",
              "      <td>1</td>\n",
              "      <td>2014</td>\n",
              "      <td>F</td>\n",
              "      <td>585.76</td>\n",
              "      <td>47105.0</td>\n",
              "      <td>1110.9</td>\n",
              "      <td>469.600000</td>\n",
              "      <td>1.060000</td>\n",
              "      <td>128.0</td>\n",
              "      <td>24.50000</td>\n",
              "      <td>...</td>\n",
              "      <td>69.0</td>\n",
              "      <td>53.900000</td>\n",
              "      <td>98.000000</td>\n",
              "      <td>2</td>\n",
              "      <td>0.368682</td>\n",
              "      <td>1.806931</td>\n",
              "      <td>84.40</td>\n",
              "      <td>1.0</td>\n",
              "      <td>0.0</td>\n",
              "      <td>0.0</td>\n",
              "    </tr>\n",
              "  </tbody>\n",
              "</table>\n",
              "<p>5 rows × 23 columns</p>\n",
              "</div>\n",
              "      <button class=\"colab-df-convert\" onclick=\"convertToInteractive('df-a7a20071-1a08-4590-9704-efe84c7a575b')\"\n",
              "              title=\"Convert this dataframe to an interactive table.\"\n",
              "              style=\"display:none;\">\n",
              "        \n",
              "  <svg xmlns=\"http://www.w3.org/2000/svg\" height=\"24px\"viewBox=\"0 0 24 24\"\n",
              "       width=\"24px\">\n",
              "    <path d=\"M0 0h24v24H0V0z\" fill=\"none\"/>\n",
              "    <path d=\"M18.56 5.44l.94 2.06.94-2.06 2.06-.94-2.06-.94-.94-2.06-.94 2.06-2.06.94zm-11 1L8.5 8.5l.94-2.06 2.06-.94-2.06-.94L8.5 2.5l-.94 2.06-2.06.94zm10 10l.94 2.06.94-2.06 2.06-.94-2.06-.94-.94-2.06-.94 2.06-2.06.94z\"/><path d=\"M17.41 7.96l-1.37-1.37c-.4-.4-.92-.59-1.43-.59-.52 0-1.04.2-1.43.59L10.3 9.45l-7.72 7.72c-.78.78-.78 2.05 0 2.83L4 21.41c.39.39.9.59 1.41.59.51 0 1.02-.2 1.41-.59l7.78-7.78 2.81-2.81c.8-.78.8-2.07 0-2.86zM5.41 20L4 18.59l7.72-7.72 1.47 1.35L5.41 20z\"/>\n",
              "  </svg>\n",
              "      </button>\n",
              "      \n",
              "  <style>\n",
              "    .colab-df-container {\n",
              "      display:flex;\n",
              "      flex-wrap:wrap;\n",
              "      gap: 12px;\n",
              "    }\n",
              "\n",
              "    .colab-df-convert {\n",
              "      background-color: #E8F0FE;\n",
              "      border: none;\n",
              "      border-radius: 50%;\n",
              "      cursor: pointer;\n",
              "      display: none;\n",
              "      fill: #1967D2;\n",
              "      height: 32px;\n",
              "      padding: 0 0 0 0;\n",
              "      width: 32px;\n",
              "    }\n",
              "\n",
              "    .colab-df-convert:hover {\n",
              "      background-color: #E2EBFA;\n",
              "      box-shadow: 0px 1px 2px rgba(60, 64, 67, 0.3), 0px 1px 3px 1px rgba(60, 64, 67, 0.15);\n",
              "      fill: #174EA6;\n",
              "    }\n",
              "\n",
              "    [theme=dark] .colab-df-convert {\n",
              "      background-color: #3B4455;\n",
              "      fill: #D2E3FC;\n",
              "    }\n",
              "\n",
              "    [theme=dark] .colab-df-convert:hover {\n",
              "      background-color: #434B5C;\n",
              "      box-shadow: 0px 1px 3px 1px rgba(0, 0, 0, 0.15);\n",
              "      filter: drop-shadow(0px 1px 2px rgba(0, 0, 0, 0.3));\n",
              "      fill: #FFFFFF;\n",
              "    }\n",
              "  </style>\n",
              "\n",
              "      <script>\n",
              "        const buttonEl =\n",
              "          document.querySelector('#df-a7a20071-1a08-4590-9704-efe84c7a575b button.colab-df-convert');\n",
              "        buttonEl.style.display =\n",
              "          google.colab.kernel.accessAllowed ? 'block' : 'none';\n",
              "\n",
              "        async function convertToInteractive(key) {\n",
              "          const element = document.querySelector('#df-a7a20071-1a08-4590-9704-efe84c7a575b');\n",
              "          const dataTable =\n",
              "            await google.colab.kernel.invokeFunction('convertToInteractive',\n",
              "                                                     [key], {});\n",
              "          if (!dataTable) return;\n",
              "\n",
              "          const docLinkHtml = 'Like what you see? Visit the ' +\n",
              "            '<a target=\"_blank\" href=https://colab.research.google.com/notebooks/data_table.ipynb>data table notebook</a>'\n",
              "            + ' to learn more about interactive tables.';\n",
              "          element.innerHTML = '';\n",
              "          dataTable['output_type'] = 'display_data';\n",
              "          await google.colab.output.renderOutput(dataTable, element);\n",
              "          const docLink = document.createElement('div');\n",
              "          docLink.innerHTML = docLinkHtml;\n",
              "          element.appendChild(docLink);\n",
              "        }\n",
              "      </script>\n",
              "    </div>\n",
              "  </div>\n",
              "  "
            ]
          },
          "metadata": {},
          "execution_count": 93
        }
      ]
    },
    {
      "cell_type": "code",
      "source": [
        "enc_df_2 = pd.DataFrame(One_enc.fit_transform(test_encoded_df[['gender']]).toarray())\n",
        "test_encoded_df_final= test_encoded_df.join(enc_df_2)"
      ],
      "metadata": {
        "id": "6lZencDDEqA3"
      },
      "execution_count": null,
      "outputs": []
    },
    {
      "cell_type": "code",
      "source": [
        "train_encoded_df_final.info()"
      ],
      "metadata": {
        "colab": {
          "base_uri": "https://localhost:8080/"
        },
        "id": "ZwWxEsJaDmFX",
        "outputId": "6ca139f5-a462-4ea3-e55f-e5ace5170302"
      },
      "execution_count": null,
      "outputs": [
        {
          "output_type": "stream",
          "name": "stdout",
          "text": [
            "<class 'pandas.core.frame.DataFrame'>\n",
            "RangeIndex: 11835 entries, 0 to 11834\n",
            "Data columns (total 22 columns):\n",
            " #   Column                            Non-Null Count  Dtype  \n",
            "---  ------                            --------------  -----  \n",
            " 0   category                          11835 non-null  int64  \n",
            " 1   year                              11835 non-null  int64  \n",
            " 2   gender                            11835 non-null  object \n",
            " 3   deaths                            11835 non-null  float64\n",
            " 4   population                        11835 non-null  float64\n",
            " 5   crude_rate                        11835 non-null  float64\n",
            " 6   standardised_age_rate             11835 non-null  float64\n",
            " 7   rate_ratio                        11835 non-null  float64\n",
            " 8   premature_deaths                  11835 non-null  float64\n",
            " 9   premature_deaths_percent          11835 non-null  float64\n",
            " 10  premature_deaths_asr_per_100,000  11835 non-null  float64\n",
            " 11  potential_years_of_life_lost      11835 non-null  float64\n",
            " 12  leverman_rate                     11835 non-null  float64\n",
            " 13  potentially_avoidable_deaths      11835 non-null  float64\n",
            " 14  pad_percent                       11835 non-null  float64\n",
            " 15  pad_asr_per_100,000               11835 non-null  float64\n",
            " 16  marital_status                    11835 non-null  int64  \n",
            " 17  stramer_rate                      11835 non-null  float64\n",
            " 18  inverse_pyll_metric               11835 non-null  float64\n",
            " 19  median_age                        11835 non-null  float64\n",
            " 20  0                                 11835 non-null  float64\n",
            " 21  1                                 11835 non-null  float64\n",
            "dtypes: float64(18), int64(3), object(1)\n",
            "memory usage: 2.0+ MB\n"
          ]
        }
      ]
    },
    {
      "cell_type": "code",
      "source": [
        "test_encoded_df_final.info()"
      ],
      "metadata": {
        "colab": {
          "base_uri": "https://localhost:8080/"
        },
        "id": "UZSGx2eVEyyc",
        "outputId": "b03c8e5f-30a7-4d08-c665-fd870103bf3d"
      },
      "execution_count": null,
      "outputs": [
        {
          "output_type": "stream",
          "name": "stdout",
          "text": [
            "<class 'pandas.core.frame.DataFrame'>\n",
            "RangeIndex: 3945 entries, 0 to 3944\n",
            "Data columns (total 21 columns):\n",
            " #   Column                            Non-Null Count  Dtype  \n",
            "---  ------                            --------------  -----  \n",
            " 0   category                          3945 non-null   int64  \n",
            " 1   year                              3945 non-null   int64  \n",
            " 2   gender                            3945 non-null   object \n",
            " 3   deaths                            3945 non-null   float64\n",
            " 4   population                        3945 non-null   float64\n",
            " 5   crude_rate                        3945 non-null   float64\n",
            " 6   standardised_age_rate             3945 non-null   float64\n",
            " 7   rate_ratio                        3945 non-null   float64\n",
            " 8   premature_deaths                  3945 non-null   float64\n",
            " 9   premature_deaths_percent          3945 non-null   float64\n",
            " 10  premature_deaths_asr_per_100,000  3945 non-null   float64\n",
            " 11  potential_years_of_life_lost      3945 non-null   float64\n",
            " 12  leverman_rate                     3945 non-null   float64\n",
            " 13  potentially_avoidable_deaths      3945 non-null   float64\n",
            " 14  pad_percent                       3945 non-null   float64\n",
            " 15  pad_asr_per_100,000               3945 non-null   float64\n",
            " 16  marital_status                    3945 non-null   int64  \n",
            " 17  stramer_rate                      3945 non-null   float64\n",
            " 18  inverse_pyll_metric               3945 non-null   float64\n",
            " 19  0                                 3945 non-null   float64\n",
            " 20  1                                 3945 non-null   float64\n",
            "dtypes: float64(17), int64(3), object(1)\n",
            "memory usage: 647.4+ KB\n"
          ]
        }
      ]
    },
    {
      "cell_type": "code",
      "source": [
        "train_encoded_df_final.drop('gender',axis=1,inplace=True)\n",
        "test_encoded_df_final.drop('gender',axis=1,inplace=True)"
      ],
      "metadata": {
        "id": "ZPaMm1nVE42u"
      },
      "execution_count": null,
      "outputs": []
    },
    {
      "cell_type": "code",
      "source": [
        "train_encoded_df_final.info()"
      ],
      "metadata": {
        "colab": {
          "base_uri": "https://localhost:8080/"
        },
        "id": "y4pd9M-8JJnO",
        "outputId": "a74f9e47-e3e7-4615-f3ee-afc39e7bf0f8"
      },
      "execution_count": null,
      "outputs": [
        {
          "output_type": "stream",
          "name": "stdout",
          "text": [
            "<class 'pandas.core.frame.DataFrame'>\n",
            "RangeIndex: 11835 entries, 0 to 11834\n",
            "Data columns (total 21 columns):\n",
            " #   Column                            Non-Null Count  Dtype  \n",
            "---  ------                            --------------  -----  \n",
            " 0   category                          11835 non-null  int64  \n",
            " 1   year                              11835 non-null  int64  \n",
            " 2   deaths                            11835 non-null  float64\n",
            " 3   population                        11835 non-null  float64\n",
            " 4   crude_rate                        11835 non-null  float64\n",
            " 5   standardised_age_rate             11835 non-null  float64\n",
            " 6   rate_ratio                        11835 non-null  float64\n",
            " 7   premature_deaths                  11835 non-null  float64\n",
            " 8   premature_deaths_percent          11835 non-null  float64\n",
            " 9   premature_deaths_asr_per_100,000  11835 non-null  float64\n",
            " 10  potential_years_of_life_lost      11835 non-null  float64\n",
            " 11  leverman_rate                     11835 non-null  float64\n",
            " 12  potentially_avoidable_deaths      11835 non-null  float64\n",
            " 13  pad_percent                       11835 non-null  float64\n",
            " 14  pad_asr_per_100,000               11835 non-null  float64\n",
            " 15  marital_status                    11835 non-null  int64  \n",
            " 16  stramer_rate                      11835 non-null  float64\n",
            " 17  inverse_pyll_metric               11835 non-null  float64\n",
            " 18  median_age                        11835 non-null  float64\n",
            " 19  0                                 11835 non-null  float64\n",
            " 20  1                                 11835 non-null  float64\n",
            "dtypes: float64(18), int64(3)\n",
            "memory usage: 1.9 MB\n"
          ]
        }
      ]
    },
    {
      "cell_type": "code",
      "source": [
        "from sklearn.preprocessing import MinMaxScaler,StandardScaler\n",
        "mms = MinMaxScaler()\n",
        "ss = StandardScaler()\n",
        "train_encoded_df_final['population']=ss.fit_transform(train_encoded_df[['population']])\n",
        "train_encoded_df_final['crude_rate']=ss.fit_transform(train_encoded_df[['crude_rate']])\n",
        "train_encoded_df_final['standardised_age_rate']=ss.fit_transform(train_encoded_df[['standardised_age_rate']])\n",
        "train_encoded_df_final['rate_ratio']=ss.fit_transform(train_encoded_df[['rate_ratio']])\n",
        "train_encoded_df_final['premature_deaths']=ss.fit_transform(train_encoded_df[['premature_deaths']])\n",
        "train_encoded_df_final['premature_deaths_percent']=ss.fit_transform(train_encoded_df[['premature_deaths_percent']])\n",
        "train_encoded_df_final['premature_deaths_asr_per_100,000']=ss.fit_transform(train_encoded_df[['premature_deaths_asr_per_100,000']])\n",
        "train_encoded_df_final['potential_years_of_life_lost']=ss.fit_transform(train_encoded_df[['potential_years_of_life_lost']])\n",
        "train_encoded_df_final['leverman_rate']=ss.fit_transform(train_encoded_df[['leverman_rate']])\n"
      ],
      "metadata": {
        "id": "sWwRwVkyGOaP"
      },
      "execution_count": null,
      "outputs": []
    },
    {
      "cell_type": "code",
      "source": [
        "train_encoded_df_final['potentially_avoidable_deaths']=ss.fit_transform(train_encoded_df[['potentially_avoidable_deaths']])\n",
        "train_encoded_df_final['pad_percent']=ss.fit_transform(train_encoded_df[['pad_percent']])\n",
        "train_encoded_df_final['pad_asr_per_100,000']=ss.fit_transform(train_encoded_df[['pad_asr_per_100,000']])\n",
        "train_encoded_df_final['potentially_avoidable_deaths']=ss.fit_transform(train_encoded_df[['potentially_avoidable_deaths']])\n",
        "train_encoded_df_final['stramer_rate']=ss.fit_transform(train_encoded_df[['stramer_rate']])\n",
        "train_encoded_df_final['inverse_pyll_metric']=ss.fit_transform(train_encoded_df[['inverse_pyll_metric']])\n"
      ],
      "metadata": {
        "id": "btD2skQWKmTG"
      },
      "execution_count": null,
      "outputs": []
    },
    {
      "cell_type": "code",
      "source": [
        "train_encoded_df_final['deaths']=ss.fit_transform(train_encoded_df[['deaths']])"
      ],
      "metadata": {
        "id": "O_1Tk3S6KtCC"
      },
      "execution_count": null,
      "outputs": []
    },
    {
      "cell_type": "code",
      "source": [
        "test_encoded_df_final['population']=ss.fit_transform(test_encoded_df_final[['population']])\n",
        "test_encoded_df_final['crude_rate']=ss.fit_transform(test_encoded_df_final[['crude_rate']])\n",
        "test_encoded_df_final['standardised_age_rate']=ss.fit_transform(test_encoded_df_final[['standardised_age_rate']])\n",
        "test_encoded_df_final['rate_ratio']=ss.fit_transform(test_encoded_df_final[['rate_ratio']])\n",
        "test_encoded_df_final['premature_deaths']=ss.fit_transform(test_encoded_df_final[['premature_deaths']])\n",
        "test_encoded_df_final['premature_deaths_percent']=ss.fit_transform(test_encoded_df_final[['premature_deaths_percent']])\n",
        "test_encoded_df_final['premature_deaths_asr_per_100,000']=ss.fit_transform(test_encoded_df_final[['premature_deaths_asr_per_100,000']])\n",
        "test_encoded_df_final['potential_years_of_life_lost']=ss.fit_transform(test_encoded_df_final[['potential_years_of_life_lost']])\n",
        "test_encoded_df_final['leverman_rate']=ss.fit_transform(test_encoded_df_final[['leverman_rate']])\n",
        "test_encoded_df_final['potentially_avoidable_deaths']=ss.fit_transform(test_encoded_df_final[['potentially_avoidable_deaths']])\n",
        "test_encoded_df_final['pad_percent']=ss.fit_transform(test_encoded_df_final[['pad_percent']])\n",
        "test_encoded_df_final['pad_asr_per_100,000']=ss.fit_transform(test_encoded_df_final[['pad_asr_per_100,000']])\n",
        "test_encoded_df_final['potentially_avoidable_deaths']=ss.fit_transform(test_encoded_df_final[['potentially_avoidable_deaths']])\n",
        "test_encoded_df_final['stramer_rate']=ss.fit_transform(test_encoded_df_final[['stramer_rate']])\n",
        "test_encoded_df_final['inverse_pyll_metric']=ss.fit_transform(test_encoded_df_final[['inverse_pyll_metric']])\n",
        "\n"
      ],
      "metadata": {
        "id": "r4KJVTovLAdK"
      },
      "execution_count": null,
      "outputs": []
    },
    {
      "cell_type": "code",
      "source": [
        "test_encoded_df_final['deaths']=ss.fit_transform(test_encoded_df[['deaths']])"
      ],
      "metadata": {
        "id": "HOgfwtraLkKi"
      },
      "execution_count": null,
      "outputs": []
    },
    {
      "cell_type": "code",
      "source": [
        "test_encoded_df_final.head()"
      ],
      "metadata": {
        "colab": {
          "base_uri": "https://localhost:8080/",
          "height": 270
        },
        "id": "AwDr4cfPLeKv",
        "outputId": "96af55fa-c486-4124-d3a4-8b60b42e34aa"
      },
      "execution_count": null,
      "outputs": [
        {
          "output_type": "execute_result",
          "data": {
            "text/plain": [
              "   category  year    deaths  population  crude_rate  standardised_age_rate  \\\n",
              "0         1  2016 -0.162251   -0.162108   -1.133382               0.000000   \n",
              "1         1  2015 -0.161908   -0.162966    0.640331              -0.036306   \n",
              "2         1  2017 -0.158475   -0.156472   -1.131804              -1.935903   \n",
              "3         1  2017 -0.158904   -0.161037    0.948442              -0.457407   \n",
              "4         4  2013 -0.154527   -0.156886    0.327485               2.391566   \n",
              "\n",
              "   rate_ratio  premature_deaths  premature_deaths_percent  \\\n",
              "0    0.000000         -0.162217                  2.189223   \n",
              "1   -0.780238         -0.162961                  0.071924   \n",
              "2   -2.760046         -0.161226                 -1.034484   \n",
              "3    0.924597         -0.162217                 -1.400633   \n",
              "4    1.419549         -0.151809                  0.979338   \n",
              "\n",
              "   premature_deaths_asr_per_100,000  potential_years_of_life_lost  \\\n",
              "0                     -4.214231e-16                     -0.162732   \n",
              "1                     -4.214231e-16                     -0.163249   \n",
              "2                     -4.214231e-16                     -0.161910   \n",
              "3                     -4.214231e-16                     -0.162063   \n",
              "4                      1.995358e+00                     -0.152217   \n",
              "\n",
              "   leverman_rate  potentially_avoidable_deaths  pad_percent  \\\n",
              "0      -0.625117                     -0.161079     1.894219   \n",
              "1      -0.295218                     -0.162560     0.000000   \n",
              "2      -1.307668                     -0.161573    -1.081058   \n",
              "3      -0.613741                     -0.162066    -0.694845   \n",
              "4       0.641394                     -0.147756     1.980044   \n",
              "\n",
              "   pad_asr_per_100,000  marital_status  stramer_rate  inverse_pyll_metric  \\\n",
              "0        -3.812317e-16               2     -0.781588             0.034414   \n",
              "1        -3.812317e-16               1     -1.196733            -0.090936   \n",
              "2        -3.812317e-16               2     -2.223328             0.781405   \n",
              "3        -3.812317e-16               1     -0.021482             0.028975   \n",
              "4         3.158752e+00               1      0.518202            -0.265622   \n",
              "\n",
              "     0    1  \n",
              "0  0.0  1.0  \n",
              "1  0.0  1.0  \n",
              "2  0.0  1.0  \n",
              "3  1.0  0.0  \n",
              "4  0.0  1.0  "
            ],
            "text/html": [
              "\n",
              "  <div id=\"df-e86b1941-9319-447e-b99d-484271da6a7e\">\n",
              "    <div class=\"colab-df-container\">\n",
              "      <div>\n",
              "<style scoped>\n",
              "    .dataframe tbody tr th:only-of-type {\n",
              "        vertical-align: middle;\n",
              "    }\n",
              "\n",
              "    .dataframe tbody tr th {\n",
              "        vertical-align: top;\n",
              "    }\n",
              "\n",
              "    .dataframe thead th {\n",
              "        text-align: right;\n",
              "    }\n",
              "</style>\n",
              "<table border=\"1\" class=\"dataframe\">\n",
              "  <thead>\n",
              "    <tr style=\"text-align: right;\">\n",
              "      <th></th>\n",
              "      <th>category</th>\n",
              "      <th>year</th>\n",
              "      <th>deaths</th>\n",
              "      <th>population</th>\n",
              "      <th>crude_rate</th>\n",
              "      <th>standardised_age_rate</th>\n",
              "      <th>rate_ratio</th>\n",
              "      <th>premature_deaths</th>\n",
              "      <th>premature_deaths_percent</th>\n",
              "      <th>premature_deaths_asr_per_100,000</th>\n",
              "      <th>potential_years_of_life_lost</th>\n",
              "      <th>leverman_rate</th>\n",
              "      <th>potentially_avoidable_deaths</th>\n",
              "      <th>pad_percent</th>\n",
              "      <th>pad_asr_per_100,000</th>\n",
              "      <th>marital_status</th>\n",
              "      <th>stramer_rate</th>\n",
              "      <th>inverse_pyll_metric</th>\n",
              "      <th>0</th>\n",
              "      <th>1</th>\n",
              "    </tr>\n",
              "  </thead>\n",
              "  <tbody>\n",
              "    <tr>\n",
              "      <th>0</th>\n",
              "      <td>1</td>\n",
              "      <td>2016</td>\n",
              "      <td>-0.162251</td>\n",
              "      <td>-0.162108</td>\n",
              "      <td>-1.133382</td>\n",
              "      <td>0.000000</td>\n",
              "      <td>0.000000</td>\n",
              "      <td>-0.162217</td>\n",
              "      <td>2.189223</td>\n",
              "      <td>-4.214231e-16</td>\n",
              "      <td>-0.162732</td>\n",
              "      <td>-0.625117</td>\n",
              "      <td>-0.161079</td>\n",
              "      <td>1.894219</td>\n",
              "      <td>-3.812317e-16</td>\n",
              "      <td>2</td>\n",
              "      <td>-0.781588</td>\n",
              "      <td>0.034414</td>\n",
              "      <td>0.0</td>\n",
              "      <td>1.0</td>\n",
              "    </tr>\n",
              "    <tr>\n",
              "      <th>1</th>\n",
              "      <td>1</td>\n",
              "      <td>2015</td>\n",
              "      <td>-0.161908</td>\n",
              "      <td>-0.162966</td>\n",
              "      <td>0.640331</td>\n",
              "      <td>-0.036306</td>\n",
              "      <td>-0.780238</td>\n",
              "      <td>-0.162961</td>\n",
              "      <td>0.071924</td>\n",
              "      <td>-4.214231e-16</td>\n",
              "      <td>-0.163249</td>\n",
              "      <td>-0.295218</td>\n",
              "      <td>-0.162560</td>\n",
              "      <td>0.000000</td>\n",
              "      <td>-3.812317e-16</td>\n",
              "      <td>1</td>\n",
              "      <td>-1.196733</td>\n",
              "      <td>-0.090936</td>\n",
              "      <td>0.0</td>\n",
              "      <td>1.0</td>\n",
              "    </tr>\n",
              "    <tr>\n",
              "      <th>2</th>\n",
              "      <td>1</td>\n",
              "      <td>2017</td>\n",
              "      <td>-0.158475</td>\n",
              "      <td>-0.156472</td>\n",
              "      <td>-1.131804</td>\n",
              "      <td>-1.935903</td>\n",
              "      <td>-2.760046</td>\n",
              "      <td>-0.161226</td>\n",
              "      <td>-1.034484</td>\n",
              "      <td>-4.214231e-16</td>\n",
              "      <td>-0.161910</td>\n",
              "      <td>-1.307668</td>\n",
              "      <td>-0.161573</td>\n",
              "      <td>-1.081058</td>\n",
              "      <td>-3.812317e-16</td>\n",
              "      <td>2</td>\n",
              "      <td>-2.223328</td>\n",
              "      <td>0.781405</td>\n",
              "      <td>0.0</td>\n",
              "      <td>1.0</td>\n",
              "    </tr>\n",
              "    <tr>\n",
              "      <th>3</th>\n",
              "      <td>1</td>\n",
              "      <td>2017</td>\n",
              "      <td>-0.158904</td>\n",
              "      <td>-0.161037</td>\n",
              "      <td>0.948442</td>\n",
              "      <td>-0.457407</td>\n",
              "      <td>0.924597</td>\n",
              "      <td>-0.162217</td>\n",
              "      <td>-1.400633</td>\n",
              "      <td>-4.214231e-16</td>\n",
              "      <td>-0.162063</td>\n",
              "      <td>-0.613741</td>\n",
              "      <td>-0.162066</td>\n",
              "      <td>-0.694845</td>\n",
              "      <td>-3.812317e-16</td>\n",
              "      <td>1</td>\n",
              "      <td>-0.021482</td>\n",
              "      <td>0.028975</td>\n",
              "      <td>1.0</td>\n",
              "      <td>0.0</td>\n",
              "    </tr>\n",
              "    <tr>\n",
              "      <th>4</th>\n",
              "      <td>4</td>\n",
              "      <td>2013</td>\n",
              "      <td>-0.154527</td>\n",
              "      <td>-0.156886</td>\n",
              "      <td>0.327485</td>\n",
              "      <td>2.391566</td>\n",
              "      <td>1.419549</td>\n",
              "      <td>-0.151809</td>\n",
              "      <td>0.979338</td>\n",
              "      <td>1.995358e+00</td>\n",
              "      <td>-0.152217</td>\n",
              "      <td>0.641394</td>\n",
              "      <td>-0.147756</td>\n",
              "      <td>1.980044</td>\n",
              "      <td>3.158752e+00</td>\n",
              "      <td>1</td>\n",
              "      <td>0.518202</td>\n",
              "      <td>-0.265622</td>\n",
              "      <td>0.0</td>\n",
              "      <td>1.0</td>\n",
              "    </tr>\n",
              "  </tbody>\n",
              "</table>\n",
              "</div>\n",
              "      <button class=\"colab-df-convert\" onclick=\"convertToInteractive('df-e86b1941-9319-447e-b99d-484271da6a7e')\"\n",
              "              title=\"Convert this dataframe to an interactive table.\"\n",
              "              style=\"display:none;\">\n",
              "        \n",
              "  <svg xmlns=\"http://www.w3.org/2000/svg\" height=\"24px\"viewBox=\"0 0 24 24\"\n",
              "       width=\"24px\">\n",
              "    <path d=\"M0 0h24v24H0V0z\" fill=\"none\"/>\n",
              "    <path d=\"M18.56 5.44l.94 2.06.94-2.06 2.06-.94-2.06-.94-.94-2.06-.94 2.06-2.06.94zm-11 1L8.5 8.5l.94-2.06 2.06-.94-2.06-.94L8.5 2.5l-.94 2.06-2.06.94zm10 10l.94 2.06.94-2.06 2.06-.94-2.06-.94-.94-2.06-.94 2.06-2.06.94z\"/><path d=\"M17.41 7.96l-1.37-1.37c-.4-.4-.92-.59-1.43-.59-.52 0-1.04.2-1.43.59L10.3 9.45l-7.72 7.72c-.78.78-.78 2.05 0 2.83L4 21.41c.39.39.9.59 1.41.59.51 0 1.02-.2 1.41-.59l7.78-7.78 2.81-2.81c.8-.78.8-2.07 0-2.86zM5.41 20L4 18.59l7.72-7.72 1.47 1.35L5.41 20z\"/>\n",
              "  </svg>\n",
              "      </button>\n",
              "      \n",
              "  <style>\n",
              "    .colab-df-container {\n",
              "      display:flex;\n",
              "      flex-wrap:wrap;\n",
              "      gap: 12px;\n",
              "    }\n",
              "\n",
              "    .colab-df-convert {\n",
              "      background-color: #E8F0FE;\n",
              "      border: none;\n",
              "      border-radius: 50%;\n",
              "      cursor: pointer;\n",
              "      display: none;\n",
              "      fill: #1967D2;\n",
              "      height: 32px;\n",
              "      padding: 0 0 0 0;\n",
              "      width: 32px;\n",
              "    }\n",
              "\n",
              "    .colab-df-convert:hover {\n",
              "      background-color: #E2EBFA;\n",
              "      box-shadow: 0px 1px 2px rgba(60, 64, 67, 0.3), 0px 1px 3px 1px rgba(60, 64, 67, 0.15);\n",
              "      fill: #174EA6;\n",
              "    }\n",
              "\n",
              "    [theme=dark] .colab-df-convert {\n",
              "      background-color: #3B4455;\n",
              "      fill: #D2E3FC;\n",
              "    }\n",
              "\n",
              "    [theme=dark] .colab-df-convert:hover {\n",
              "      background-color: #434B5C;\n",
              "      box-shadow: 0px 1px 3px 1px rgba(0, 0, 0, 0.15);\n",
              "      filter: drop-shadow(0px 1px 2px rgba(0, 0, 0, 0.3));\n",
              "      fill: #FFFFFF;\n",
              "    }\n",
              "  </style>\n",
              "\n",
              "      <script>\n",
              "        const buttonEl =\n",
              "          document.querySelector('#df-e86b1941-9319-447e-b99d-484271da6a7e button.colab-df-convert');\n",
              "        buttonEl.style.display =\n",
              "          google.colab.kernel.accessAllowed ? 'block' : 'none';\n",
              "\n",
              "        async function convertToInteractive(key) {\n",
              "          const element = document.querySelector('#df-e86b1941-9319-447e-b99d-484271da6a7e');\n",
              "          const dataTable =\n",
              "            await google.colab.kernel.invokeFunction('convertToInteractive',\n",
              "                                                     [key], {});\n",
              "          if (!dataTable) return;\n",
              "\n",
              "          const docLinkHtml = 'Like what you see? Visit the ' +\n",
              "            '<a target=\"_blank\" href=https://colab.research.google.com/notebooks/data_table.ipynb>data table notebook</a>'\n",
              "            + ' to learn more about interactive tables.';\n",
              "          element.innerHTML = '';\n",
              "          dataTable['output_type'] = 'display_data';\n",
              "          await google.colab.output.renderOutput(dataTable, element);\n",
              "          const docLink = document.createElement('div');\n",
              "          docLink.innerHTML = docLinkHtml;\n",
              "          element.appendChild(docLink);\n",
              "        }\n",
              "      </script>\n",
              "    </div>\n",
              "  </div>\n",
              "  "
            ]
          },
          "metadata": {},
          "execution_count": 38
        }
      ]
    },
    {
      "cell_type": "code",
      "source": [
        "train_encoded_df_final['year']= label_encoder.fit_transform(train_encoded_df_final['year'])\n",
        "  \n",
        "test_encoded_df_final['year']= label_encoder.fit_transform(test_encoded_df_final['year'])"
      ],
      "metadata": {
        "id": "GHUFs7CfLqhX"
      },
      "execution_count": null,
      "outputs": []
    },
    {
      "cell_type": "code",
      "source": [
        "test_encoded_df_final.info()"
      ],
      "metadata": {
        "colab": {
          "base_uri": "https://localhost:8080/"
        },
        "id": "I2fB05TKL5hK",
        "outputId": "69db6cd1-8464-455b-d3b1-2efe1cfbd0cd"
      },
      "execution_count": null,
      "outputs": [
        {
          "output_type": "stream",
          "name": "stdout",
          "text": [
            "<class 'pandas.core.frame.DataFrame'>\n",
            "RangeIndex: 3945 entries, 0 to 3944\n",
            "Data columns (total 20 columns):\n",
            " #   Column                            Non-Null Count  Dtype  \n",
            "---  ------                            --------------  -----  \n",
            " 0   category                          3945 non-null   int64  \n",
            " 1   year                              3945 non-null   int64  \n",
            " 2   deaths                            3945 non-null   float64\n",
            " 3   population                        3945 non-null   float64\n",
            " 4   crude_rate                        3945 non-null   float64\n",
            " 5   standardised_age_rate             3945 non-null   float64\n",
            " 6   rate_ratio                        3945 non-null   float64\n",
            " 7   premature_deaths                  3945 non-null   float64\n",
            " 8   premature_deaths_percent          3945 non-null   float64\n",
            " 9   premature_deaths_asr_per_100,000  3945 non-null   float64\n",
            " 10  potential_years_of_life_lost      3945 non-null   float64\n",
            " 11  leverman_rate                     3945 non-null   float64\n",
            " 12  potentially_avoidable_deaths      3945 non-null   float64\n",
            " 13  pad_percent                       3945 non-null   float64\n",
            " 14  pad_asr_per_100,000               3945 non-null   float64\n",
            " 15  marital_status                    3945 non-null   int64  \n",
            " 16  stramer_rate                      3945 non-null   float64\n",
            " 17  inverse_pyll_metric               3945 non-null   float64\n",
            " 18  0                                 3945 non-null   float64\n",
            " 19  1                                 3945 non-null   float64\n",
            "dtypes: float64(17), int64(3)\n",
            "memory usage: 616.5 KB\n"
          ]
        }
      ]
    },
    {
      "cell_type": "code",
      "source": [
        "train_encoded_df_final.head()"
      ],
      "metadata": {
        "colab": {
          "base_uri": "https://localhost:8080/",
          "height": 299
        },
        "id": "zWzO9_DuL-Q2",
        "outputId": "d1eb5bee-a267-4c70-ded4-655ae8e37160"
      },
      "execution_count": null,
      "outputs": [
        {
          "output_type": "execute_result",
          "data": {
            "text/plain": [
              "   category  year    deaths  population  crude_rate  standardised_age_rate  \\\n",
              "0         1     3 -0.124327   -0.130104    0.287173          -1.006371e+00   \n",
              "1         4     0 -0.090776   -0.095592   -0.101195           1.303914e+00   \n",
              "2         4     1 -0.136897   -0.142090    0.763754          -7.611879e-01   \n",
              "3         1     4 -0.153029   -0.152839   -1.529377          -9.578742e-16   \n",
              "4         1     1 -0.101663   -0.123738    1.529952          -6.583962e-01   \n",
              "\n",
              "   rate_ratio  premature_deaths  premature_deaths_percent  \\\n",
              "0   -1.342855         -0.133985             -1.101477e+00   \n",
              "1    1.466968         -0.077526              3.508359e-01   \n",
              "2   -0.106533         -0.145918             -1.649070e+00   \n",
              "3    0.000000         -0.153193             -5.638964e-16   \n",
              "4    0.062057         -0.116524             -9.903711e-01   \n",
              "\n",
              "   premature_deaths_asr_per_100,000  ...  leverman_rate  \\\n",
              "0                         -0.905223  ...      -0.473688   \n",
              "1                          1.485247  ...       0.325312   \n",
              "2                         -1.445007  ...      -1.126753   \n",
              "3                          0.000000  ...      -1.236205   \n",
              "4                         -0.789555  ...      -0.294917   \n",
              "\n",
              "   potentially_avoidable_deaths   pad_percent  pad_asr_per_100,000  \\\n",
              "0                     -0.137013 -1.338895e+00        -1.301667e+00   \n",
              "1                     -0.068568  7.760215e-01         1.708164e+00   \n",
              "2                     -0.146873 -1.411824e+00        -3.738835e-16   \n",
              "3                     -0.152674 -1.036372e-15        -3.738835e-16   \n",
              "4                     -0.113231  5.134801e-01        -4.913279e-01   \n",
              "\n",
              "   marital_status  stramer_rate  inverse_pyll_metric  median_age    0    1  \n",
              "0               1     -0.893053            -0.029830       86.00  1.0  0.0  \n",
              "1               1      1.697396            -0.218025       79.30  1.0  0.0  \n",
              "2               0     -0.270199             0.471838       87.80  1.0  0.0  \n",
              "3               1     -0.869653             0.676275       74.57  1.0  0.0  \n",
              "4               2      0.456051            -0.089656       84.40  1.0  0.0  \n",
              "\n",
              "[5 rows x 21 columns]"
            ],
            "text/html": [
              "\n",
              "  <div id=\"df-729280d4-53f2-402c-9845-64e1fcc7370a\">\n",
              "    <div class=\"colab-df-container\">\n",
              "      <div>\n",
              "<style scoped>\n",
              "    .dataframe tbody tr th:only-of-type {\n",
              "        vertical-align: middle;\n",
              "    }\n",
              "\n",
              "    .dataframe tbody tr th {\n",
              "        vertical-align: top;\n",
              "    }\n",
              "\n",
              "    .dataframe thead th {\n",
              "        text-align: right;\n",
              "    }\n",
              "</style>\n",
              "<table border=\"1\" class=\"dataframe\">\n",
              "  <thead>\n",
              "    <tr style=\"text-align: right;\">\n",
              "      <th></th>\n",
              "      <th>category</th>\n",
              "      <th>year</th>\n",
              "      <th>deaths</th>\n",
              "      <th>population</th>\n",
              "      <th>crude_rate</th>\n",
              "      <th>standardised_age_rate</th>\n",
              "      <th>rate_ratio</th>\n",
              "      <th>premature_deaths</th>\n",
              "      <th>premature_deaths_percent</th>\n",
              "      <th>premature_deaths_asr_per_100,000</th>\n",
              "      <th>...</th>\n",
              "      <th>leverman_rate</th>\n",
              "      <th>potentially_avoidable_deaths</th>\n",
              "      <th>pad_percent</th>\n",
              "      <th>pad_asr_per_100,000</th>\n",
              "      <th>marital_status</th>\n",
              "      <th>stramer_rate</th>\n",
              "      <th>inverse_pyll_metric</th>\n",
              "      <th>median_age</th>\n",
              "      <th>0</th>\n",
              "      <th>1</th>\n",
              "    </tr>\n",
              "  </thead>\n",
              "  <tbody>\n",
              "    <tr>\n",
              "      <th>0</th>\n",
              "      <td>1</td>\n",
              "      <td>3</td>\n",
              "      <td>-0.124327</td>\n",
              "      <td>-0.130104</td>\n",
              "      <td>0.287173</td>\n",
              "      <td>-1.006371e+00</td>\n",
              "      <td>-1.342855</td>\n",
              "      <td>-0.133985</td>\n",
              "      <td>-1.101477e+00</td>\n",
              "      <td>-0.905223</td>\n",
              "      <td>...</td>\n",
              "      <td>-0.473688</td>\n",
              "      <td>-0.137013</td>\n",
              "      <td>-1.338895e+00</td>\n",
              "      <td>-1.301667e+00</td>\n",
              "      <td>1</td>\n",
              "      <td>-0.893053</td>\n",
              "      <td>-0.029830</td>\n",
              "      <td>86.00</td>\n",
              "      <td>1.0</td>\n",
              "      <td>0.0</td>\n",
              "    </tr>\n",
              "    <tr>\n",
              "      <th>1</th>\n",
              "      <td>4</td>\n",
              "      <td>0</td>\n",
              "      <td>-0.090776</td>\n",
              "      <td>-0.095592</td>\n",
              "      <td>-0.101195</td>\n",
              "      <td>1.303914e+00</td>\n",
              "      <td>1.466968</td>\n",
              "      <td>-0.077526</td>\n",
              "      <td>3.508359e-01</td>\n",
              "      <td>1.485247</td>\n",
              "      <td>...</td>\n",
              "      <td>0.325312</td>\n",
              "      <td>-0.068568</td>\n",
              "      <td>7.760215e-01</td>\n",
              "      <td>1.708164e+00</td>\n",
              "      <td>1</td>\n",
              "      <td>1.697396</td>\n",
              "      <td>-0.218025</td>\n",
              "      <td>79.30</td>\n",
              "      <td>1.0</td>\n",
              "      <td>0.0</td>\n",
              "    </tr>\n",
              "    <tr>\n",
              "      <th>2</th>\n",
              "      <td>4</td>\n",
              "      <td>1</td>\n",
              "      <td>-0.136897</td>\n",
              "      <td>-0.142090</td>\n",
              "      <td>0.763754</td>\n",
              "      <td>-7.611879e-01</td>\n",
              "      <td>-0.106533</td>\n",
              "      <td>-0.145918</td>\n",
              "      <td>-1.649070e+00</td>\n",
              "      <td>-1.445007</td>\n",
              "      <td>...</td>\n",
              "      <td>-1.126753</td>\n",
              "      <td>-0.146873</td>\n",
              "      <td>-1.411824e+00</td>\n",
              "      <td>-3.738835e-16</td>\n",
              "      <td>0</td>\n",
              "      <td>-0.270199</td>\n",
              "      <td>0.471838</td>\n",
              "      <td>87.80</td>\n",
              "      <td>1.0</td>\n",
              "      <td>0.0</td>\n",
              "    </tr>\n",
              "    <tr>\n",
              "      <th>3</th>\n",
              "      <td>1</td>\n",
              "      <td>4</td>\n",
              "      <td>-0.153029</td>\n",
              "      <td>-0.152839</td>\n",
              "      <td>-1.529377</td>\n",
              "      <td>-9.578742e-16</td>\n",
              "      <td>0.000000</td>\n",
              "      <td>-0.153193</td>\n",
              "      <td>-5.638964e-16</td>\n",
              "      <td>0.000000</td>\n",
              "      <td>...</td>\n",
              "      <td>-1.236205</td>\n",
              "      <td>-0.152674</td>\n",
              "      <td>-1.036372e-15</td>\n",
              "      <td>-3.738835e-16</td>\n",
              "      <td>1</td>\n",
              "      <td>-0.869653</td>\n",
              "      <td>0.676275</td>\n",
              "      <td>74.57</td>\n",
              "      <td>1.0</td>\n",
              "      <td>0.0</td>\n",
              "    </tr>\n",
              "    <tr>\n",
              "      <th>4</th>\n",
              "      <td>1</td>\n",
              "      <td>1</td>\n",
              "      <td>-0.101663</td>\n",
              "      <td>-0.123738</td>\n",
              "      <td>1.529952</td>\n",
              "      <td>-6.583962e-01</td>\n",
              "      <td>0.062057</td>\n",
              "      <td>-0.116524</td>\n",
              "      <td>-9.903711e-01</td>\n",
              "      <td>-0.789555</td>\n",
              "      <td>...</td>\n",
              "      <td>-0.294917</td>\n",
              "      <td>-0.113231</td>\n",
              "      <td>5.134801e-01</td>\n",
              "      <td>-4.913279e-01</td>\n",
              "      <td>2</td>\n",
              "      <td>0.456051</td>\n",
              "      <td>-0.089656</td>\n",
              "      <td>84.40</td>\n",
              "      <td>1.0</td>\n",
              "      <td>0.0</td>\n",
              "    </tr>\n",
              "  </tbody>\n",
              "</table>\n",
              "<p>5 rows × 21 columns</p>\n",
              "</div>\n",
              "      <button class=\"colab-df-convert\" onclick=\"convertToInteractive('df-729280d4-53f2-402c-9845-64e1fcc7370a')\"\n",
              "              title=\"Convert this dataframe to an interactive table.\"\n",
              "              style=\"display:none;\">\n",
              "        \n",
              "  <svg xmlns=\"http://www.w3.org/2000/svg\" height=\"24px\"viewBox=\"0 0 24 24\"\n",
              "       width=\"24px\">\n",
              "    <path d=\"M0 0h24v24H0V0z\" fill=\"none\"/>\n",
              "    <path d=\"M18.56 5.44l.94 2.06.94-2.06 2.06-.94-2.06-.94-.94-2.06-.94 2.06-2.06.94zm-11 1L8.5 8.5l.94-2.06 2.06-.94-2.06-.94L8.5 2.5l-.94 2.06-2.06.94zm10 10l.94 2.06.94-2.06 2.06-.94-2.06-.94-.94-2.06-.94 2.06-2.06.94z\"/><path d=\"M17.41 7.96l-1.37-1.37c-.4-.4-.92-.59-1.43-.59-.52 0-1.04.2-1.43.59L10.3 9.45l-7.72 7.72c-.78.78-.78 2.05 0 2.83L4 21.41c.39.39.9.59 1.41.59.51 0 1.02-.2 1.41-.59l7.78-7.78 2.81-2.81c.8-.78.8-2.07 0-2.86zM5.41 20L4 18.59l7.72-7.72 1.47 1.35L5.41 20z\"/>\n",
              "  </svg>\n",
              "      </button>\n",
              "      \n",
              "  <style>\n",
              "    .colab-df-container {\n",
              "      display:flex;\n",
              "      flex-wrap:wrap;\n",
              "      gap: 12px;\n",
              "    }\n",
              "\n",
              "    .colab-df-convert {\n",
              "      background-color: #E8F0FE;\n",
              "      border: none;\n",
              "      border-radius: 50%;\n",
              "      cursor: pointer;\n",
              "      display: none;\n",
              "      fill: #1967D2;\n",
              "      height: 32px;\n",
              "      padding: 0 0 0 0;\n",
              "      width: 32px;\n",
              "    }\n",
              "\n",
              "    .colab-df-convert:hover {\n",
              "      background-color: #E2EBFA;\n",
              "      box-shadow: 0px 1px 2px rgba(60, 64, 67, 0.3), 0px 1px 3px 1px rgba(60, 64, 67, 0.15);\n",
              "      fill: #174EA6;\n",
              "    }\n",
              "\n",
              "    [theme=dark] .colab-df-convert {\n",
              "      background-color: #3B4455;\n",
              "      fill: #D2E3FC;\n",
              "    }\n",
              "\n",
              "    [theme=dark] .colab-df-convert:hover {\n",
              "      background-color: #434B5C;\n",
              "      box-shadow: 0px 1px 3px 1px rgba(0, 0, 0, 0.15);\n",
              "      filter: drop-shadow(0px 1px 2px rgba(0, 0, 0, 0.3));\n",
              "      fill: #FFFFFF;\n",
              "    }\n",
              "  </style>\n",
              "\n",
              "      <script>\n",
              "        const buttonEl =\n",
              "          document.querySelector('#df-729280d4-53f2-402c-9845-64e1fcc7370a button.colab-df-convert');\n",
              "        buttonEl.style.display =\n",
              "          google.colab.kernel.accessAllowed ? 'block' : 'none';\n",
              "\n",
              "        async function convertToInteractive(key) {\n",
              "          const element = document.querySelector('#df-729280d4-53f2-402c-9845-64e1fcc7370a');\n",
              "          const dataTable =\n",
              "            await google.colab.kernel.invokeFunction('convertToInteractive',\n",
              "                                                     [key], {});\n",
              "          if (!dataTable) return;\n",
              "\n",
              "          const docLinkHtml = 'Like what you see? Visit the ' +\n",
              "            '<a target=\"_blank\" href=https://colab.research.google.com/notebooks/data_table.ipynb>data table notebook</a>'\n",
              "            + ' to learn more about interactive tables.';\n",
              "          element.innerHTML = '';\n",
              "          dataTable['output_type'] = 'display_data';\n",
              "          await google.colab.output.renderOutput(dataTable, element);\n",
              "          const docLink = document.createElement('div');\n",
              "          docLink.innerHTML = docLinkHtml;\n",
              "          element.appendChild(docLink);\n",
              "        }\n",
              "      </script>\n",
              "    </div>\n",
              "  </div>\n",
              "  "
            ]
          },
          "metadata": {},
          "execution_count": 45
        }
      ]
    },
    {
      "cell_type": "code",
      "source": [
        "train_encoded_df_final.head()"
      ],
      "metadata": {
        "colab": {
          "base_uri": "https://localhost:8080/",
          "height": 299
        },
        "id": "AQQBGmvONQi2",
        "outputId": "9fc38a0e-1f99-4158-84ff-c5190c2056fd"
      },
      "execution_count": null,
      "outputs": [
        {
          "output_type": "execute_result",
          "data": {
            "text/plain": [
              "   category  year    deaths  population  crude_rate  standardised_age_rate  \\\n",
              "0         1     3 -0.124327   -0.130104    0.287173          -1.006371e+00   \n",
              "1         4     0 -0.090776   -0.095592   -0.101195           1.303914e+00   \n",
              "2         4     1 -0.136897   -0.142090    0.763754          -7.611879e-01   \n",
              "3         1     4 -0.153029   -0.152839   -1.529377          -9.578742e-16   \n",
              "4         1     1 -0.101663   -0.123738    1.529952          -6.583962e-01   \n",
              "\n",
              "   rate_ratio  premature_deaths  premature_deaths_percent  \\\n",
              "0   -1.342855         -0.133985             -1.101477e+00   \n",
              "1    1.466968         -0.077526              3.508359e-01   \n",
              "2   -0.106533         -0.145918             -1.649070e+00   \n",
              "3    0.000000         -0.153193             -5.638964e-16   \n",
              "4    0.062057         -0.116524             -9.903711e-01   \n",
              "\n",
              "   premature_deaths_asr_per_100,000  ...  leverman_rate  \\\n",
              "0                         -0.905223  ...      -0.473688   \n",
              "1                          1.485247  ...       0.325312   \n",
              "2                         -1.445007  ...      -1.126753   \n",
              "3                          0.000000  ...      -1.236205   \n",
              "4                         -0.789555  ...      -0.294917   \n",
              "\n",
              "   potentially_avoidable_deaths   pad_percent  pad_asr_per_100,000  \\\n",
              "0                     -0.137013 -1.338895e+00        -1.301667e+00   \n",
              "1                     -0.068568  7.760215e-01         1.708164e+00   \n",
              "2                     -0.146873 -1.411824e+00        -3.738835e-16   \n",
              "3                     -0.152674 -1.036372e-15        -3.738835e-16   \n",
              "4                     -0.113231  5.134801e-01        -4.913279e-01   \n",
              "\n",
              "   marital_status  stramer_rate  inverse_pyll_metric  median_age    0    1  \n",
              "0               1     -0.893053            -0.029830       86.00  1.0  0.0  \n",
              "1               1      1.697396            -0.218025       79.30  1.0  0.0  \n",
              "2               0     -0.270199             0.471838       87.80  1.0  0.0  \n",
              "3               1     -0.869653             0.676275       74.57  1.0  0.0  \n",
              "4               2      0.456051            -0.089656       84.40  1.0  0.0  \n",
              "\n",
              "[5 rows x 21 columns]"
            ],
            "text/html": [
              "\n",
              "  <div id=\"df-ebb8efc4-c0aa-4b08-8e25-fcd4b32b3bac\">\n",
              "    <div class=\"colab-df-container\">\n",
              "      <div>\n",
              "<style scoped>\n",
              "    .dataframe tbody tr th:only-of-type {\n",
              "        vertical-align: middle;\n",
              "    }\n",
              "\n",
              "    .dataframe tbody tr th {\n",
              "        vertical-align: top;\n",
              "    }\n",
              "\n",
              "    .dataframe thead th {\n",
              "        text-align: right;\n",
              "    }\n",
              "</style>\n",
              "<table border=\"1\" class=\"dataframe\">\n",
              "  <thead>\n",
              "    <tr style=\"text-align: right;\">\n",
              "      <th></th>\n",
              "      <th>category</th>\n",
              "      <th>year</th>\n",
              "      <th>deaths</th>\n",
              "      <th>population</th>\n",
              "      <th>crude_rate</th>\n",
              "      <th>standardised_age_rate</th>\n",
              "      <th>rate_ratio</th>\n",
              "      <th>premature_deaths</th>\n",
              "      <th>premature_deaths_percent</th>\n",
              "      <th>premature_deaths_asr_per_100,000</th>\n",
              "      <th>...</th>\n",
              "      <th>leverman_rate</th>\n",
              "      <th>potentially_avoidable_deaths</th>\n",
              "      <th>pad_percent</th>\n",
              "      <th>pad_asr_per_100,000</th>\n",
              "      <th>marital_status</th>\n",
              "      <th>stramer_rate</th>\n",
              "      <th>inverse_pyll_metric</th>\n",
              "      <th>median_age</th>\n",
              "      <th>0</th>\n",
              "      <th>1</th>\n",
              "    </tr>\n",
              "  </thead>\n",
              "  <tbody>\n",
              "    <tr>\n",
              "      <th>0</th>\n",
              "      <td>1</td>\n",
              "      <td>3</td>\n",
              "      <td>-0.124327</td>\n",
              "      <td>-0.130104</td>\n",
              "      <td>0.287173</td>\n",
              "      <td>-1.006371e+00</td>\n",
              "      <td>-1.342855</td>\n",
              "      <td>-0.133985</td>\n",
              "      <td>-1.101477e+00</td>\n",
              "      <td>-0.905223</td>\n",
              "      <td>...</td>\n",
              "      <td>-0.473688</td>\n",
              "      <td>-0.137013</td>\n",
              "      <td>-1.338895e+00</td>\n",
              "      <td>-1.301667e+00</td>\n",
              "      <td>1</td>\n",
              "      <td>-0.893053</td>\n",
              "      <td>-0.029830</td>\n",
              "      <td>86.00</td>\n",
              "      <td>1.0</td>\n",
              "      <td>0.0</td>\n",
              "    </tr>\n",
              "    <tr>\n",
              "      <th>1</th>\n",
              "      <td>4</td>\n",
              "      <td>0</td>\n",
              "      <td>-0.090776</td>\n",
              "      <td>-0.095592</td>\n",
              "      <td>-0.101195</td>\n",
              "      <td>1.303914e+00</td>\n",
              "      <td>1.466968</td>\n",
              "      <td>-0.077526</td>\n",
              "      <td>3.508359e-01</td>\n",
              "      <td>1.485247</td>\n",
              "      <td>...</td>\n",
              "      <td>0.325312</td>\n",
              "      <td>-0.068568</td>\n",
              "      <td>7.760215e-01</td>\n",
              "      <td>1.708164e+00</td>\n",
              "      <td>1</td>\n",
              "      <td>1.697396</td>\n",
              "      <td>-0.218025</td>\n",
              "      <td>79.30</td>\n",
              "      <td>1.0</td>\n",
              "      <td>0.0</td>\n",
              "    </tr>\n",
              "    <tr>\n",
              "      <th>2</th>\n",
              "      <td>4</td>\n",
              "      <td>1</td>\n",
              "      <td>-0.136897</td>\n",
              "      <td>-0.142090</td>\n",
              "      <td>0.763754</td>\n",
              "      <td>-7.611879e-01</td>\n",
              "      <td>-0.106533</td>\n",
              "      <td>-0.145918</td>\n",
              "      <td>-1.649070e+00</td>\n",
              "      <td>-1.445007</td>\n",
              "      <td>...</td>\n",
              "      <td>-1.126753</td>\n",
              "      <td>-0.146873</td>\n",
              "      <td>-1.411824e+00</td>\n",
              "      <td>-3.738835e-16</td>\n",
              "      <td>0</td>\n",
              "      <td>-0.270199</td>\n",
              "      <td>0.471838</td>\n",
              "      <td>87.80</td>\n",
              "      <td>1.0</td>\n",
              "      <td>0.0</td>\n",
              "    </tr>\n",
              "    <tr>\n",
              "      <th>3</th>\n",
              "      <td>1</td>\n",
              "      <td>4</td>\n",
              "      <td>-0.153029</td>\n",
              "      <td>-0.152839</td>\n",
              "      <td>-1.529377</td>\n",
              "      <td>-9.578742e-16</td>\n",
              "      <td>0.000000</td>\n",
              "      <td>-0.153193</td>\n",
              "      <td>-5.638964e-16</td>\n",
              "      <td>0.000000</td>\n",
              "      <td>...</td>\n",
              "      <td>-1.236205</td>\n",
              "      <td>-0.152674</td>\n",
              "      <td>-1.036372e-15</td>\n",
              "      <td>-3.738835e-16</td>\n",
              "      <td>1</td>\n",
              "      <td>-0.869653</td>\n",
              "      <td>0.676275</td>\n",
              "      <td>74.57</td>\n",
              "      <td>1.0</td>\n",
              "      <td>0.0</td>\n",
              "    </tr>\n",
              "    <tr>\n",
              "      <th>4</th>\n",
              "      <td>1</td>\n",
              "      <td>1</td>\n",
              "      <td>-0.101663</td>\n",
              "      <td>-0.123738</td>\n",
              "      <td>1.529952</td>\n",
              "      <td>-6.583962e-01</td>\n",
              "      <td>0.062057</td>\n",
              "      <td>-0.116524</td>\n",
              "      <td>-9.903711e-01</td>\n",
              "      <td>-0.789555</td>\n",
              "      <td>...</td>\n",
              "      <td>-0.294917</td>\n",
              "      <td>-0.113231</td>\n",
              "      <td>5.134801e-01</td>\n",
              "      <td>-4.913279e-01</td>\n",
              "      <td>2</td>\n",
              "      <td>0.456051</td>\n",
              "      <td>-0.089656</td>\n",
              "      <td>84.40</td>\n",
              "      <td>1.0</td>\n",
              "      <td>0.0</td>\n",
              "    </tr>\n",
              "  </tbody>\n",
              "</table>\n",
              "<p>5 rows × 21 columns</p>\n",
              "</div>\n",
              "      <button class=\"colab-df-convert\" onclick=\"convertToInteractive('df-ebb8efc4-c0aa-4b08-8e25-fcd4b32b3bac')\"\n",
              "              title=\"Convert this dataframe to an interactive table.\"\n",
              "              style=\"display:none;\">\n",
              "        \n",
              "  <svg xmlns=\"http://www.w3.org/2000/svg\" height=\"24px\"viewBox=\"0 0 24 24\"\n",
              "       width=\"24px\">\n",
              "    <path d=\"M0 0h24v24H0V0z\" fill=\"none\"/>\n",
              "    <path d=\"M18.56 5.44l.94 2.06.94-2.06 2.06-.94-2.06-.94-.94-2.06-.94 2.06-2.06.94zm-11 1L8.5 8.5l.94-2.06 2.06-.94-2.06-.94L8.5 2.5l-.94 2.06-2.06.94zm10 10l.94 2.06.94-2.06 2.06-.94-2.06-.94-.94-2.06-.94 2.06-2.06.94z\"/><path d=\"M17.41 7.96l-1.37-1.37c-.4-.4-.92-.59-1.43-.59-.52 0-1.04.2-1.43.59L10.3 9.45l-7.72 7.72c-.78.78-.78 2.05 0 2.83L4 21.41c.39.39.9.59 1.41.59.51 0 1.02-.2 1.41-.59l7.78-7.78 2.81-2.81c.8-.78.8-2.07 0-2.86zM5.41 20L4 18.59l7.72-7.72 1.47 1.35L5.41 20z\"/>\n",
              "  </svg>\n",
              "      </button>\n",
              "      \n",
              "  <style>\n",
              "    .colab-df-container {\n",
              "      display:flex;\n",
              "      flex-wrap:wrap;\n",
              "      gap: 12px;\n",
              "    }\n",
              "\n",
              "    .colab-df-convert {\n",
              "      background-color: #E8F0FE;\n",
              "      border: none;\n",
              "      border-radius: 50%;\n",
              "      cursor: pointer;\n",
              "      display: none;\n",
              "      fill: #1967D2;\n",
              "      height: 32px;\n",
              "      padding: 0 0 0 0;\n",
              "      width: 32px;\n",
              "    }\n",
              "\n",
              "    .colab-df-convert:hover {\n",
              "      background-color: #E2EBFA;\n",
              "      box-shadow: 0px 1px 2px rgba(60, 64, 67, 0.3), 0px 1px 3px 1px rgba(60, 64, 67, 0.15);\n",
              "      fill: #174EA6;\n",
              "    }\n",
              "\n",
              "    [theme=dark] .colab-df-convert {\n",
              "      background-color: #3B4455;\n",
              "      fill: #D2E3FC;\n",
              "    }\n",
              "\n",
              "    [theme=dark] .colab-df-convert:hover {\n",
              "      background-color: #434B5C;\n",
              "      box-shadow: 0px 1px 3px 1px rgba(0, 0, 0, 0.15);\n",
              "      filter: drop-shadow(0px 1px 2px rgba(0, 0, 0, 0.3));\n",
              "      fill: #FFFFFF;\n",
              "    }\n",
              "  </style>\n",
              "\n",
              "      <script>\n",
              "        const buttonEl =\n",
              "          document.querySelector('#df-ebb8efc4-c0aa-4b08-8e25-fcd4b32b3bac button.colab-df-convert');\n",
              "        buttonEl.style.display =\n",
              "          google.colab.kernel.accessAllowed ? 'block' : 'none';\n",
              "\n",
              "        async function convertToInteractive(key) {\n",
              "          const element = document.querySelector('#df-ebb8efc4-c0aa-4b08-8e25-fcd4b32b3bac');\n",
              "          const dataTable =\n",
              "            await google.colab.kernel.invokeFunction('convertToInteractive',\n",
              "                                                     [key], {});\n",
              "          if (!dataTable) return;\n",
              "\n",
              "          const docLinkHtml = 'Like what you see? Visit the ' +\n",
              "            '<a target=\"_blank\" href=https://colab.research.google.com/notebooks/data_table.ipynb>data table notebook</a>'\n",
              "            + ' to learn more about interactive tables.';\n",
              "          element.innerHTML = '';\n",
              "          dataTable['output_type'] = 'display_data';\n",
              "          await google.colab.output.renderOutput(dataTable, element);\n",
              "          const docLink = document.createElement('div');\n",
              "          docLink.innerHTML = docLinkHtml;\n",
              "          element.appendChild(docLink);\n",
              "        }\n",
              "      </script>\n",
              "    </div>\n",
              "  </div>\n",
              "  "
            ]
          },
          "metadata": {},
          "execution_count": 47
        }
      ]
    },
    {
      "cell_type": "code",
      "source": [
        "cols_at_end = ['median_age']\n",
        "train_encoded_df_final= train_encoded_df_final[[c for c in train_encoded_df_final if c not in cols_at_end] \n",
        "        + [c for c in cols_at_end if c in train_encoded_df_final]]"
      ],
      "metadata": {
        "id": "-w4XnEfRrQ5j"
      },
      "execution_count": null,
      "outputs": []
    },
    {
      "cell_type": "code",
      "source": [
        "train_encoded_df_final.head()"
      ],
      "metadata": {
        "colab": {
          "base_uri": "https://localhost:8080/",
          "height": 299
        },
        "id": "vp6Ls9Fxr7ke",
        "outputId": "8c032ccc-faf5-4b2f-b6c9-adf987b9715c"
      },
      "execution_count": null,
      "outputs": [
        {
          "output_type": "execute_result",
          "data": {
            "text/plain": [
              "   category  year    deaths  population  crude_rate  standardised_age_rate  \\\n",
              "0         1     3 -0.124327   -0.130104    0.287173          -1.006371e+00   \n",
              "1         4     0 -0.090776   -0.095592   -0.101195           1.303914e+00   \n",
              "2         4     1 -0.136897   -0.142090    0.763754          -7.611879e-01   \n",
              "3         1     4 -0.153029   -0.152839   -1.529377          -9.578742e-16   \n",
              "4         1     1 -0.101663   -0.123738    1.529952          -6.583962e-01   \n",
              "\n",
              "   rate_ratio  premature_deaths  premature_deaths_percent  \\\n",
              "0   -1.342855         -0.133985             -1.101477e+00   \n",
              "1    1.466968         -0.077526              3.508359e-01   \n",
              "2   -0.106533         -0.145918             -1.649070e+00   \n",
              "3    0.000000         -0.153193             -5.638964e-16   \n",
              "4    0.062057         -0.116524             -9.903711e-01   \n",
              "\n",
              "   premature_deaths_asr_per_100,000  ...  leverman_rate  \\\n",
              "0                         -0.905223  ...      -0.473688   \n",
              "1                          1.485247  ...       0.325312   \n",
              "2                         -1.445007  ...      -1.126753   \n",
              "3                          0.000000  ...      -1.236205   \n",
              "4                         -0.789555  ...      -0.294917   \n",
              "\n",
              "   potentially_avoidable_deaths   pad_percent  pad_asr_per_100,000  \\\n",
              "0                     -0.137013 -1.338895e+00        -1.301667e+00   \n",
              "1                     -0.068568  7.760215e-01         1.708164e+00   \n",
              "2                     -0.146873 -1.411824e+00        -3.738835e-16   \n",
              "3                     -0.152674 -1.036372e-15        -3.738835e-16   \n",
              "4                     -0.113231  5.134801e-01        -4.913279e-01   \n",
              "\n",
              "   marital_status  stramer_rate  inverse_pyll_metric    0    1  median_age  \n",
              "0               1     -0.893053            -0.029830  1.0  0.0       86.00  \n",
              "1               1      1.697396            -0.218025  1.0  0.0       79.30  \n",
              "2               0     -0.270199             0.471838  1.0  0.0       87.80  \n",
              "3               1     -0.869653             0.676275  1.0  0.0       74.57  \n",
              "4               2      0.456051            -0.089656  1.0  0.0       84.40  \n",
              "\n",
              "[5 rows x 21 columns]"
            ],
            "text/html": [
              "\n",
              "  <div id=\"df-1678a846-ff7e-4bb5-acf7-2eabef7972ec\">\n",
              "    <div class=\"colab-df-container\">\n",
              "      <div>\n",
              "<style scoped>\n",
              "    .dataframe tbody tr th:only-of-type {\n",
              "        vertical-align: middle;\n",
              "    }\n",
              "\n",
              "    .dataframe tbody tr th {\n",
              "        vertical-align: top;\n",
              "    }\n",
              "\n",
              "    .dataframe thead th {\n",
              "        text-align: right;\n",
              "    }\n",
              "</style>\n",
              "<table border=\"1\" class=\"dataframe\">\n",
              "  <thead>\n",
              "    <tr style=\"text-align: right;\">\n",
              "      <th></th>\n",
              "      <th>category</th>\n",
              "      <th>year</th>\n",
              "      <th>deaths</th>\n",
              "      <th>population</th>\n",
              "      <th>crude_rate</th>\n",
              "      <th>standardised_age_rate</th>\n",
              "      <th>rate_ratio</th>\n",
              "      <th>premature_deaths</th>\n",
              "      <th>premature_deaths_percent</th>\n",
              "      <th>premature_deaths_asr_per_100,000</th>\n",
              "      <th>...</th>\n",
              "      <th>leverman_rate</th>\n",
              "      <th>potentially_avoidable_deaths</th>\n",
              "      <th>pad_percent</th>\n",
              "      <th>pad_asr_per_100,000</th>\n",
              "      <th>marital_status</th>\n",
              "      <th>stramer_rate</th>\n",
              "      <th>inverse_pyll_metric</th>\n",
              "      <th>0</th>\n",
              "      <th>1</th>\n",
              "      <th>median_age</th>\n",
              "    </tr>\n",
              "  </thead>\n",
              "  <tbody>\n",
              "    <tr>\n",
              "      <th>0</th>\n",
              "      <td>1</td>\n",
              "      <td>3</td>\n",
              "      <td>-0.124327</td>\n",
              "      <td>-0.130104</td>\n",
              "      <td>0.287173</td>\n",
              "      <td>-1.006371e+00</td>\n",
              "      <td>-1.342855</td>\n",
              "      <td>-0.133985</td>\n",
              "      <td>-1.101477e+00</td>\n",
              "      <td>-0.905223</td>\n",
              "      <td>...</td>\n",
              "      <td>-0.473688</td>\n",
              "      <td>-0.137013</td>\n",
              "      <td>-1.338895e+00</td>\n",
              "      <td>-1.301667e+00</td>\n",
              "      <td>1</td>\n",
              "      <td>-0.893053</td>\n",
              "      <td>-0.029830</td>\n",
              "      <td>1.0</td>\n",
              "      <td>0.0</td>\n",
              "      <td>86.00</td>\n",
              "    </tr>\n",
              "    <tr>\n",
              "      <th>1</th>\n",
              "      <td>4</td>\n",
              "      <td>0</td>\n",
              "      <td>-0.090776</td>\n",
              "      <td>-0.095592</td>\n",
              "      <td>-0.101195</td>\n",
              "      <td>1.303914e+00</td>\n",
              "      <td>1.466968</td>\n",
              "      <td>-0.077526</td>\n",
              "      <td>3.508359e-01</td>\n",
              "      <td>1.485247</td>\n",
              "      <td>...</td>\n",
              "      <td>0.325312</td>\n",
              "      <td>-0.068568</td>\n",
              "      <td>7.760215e-01</td>\n",
              "      <td>1.708164e+00</td>\n",
              "      <td>1</td>\n",
              "      <td>1.697396</td>\n",
              "      <td>-0.218025</td>\n",
              "      <td>1.0</td>\n",
              "      <td>0.0</td>\n",
              "      <td>79.30</td>\n",
              "    </tr>\n",
              "    <tr>\n",
              "      <th>2</th>\n",
              "      <td>4</td>\n",
              "      <td>1</td>\n",
              "      <td>-0.136897</td>\n",
              "      <td>-0.142090</td>\n",
              "      <td>0.763754</td>\n",
              "      <td>-7.611879e-01</td>\n",
              "      <td>-0.106533</td>\n",
              "      <td>-0.145918</td>\n",
              "      <td>-1.649070e+00</td>\n",
              "      <td>-1.445007</td>\n",
              "      <td>...</td>\n",
              "      <td>-1.126753</td>\n",
              "      <td>-0.146873</td>\n",
              "      <td>-1.411824e+00</td>\n",
              "      <td>-3.738835e-16</td>\n",
              "      <td>0</td>\n",
              "      <td>-0.270199</td>\n",
              "      <td>0.471838</td>\n",
              "      <td>1.0</td>\n",
              "      <td>0.0</td>\n",
              "      <td>87.80</td>\n",
              "    </tr>\n",
              "    <tr>\n",
              "      <th>3</th>\n",
              "      <td>1</td>\n",
              "      <td>4</td>\n",
              "      <td>-0.153029</td>\n",
              "      <td>-0.152839</td>\n",
              "      <td>-1.529377</td>\n",
              "      <td>-9.578742e-16</td>\n",
              "      <td>0.000000</td>\n",
              "      <td>-0.153193</td>\n",
              "      <td>-5.638964e-16</td>\n",
              "      <td>0.000000</td>\n",
              "      <td>...</td>\n",
              "      <td>-1.236205</td>\n",
              "      <td>-0.152674</td>\n",
              "      <td>-1.036372e-15</td>\n",
              "      <td>-3.738835e-16</td>\n",
              "      <td>1</td>\n",
              "      <td>-0.869653</td>\n",
              "      <td>0.676275</td>\n",
              "      <td>1.0</td>\n",
              "      <td>0.0</td>\n",
              "      <td>74.57</td>\n",
              "    </tr>\n",
              "    <tr>\n",
              "      <th>4</th>\n",
              "      <td>1</td>\n",
              "      <td>1</td>\n",
              "      <td>-0.101663</td>\n",
              "      <td>-0.123738</td>\n",
              "      <td>1.529952</td>\n",
              "      <td>-6.583962e-01</td>\n",
              "      <td>0.062057</td>\n",
              "      <td>-0.116524</td>\n",
              "      <td>-9.903711e-01</td>\n",
              "      <td>-0.789555</td>\n",
              "      <td>...</td>\n",
              "      <td>-0.294917</td>\n",
              "      <td>-0.113231</td>\n",
              "      <td>5.134801e-01</td>\n",
              "      <td>-4.913279e-01</td>\n",
              "      <td>2</td>\n",
              "      <td>0.456051</td>\n",
              "      <td>-0.089656</td>\n",
              "      <td>1.0</td>\n",
              "      <td>0.0</td>\n",
              "      <td>84.40</td>\n",
              "    </tr>\n",
              "  </tbody>\n",
              "</table>\n",
              "<p>5 rows × 21 columns</p>\n",
              "</div>\n",
              "      <button class=\"colab-df-convert\" onclick=\"convertToInteractive('df-1678a846-ff7e-4bb5-acf7-2eabef7972ec')\"\n",
              "              title=\"Convert this dataframe to an interactive table.\"\n",
              "              style=\"display:none;\">\n",
              "        \n",
              "  <svg xmlns=\"http://www.w3.org/2000/svg\" height=\"24px\"viewBox=\"0 0 24 24\"\n",
              "       width=\"24px\">\n",
              "    <path d=\"M0 0h24v24H0V0z\" fill=\"none\"/>\n",
              "    <path d=\"M18.56 5.44l.94 2.06.94-2.06 2.06-.94-2.06-.94-.94-2.06-.94 2.06-2.06.94zm-11 1L8.5 8.5l.94-2.06 2.06-.94-2.06-.94L8.5 2.5l-.94 2.06-2.06.94zm10 10l.94 2.06.94-2.06 2.06-.94-2.06-.94-.94-2.06-.94 2.06-2.06.94z\"/><path d=\"M17.41 7.96l-1.37-1.37c-.4-.4-.92-.59-1.43-.59-.52 0-1.04.2-1.43.59L10.3 9.45l-7.72 7.72c-.78.78-.78 2.05 0 2.83L4 21.41c.39.39.9.59 1.41.59.51 0 1.02-.2 1.41-.59l7.78-7.78 2.81-2.81c.8-.78.8-2.07 0-2.86zM5.41 20L4 18.59l7.72-7.72 1.47 1.35L5.41 20z\"/>\n",
              "  </svg>\n",
              "      </button>\n",
              "      \n",
              "  <style>\n",
              "    .colab-df-container {\n",
              "      display:flex;\n",
              "      flex-wrap:wrap;\n",
              "      gap: 12px;\n",
              "    }\n",
              "\n",
              "    .colab-df-convert {\n",
              "      background-color: #E8F0FE;\n",
              "      border: none;\n",
              "      border-radius: 50%;\n",
              "      cursor: pointer;\n",
              "      display: none;\n",
              "      fill: #1967D2;\n",
              "      height: 32px;\n",
              "      padding: 0 0 0 0;\n",
              "      width: 32px;\n",
              "    }\n",
              "\n",
              "    .colab-df-convert:hover {\n",
              "      background-color: #E2EBFA;\n",
              "      box-shadow: 0px 1px 2px rgba(60, 64, 67, 0.3), 0px 1px 3px 1px rgba(60, 64, 67, 0.15);\n",
              "      fill: #174EA6;\n",
              "    }\n",
              "\n",
              "    [theme=dark] .colab-df-convert {\n",
              "      background-color: #3B4455;\n",
              "      fill: #D2E3FC;\n",
              "    }\n",
              "\n",
              "    [theme=dark] .colab-df-convert:hover {\n",
              "      background-color: #434B5C;\n",
              "      box-shadow: 0px 1px 3px 1px rgba(0, 0, 0, 0.15);\n",
              "      filter: drop-shadow(0px 1px 2px rgba(0, 0, 0, 0.3));\n",
              "      fill: #FFFFFF;\n",
              "    }\n",
              "  </style>\n",
              "\n",
              "      <script>\n",
              "        const buttonEl =\n",
              "          document.querySelector('#df-1678a846-ff7e-4bb5-acf7-2eabef7972ec button.colab-df-convert');\n",
              "        buttonEl.style.display =\n",
              "          google.colab.kernel.accessAllowed ? 'block' : 'none';\n",
              "\n",
              "        async function convertToInteractive(key) {\n",
              "          const element = document.querySelector('#df-1678a846-ff7e-4bb5-acf7-2eabef7972ec');\n",
              "          const dataTable =\n",
              "            await google.colab.kernel.invokeFunction('convertToInteractive',\n",
              "                                                     [key], {});\n",
              "          if (!dataTable) return;\n",
              "\n",
              "          const docLinkHtml = 'Like what you see? Visit the ' +\n",
              "            '<a target=\"_blank\" href=https://colab.research.google.com/notebooks/data_table.ipynb>data table notebook</a>'\n",
              "            + ' to learn more about interactive tables.';\n",
              "          element.innerHTML = '';\n",
              "          dataTable['output_type'] = 'display_data';\n",
              "          await google.colab.output.renderOutput(dataTable, element);\n",
              "          const docLink = document.createElement('div');\n",
              "          docLink.innerHTML = docLinkHtml;\n",
              "          element.appendChild(docLink);\n",
              "        }\n",
              "      </script>\n",
              "    </div>\n",
              "  </div>\n",
              "  "
            ]
          },
          "metadata": {},
          "execution_count": 41
        }
      ]
    },
    {
      "cell_type": "code",
      "source": [
        "test_encoded_df_final.head()"
      ],
      "metadata": {
        "colab": {
          "base_uri": "https://localhost:8080/",
          "height": 270
        },
        "id": "CtFgJNL1OSKD",
        "outputId": "158ef513-ed7f-4c3e-e669-64e33b492230"
      },
      "execution_count": null,
      "outputs": [
        {
          "output_type": "execute_result",
          "data": {
            "text/plain": [
              "   category  year    deaths  population  crude_rate  standardised_age_rate  \\\n",
              "0         1     3 -0.162251   -0.162108   -1.133382               0.000000   \n",
              "1         1     2 -0.161908   -0.162966    0.640331              -0.036306   \n",
              "2         1     4 -0.158475   -0.156472   -1.131804              -1.935903   \n",
              "3         1     4 -0.158904   -0.161037    0.948442              -0.457407   \n",
              "4         4     0 -0.154527   -0.156886    0.327485               2.391566   \n",
              "\n",
              "   rate_ratio  premature_deaths  premature_deaths_percent  \\\n",
              "0    0.000000         -0.162217                  2.189223   \n",
              "1   -0.780238         -0.162961                  0.071924   \n",
              "2   -2.760046         -0.161226                 -1.034484   \n",
              "3    0.924597         -0.162217                 -1.400633   \n",
              "4    1.419549         -0.151809                  0.979338   \n",
              "\n",
              "   premature_deaths_asr_per_100,000  potential_years_of_life_lost  \\\n",
              "0                     -4.214231e-16                     -0.162732   \n",
              "1                     -4.214231e-16                     -0.163249   \n",
              "2                     -4.214231e-16                     -0.161910   \n",
              "3                     -4.214231e-16                     -0.162063   \n",
              "4                      1.995358e+00                     -0.152217   \n",
              "\n",
              "   leverman_rate  potentially_avoidable_deaths  pad_percent  \\\n",
              "0      -0.625117                     -0.161079     1.894219   \n",
              "1      -0.295218                     -0.162560     0.000000   \n",
              "2      -1.307668                     -0.161573    -1.081058   \n",
              "3      -0.613741                     -0.162066    -0.694845   \n",
              "4       0.641394                     -0.147756     1.980044   \n",
              "\n",
              "   pad_asr_per_100,000  marital_status  stramer_rate  inverse_pyll_metric  \\\n",
              "0        -3.812317e-16               2     -0.781588             0.034414   \n",
              "1        -3.812317e-16               1     -1.196733            -0.090936   \n",
              "2        -3.812317e-16               2     -2.223328             0.781405   \n",
              "3        -3.812317e-16               1     -0.021482             0.028975   \n",
              "4         3.158752e+00               1      0.518202            -0.265622   \n",
              "\n",
              "     0    1  \n",
              "0  0.0  1.0  \n",
              "1  0.0  1.0  \n",
              "2  0.0  1.0  \n",
              "3  1.0  0.0  \n",
              "4  0.0  1.0  "
            ],
            "text/html": [
              "\n",
              "  <div id=\"df-f0bdd7b6-ee35-4d0c-a959-9b0fb8ef1571\">\n",
              "    <div class=\"colab-df-container\">\n",
              "      <div>\n",
              "<style scoped>\n",
              "    .dataframe tbody tr th:only-of-type {\n",
              "        vertical-align: middle;\n",
              "    }\n",
              "\n",
              "    .dataframe tbody tr th {\n",
              "        vertical-align: top;\n",
              "    }\n",
              "\n",
              "    .dataframe thead th {\n",
              "        text-align: right;\n",
              "    }\n",
              "</style>\n",
              "<table border=\"1\" class=\"dataframe\">\n",
              "  <thead>\n",
              "    <tr style=\"text-align: right;\">\n",
              "      <th></th>\n",
              "      <th>category</th>\n",
              "      <th>year</th>\n",
              "      <th>deaths</th>\n",
              "      <th>population</th>\n",
              "      <th>crude_rate</th>\n",
              "      <th>standardised_age_rate</th>\n",
              "      <th>rate_ratio</th>\n",
              "      <th>premature_deaths</th>\n",
              "      <th>premature_deaths_percent</th>\n",
              "      <th>premature_deaths_asr_per_100,000</th>\n",
              "      <th>potential_years_of_life_lost</th>\n",
              "      <th>leverman_rate</th>\n",
              "      <th>potentially_avoidable_deaths</th>\n",
              "      <th>pad_percent</th>\n",
              "      <th>pad_asr_per_100,000</th>\n",
              "      <th>marital_status</th>\n",
              "      <th>stramer_rate</th>\n",
              "      <th>inverse_pyll_metric</th>\n",
              "      <th>0</th>\n",
              "      <th>1</th>\n",
              "    </tr>\n",
              "  </thead>\n",
              "  <tbody>\n",
              "    <tr>\n",
              "      <th>0</th>\n",
              "      <td>1</td>\n",
              "      <td>3</td>\n",
              "      <td>-0.162251</td>\n",
              "      <td>-0.162108</td>\n",
              "      <td>-1.133382</td>\n",
              "      <td>0.000000</td>\n",
              "      <td>0.000000</td>\n",
              "      <td>-0.162217</td>\n",
              "      <td>2.189223</td>\n",
              "      <td>-4.214231e-16</td>\n",
              "      <td>-0.162732</td>\n",
              "      <td>-0.625117</td>\n",
              "      <td>-0.161079</td>\n",
              "      <td>1.894219</td>\n",
              "      <td>-3.812317e-16</td>\n",
              "      <td>2</td>\n",
              "      <td>-0.781588</td>\n",
              "      <td>0.034414</td>\n",
              "      <td>0.0</td>\n",
              "      <td>1.0</td>\n",
              "    </tr>\n",
              "    <tr>\n",
              "      <th>1</th>\n",
              "      <td>1</td>\n",
              "      <td>2</td>\n",
              "      <td>-0.161908</td>\n",
              "      <td>-0.162966</td>\n",
              "      <td>0.640331</td>\n",
              "      <td>-0.036306</td>\n",
              "      <td>-0.780238</td>\n",
              "      <td>-0.162961</td>\n",
              "      <td>0.071924</td>\n",
              "      <td>-4.214231e-16</td>\n",
              "      <td>-0.163249</td>\n",
              "      <td>-0.295218</td>\n",
              "      <td>-0.162560</td>\n",
              "      <td>0.000000</td>\n",
              "      <td>-3.812317e-16</td>\n",
              "      <td>1</td>\n",
              "      <td>-1.196733</td>\n",
              "      <td>-0.090936</td>\n",
              "      <td>0.0</td>\n",
              "      <td>1.0</td>\n",
              "    </tr>\n",
              "    <tr>\n",
              "      <th>2</th>\n",
              "      <td>1</td>\n",
              "      <td>4</td>\n",
              "      <td>-0.158475</td>\n",
              "      <td>-0.156472</td>\n",
              "      <td>-1.131804</td>\n",
              "      <td>-1.935903</td>\n",
              "      <td>-2.760046</td>\n",
              "      <td>-0.161226</td>\n",
              "      <td>-1.034484</td>\n",
              "      <td>-4.214231e-16</td>\n",
              "      <td>-0.161910</td>\n",
              "      <td>-1.307668</td>\n",
              "      <td>-0.161573</td>\n",
              "      <td>-1.081058</td>\n",
              "      <td>-3.812317e-16</td>\n",
              "      <td>2</td>\n",
              "      <td>-2.223328</td>\n",
              "      <td>0.781405</td>\n",
              "      <td>0.0</td>\n",
              "      <td>1.0</td>\n",
              "    </tr>\n",
              "    <tr>\n",
              "      <th>3</th>\n",
              "      <td>1</td>\n",
              "      <td>4</td>\n",
              "      <td>-0.158904</td>\n",
              "      <td>-0.161037</td>\n",
              "      <td>0.948442</td>\n",
              "      <td>-0.457407</td>\n",
              "      <td>0.924597</td>\n",
              "      <td>-0.162217</td>\n",
              "      <td>-1.400633</td>\n",
              "      <td>-4.214231e-16</td>\n",
              "      <td>-0.162063</td>\n",
              "      <td>-0.613741</td>\n",
              "      <td>-0.162066</td>\n",
              "      <td>-0.694845</td>\n",
              "      <td>-3.812317e-16</td>\n",
              "      <td>1</td>\n",
              "      <td>-0.021482</td>\n",
              "      <td>0.028975</td>\n",
              "      <td>1.0</td>\n",
              "      <td>0.0</td>\n",
              "    </tr>\n",
              "    <tr>\n",
              "      <th>4</th>\n",
              "      <td>4</td>\n",
              "      <td>0</td>\n",
              "      <td>-0.154527</td>\n",
              "      <td>-0.156886</td>\n",
              "      <td>0.327485</td>\n",
              "      <td>2.391566</td>\n",
              "      <td>1.419549</td>\n",
              "      <td>-0.151809</td>\n",
              "      <td>0.979338</td>\n",
              "      <td>1.995358e+00</td>\n",
              "      <td>-0.152217</td>\n",
              "      <td>0.641394</td>\n",
              "      <td>-0.147756</td>\n",
              "      <td>1.980044</td>\n",
              "      <td>3.158752e+00</td>\n",
              "      <td>1</td>\n",
              "      <td>0.518202</td>\n",
              "      <td>-0.265622</td>\n",
              "      <td>0.0</td>\n",
              "      <td>1.0</td>\n",
              "    </tr>\n",
              "  </tbody>\n",
              "</table>\n",
              "</div>\n",
              "      <button class=\"colab-df-convert\" onclick=\"convertToInteractive('df-f0bdd7b6-ee35-4d0c-a959-9b0fb8ef1571')\"\n",
              "              title=\"Convert this dataframe to an interactive table.\"\n",
              "              style=\"display:none;\">\n",
              "        \n",
              "  <svg xmlns=\"http://www.w3.org/2000/svg\" height=\"24px\"viewBox=\"0 0 24 24\"\n",
              "       width=\"24px\">\n",
              "    <path d=\"M0 0h24v24H0V0z\" fill=\"none\"/>\n",
              "    <path d=\"M18.56 5.44l.94 2.06.94-2.06 2.06-.94-2.06-.94-.94-2.06-.94 2.06-2.06.94zm-11 1L8.5 8.5l.94-2.06 2.06-.94-2.06-.94L8.5 2.5l-.94 2.06-2.06.94zm10 10l.94 2.06.94-2.06 2.06-.94-2.06-.94-.94-2.06-.94 2.06-2.06.94z\"/><path d=\"M17.41 7.96l-1.37-1.37c-.4-.4-.92-.59-1.43-.59-.52 0-1.04.2-1.43.59L10.3 9.45l-7.72 7.72c-.78.78-.78 2.05 0 2.83L4 21.41c.39.39.9.59 1.41.59.51 0 1.02-.2 1.41-.59l7.78-7.78 2.81-2.81c.8-.78.8-2.07 0-2.86zM5.41 20L4 18.59l7.72-7.72 1.47 1.35L5.41 20z\"/>\n",
              "  </svg>\n",
              "      </button>\n",
              "      \n",
              "  <style>\n",
              "    .colab-df-container {\n",
              "      display:flex;\n",
              "      flex-wrap:wrap;\n",
              "      gap: 12px;\n",
              "    }\n",
              "\n",
              "    .colab-df-convert {\n",
              "      background-color: #E8F0FE;\n",
              "      border: none;\n",
              "      border-radius: 50%;\n",
              "      cursor: pointer;\n",
              "      display: none;\n",
              "      fill: #1967D2;\n",
              "      height: 32px;\n",
              "      padding: 0 0 0 0;\n",
              "      width: 32px;\n",
              "    }\n",
              "\n",
              "    .colab-df-convert:hover {\n",
              "      background-color: #E2EBFA;\n",
              "      box-shadow: 0px 1px 2px rgba(60, 64, 67, 0.3), 0px 1px 3px 1px rgba(60, 64, 67, 0.15);\n",
              "      fill: #174EA6;\n",
              "    }\n",
              "\n",
              "    [theme=dark] .colab-df-convert {\n",
              "      background-color: #3B4455;\n",
              "      fill: #D2E3FC;\n",
              "    }\n",
              "\n",
              "    [theme=dark] .colab-df-convert:hover {\n",
              "      background-color: #434B5C;\n",
              "      box-shadow: 0px 1px 3px 1px rgba(0, 0, 0, 0.15);\n",
              "      filter: drop-shadow(0px 1px 2px rgba(0, 0, 0, 0.3));\n",
              "      fill: #FFFFFF;\n",
              "    }\n",
              "  </style>\n",
              "\n",
              "      <script>\n",
              "        const buttonEl =\n",
              "          document.querySelector('#df-f0bdd7b6-ee35-4d0c-a959-9b0fb8ef1571 button.colab-df-convert');\n",
              "        buttonEl.style.display =\n",
              "          google.colab.kernel.accessAllowed ? 'block' : 'none';\n",
              "\n",
              "        async function convertToInteractive(key) {\n",
              "          const element = document.querySelector('#df-f0bdd7b6-ee35-4d0c-a959-9b0fb8ef1571');\n",
              "          const dataTable =\n",
              "            await google.colab.kernel.invokeFunction('convertToInteractive',\n",
              "                                                     [key], {});\n",
              "          if (!dataTable) return;\n",
              "\n",
              "          const docLinkHtml = 'Like what you see? Visit the ' +\n",
              "            '<a target=\"_blank\" href=https://colab.research.google.com/notebooks/data_table.ipynb>data table notebook</a>'\n",
              "            + ' to learn more about interactive tables.';\n",
              "          element.innerHTML = '';\n",
              "          dataTable['output_type'] = 'display_data';\n",
              "          await google.colab.output.renderOutput(dataTable, element);\n",
              "          const docLink = document.createElement('div');\n",
              "          docLink.innerHTML = docLinkHtml;\n",
              "          element.appendChild(docLink);\n",
              "        }\n",
              "      </script>\n",
              "    </div>\n",
              "  </div>\n",
              "  "
            ]
          },
          "metadata": {},
          "execution_count": 42
        }
      ]
    },
    {
      "cell_type": "code",
      "source": [
        "y=train_encoded_df_final.median_age"
      ],
      "metadata": {
        "id": "IsfJqwhfNmMN"
      },
      "execution_count": null,
      "outputs": []
    },
    {
      "cell_type": "code",
      "source": [
        "train_encoded_df_final.drop('median_age',axis=1,inplace=True)"
      ],
      "metadata": {
        "id": "gFl9dUlBN2f3"
      },
      "execution_count": null,
      "outputs": []
    },
    {
      "cell_type": "code",
      "source": [
        "train_encoded_df_final.head(\n",
        "    \n",
        ")"
      ],
      "metadata": {
        "colab": {
          "base_uri": "https://localhost:8080/",
          "height": 270
        },
        "id": "WlcJR0oYQJf7",
        "outputId": "e91a341f-3fee-4dd9-e3bc-099ae3485f8c"
      },
      "execution_count": null,
      "outputs": [
        {
          "output_type": "execute_result",
          "data": {
            "text/plain": [
              "   category  year    deaths  population  crude_rate  standardised_age_rate  \\\n",
              "0         1     3 -0.124327   -0.130104    0.287173          -1.006371e+00   \n",
              "1         4     0 -0.090776   -0.095592   -0.101195           1.303914e+00   \n",
              "2         4     1 -0.136897   -0.142090    0.763754          -7.611879e-01   \n",
              "3         1     4 -0.153029   -0.152839   -1.529377          -9.578742e-16   \n",
              "4         1     1 -0.101663   -0.123738    1.529952          -6.583962e-01   \n",
              "\n",
              "   rate_ratio  premature_deaths  premature_deaths_percent  \\\n",
              "0   -1.342855         -0.133985             -1.101477e+00   \n",
              "1    1.466968         -0.077526              3.508359e-01   \n",
              "2   -0.106533         -0.145918             -1.649070e+00   \n",
              "3    0.000000         -0.153193             -5.638964e-16   \n",
              "4    0.062057         -0.116524             -9.903711e-01   \n",
              "\n",
              "   premature_deaths_asr_per_100,000  potential_years_of_life_lost  \\\n",
              "0                         -0.905223                     -0.132688   \n",
              "1                          1.485247                     -0.066126   \n",
              "2                         -1.445007                     -0.148415   \n",
              "3                          0.000000                     -0.152978   \n",
              "4                         -0.789555                     -0.124582   \n",
              "\n",
              "   leverman_rate  potentially_avoidable_deaths   pad_percent  \\\n",
              "0      -0.473688                     -0.137013 -1.338895e+00   \n",
              "1       0.325312                     -0.068568  7.760215e-01   \n",
              "2      -1.126753                     -0.146873 -1.411824e+00   \n",
              "3      -1.236205                     -0.152674 -1.036372e-15   \n",
              "4      -0.294917                     -0.113231  5.134801e-01   \n",
              "\n",
              "   pad_asr_per_100,000  marital_status  stramer_rate  inverse_pyll_metric  \\\n",
              "0        -1.301667e+00               1     -0.893053            -0.029830   \n",
              "1         1.708164e+00               1      1.697396            -0.218025   \n",
              "2        -3.738835e-16               0     -0.270199             0.471838   \n",
              "3        -3.738835e-16               1     -0.869653             0.676275   \n",
              "4        -4.913279e-01               2      0.456051            -0.089656   \n",
              "\n",
              "     0    1  \n",
              "0  1.0  0.0  \n",
              "1  1.0  0.0  \n",
              "2  1.0  0.0  \n",
              "3  1.0  0.0  \n",
              "4  1.0  0.0  "
            ],
            "text/html": [
              "\n",
              "  <div id=\"df-b3b0a7ba-5acb-41d5-976a-15ced855cf63\">\n",
              "    <div class=\"colab-df-container\">\n",
              "      <div>\n",
              "<style scoped>\n",
              "    .dataframe tbody tr th:only-of-type {\n",
              "        vertical-align: middle;\n",
              "    }\n",
              "\n",
              "    .dataframe tbody tr th {\n",
              "        vertical-align: top;\n",
              "    }\n",
              "\n",
              "    .dataframe thead th {\n",
              "        text-align: right;\n",
              "    }\n",
              "</style>\n",
              "<table border=\"1\" class=\"dataframe\">\n",
              "  <thead>\n",
              "    <tr style=\"text-align: right;\">\n",
              "      <th></th>\n",
              "      <th>category</th>\n",
              "      <th>year</th>\n",
              "      <th>deaths</th>\n",
              "      <th>population</th>\n",
              "      <th>crude_rate</th>\n",
              "      <th>standardised_age_rate</th>\n",
              "      <th>rate_ratio</th>\n",
              "      <th>premature_deaths</th>\n",
              "      <th>premature_deaths_percent</th>\n",
              "      <th>premature_deaths_asr_per_100,000</th>\n",
              "      <th>potential_years_of_life_lost</th>\n",
              "      <th>leverman_rate</th>\n",
              "      <th>potentially_avoidable_deaths</th>\n",
              "      <th>pad_percent</th>\n",
              "      <th>pad_asr_per_100,000</th>\n",
              "      <th>marital_status</th>\n",
              "      <th>stramer_rate</th>\n",
              "      <th>inverse_pyll_metric</th>\n",
              "      <th>0</th>\n",
              "      <th>1</th>\n",
              "    </tr>\n",
              "  </thead>\n",
              "  <tbody>\n",
              "    <tr>\n",
              "      <th>0</th>\n",
              "      <td>1</td>\n",
              "      <td>3</td>\n",
              "      <td>-0.124327</td>\n",
              "      <td>-0.130104</td>\n",
              "      <td>0.287173</td>\n",
              "      <td>-1.006371e+00</td>\n",
              "      <td>-1.342855</td>\n",
              "      <td>-0.133985</td>\n",
              "      <td>-1.101477e+00</td>\n",
              "      <td>-0.905223</td>\n",
              "      <td>-0.132688</td>\n",
              "      <td>-0.473688</td>\n",
              "      <td>-0.137013</td>\n",
              "      <td>-1.338895e+00</td>\n",
              "      <td>-1.301667e+00</td>\n",
              "      <td>1</td>\n",
              "      <td>-0.893053</td>\n",
              "      <td>-0.029830</td>\n",
              "      <td>1.0</td>\n",
              "      <td>0.0</td>\n",
              "    </tr>\n",
              "    <tr>\n",
              "      <th>1</th>\n",
              "      <td>4</td>\n",
              "      <td>0</td>\n",
              "      <td>-0.090776</td>\n",
              "      <td>-0.095592</td>\n",
              "      <td>-0.101195</td>\n",
              "      <td>1.303914e+00</td>\n",
              "      <td>1.466968</td>\n",
              "      <td>-0.077526</td>\n",
              "      <td>3.508359e-01</td>\n",
              "      <td>1.485247</td>\n",
              "      <td>-0.066126</td>\n",
              "      <td>0.325312</td>\n",
              "      <td>-0.068568</td>\n",
              "      <td>7.760215e-01</td>\n",
              "      <td>1.708164e+00</td>\n",
              "      <td>1</td>\n",
              "      <td>1.697396</td>\n",
              "      <td>-0.218025</td>\n",
              "      <td>1.0</td>\n",
              "      <td>0.0</td>\n",
              "    </tr>\n",
              "    <tr>\n",
              "      <th>2</th>\n",
              "      <td>4</td>\n",
              "      <td>1</td>\n",
              "      <td>-0.136897</td>\n",
              "      <td>-0.142090</td>\n",
              "      <td>0.763754</td>\n",
              "      <td>-7.611879e-01</td>\n",
              "      <td>-0.106533</td>\n",
              "      <td>-0.145918</td>\n",
              "      <td>-1.649070e+00</td>\n",
              "      <td>-1.445007</td>\n",
              "      <td>-0.148415</td>\n",
              "      <td>-1.126753</td>\n",
              "      <td>-0.146873</td>\n",
              "      <td>-1.411824e+00</td>\n",
              "      <td>-3.738835e-16</td>\n",
              "      <td>0</td>\n",
              "      <td>-0.270199</td>\n",
              "      <td>0.471838</td>\n",
              "      <td>1.0</td>\n",
              "      <td>0.0</td>\n",
              "    </tr>\n",
              "    <tr>\n",
              "      <th>3</th>\n",
              "      <td>1</td>\n",
              "      <td>4</td>\n",
              "      <td>-0.153029</td>\n",
              "      <td>-0.152839</td>\n",
              "      <td>-1.529377</td>\n",
              "      <td>-9.578742e-16</td>\n",
              "      <td>0.000000</td>\n",
              "      <td>-0.153193</td>\n",
              "      <td>-5.638964e-16</td>\n",
              "      <td>0.000000</td>\n",
              "      <td>-0.152978</td>\n",
              "      <td>-1.236205</td>\n",
              "      <td>-0.152674</td>\n",
              "      <td>-1.036372e-15</td>\n",
              "      <td>-3.738835e-16</td>\n",
              "      <td>1</td>\n",
              "      <td>-0.869653</td>\n",
              "      <td>0.676275</td>\n",
              "      <td>1.0</td>\n",
              "      <td>0.0</td>\n",
              "    </tr>\n",
              "    <tr>\n",
              "      <th>4</th>\n",
              "      <td>1</td>\n",
              "      <td>1</td>\n",
              "      <td>-0.101663</td>\n",
              "      <td>-0.123738</td>\n",
              "      <td>1.529952</td>\n",
              "      <td>-6.583962e-01</td>\n",
              "      <td>0.062057</td>\n",
              "      <td>-0.116524</td>\n",
              "      <td>-9.903711e-01</td>\n",
              "      <td>-0.789555</td>\n",
              "      <td>-0.124582</td>\n",
              "      <td>-0.294917</td>\n",
              "      <td>-0.113231</td>\n",
              "      <td>5.134801e-01</td>\n",
              "      <td>-4.913279e-01</td>\n",
              "      <td>2</td>\n",
              "      <td>0.456051</td>\n",
              "      <td>-0.089656</td>\n",
              "      <td>1.0</td>\n",
              "      <td>0.0</td>\n",
              "    </tr>\n",
              "  </tbody>\n",
              "</table>\n",
              "</div>\n",
              "      <button class=\"colab-df-convert\" onclick=\"convertToInteractive('df-b3b0a7ba-5acb-41d5-976a-15ced855cf63')\"\n",
              "              title=\"Convert this dataframe to an interactive table.\"\n",
              "              style=\"display:none;\">\n",
              "        \n",
              "  <svg xmlns=\"http://www.w3.org/2000/svg\" height=\"24px\"viewBox=\"0 0 24 24\"\n",
              "       width=\"24px\">\n",
              "    <path d=\"M0 0h24v24H0V0z\" fill=\"none\"/>\n",
              "    <path d=\"M18.56 5.44l.94 2.06.94-2.06 2.06-.94-2.06-.94-.94-2.06-.94 2.06-2.06.94zm-11 1L8.5 8.5l.94-2.06 2.06-.94-2.06-.94L8.5 2.5l-.94 2.06-2.06.94zm10 10l.94 2.06.94-2.06 2.06-.94-2.06-.94-.94-2.06-.94 2.06-2.06.94z\"/><path d=\"M17.41 7.96l-1.37-1.37c-.4-.4-.92-.59-1.43-.59-.52 0-1.04.2-1.43.59L10.3 9.45l-7.72 7.72c-.78.78-.78 2.05 0 2.83L4 21.41c.39.39.9.59 1.41.59.51 0 1.02-.2 1.41-.59l7.78-7.78 2.81-2.81c.8-.78.8-2.07 0-2.86zM5.41 20L4 18.59l7.72-7.72 1.47 1.35L5.41 20z\"/>\n",
              "  </svg>\n",
              "      </button>\n",
              "      \n",
              "  <style>\n",
              "    .colab-df-container {\n",
              "      display:flex;\n",
              "      flex-wrap:wrap;\n",
              "      gap: 12px;\n",
              "    }\n",
              "\n",
              "    .colab-df-convert {\n",
              "      background-color: #E8F0FE;\n",
              "      border: none;\n",
              "      border-radius: 50%;\n",
              "      cursor: pointer;\n",
              "      display: none;\n",
              "      fill: #1967D2;\n",
              "      height: 32px;\n",
              "      padding: 0 0 0 0;\n",
              "      width: 32px;\n",
              "    }\n",
              "\n",
              "    .colab-df-convert:hover {\n",
              "      background-color: #E2EBFA;\n",
              "      box-shadow: 0px 1px 2px rgba(60, 64, 67, 0.3), 0px 1px 3px 1px rgba(60, 64, 67, 0.15);\n",
              "      fill: #174EA6;\n",
              "    }\n",
              "\n",
              "    [theme=dark] .colab-df-convert {\n",
              "      background-color: #3B4455;\n",
              "      fill: #D2E3FC;\n",
              "    }\n",
              "\n",
              "    [theme=dark] .colab-df-convert:hover {\n",
              "      background-color: #434B5C;\n",
              "      box-shadow: 0px 1px 3px 1px rgba(0, 0, 0, 0.15);\n",
              "      filter: drop-shadow(0px 1px 2px rgba(0, 0, 0, 0.3));\n",
              "      fill: #FFFFFF;\n",
              "    }\n",
              "  </style>\n",
              "\n",
              "      <script>\n",
              "        const buttonEl =\n",
              "          document.querySelector('#df-b3b0a7ba-5acb-41d5-976a-15ced855cf63 button.colab-df-convert');\n",
              "        buttonEl.style.display =\n",
              "          google.colab.kernel.accessAllowed ? 'block' : 'none';\n",
              "\n",
              "        async function convertToInteractive(key) {\n",
              "          const element = document.querySelector('#df-b3b0a7ba-5acb-41d5-976a-15ced855cf63');\n",
              "          const dataTable =\n",
              "            await google.colab.kernel.invokeFunction('convertToInteractive',\n",
              "                                                     [key], {});\n",
              "          if (!dataTable) return;\n",
              "\n",
              "          const docLinkHtml = 'Like what you see? Visit the ' +\n",
              "            '<a target=\"_blank\" href=https://colab.research.google.com/notebooks/data_table.ipynb>data table notebook</a>'\n",
              "            + ' to learn more about interactive tables.';\n",
              "          element.innerHTML = '';\n",
              "          dataTable['output_type'] = 'display_data';\n",
              "          await google.colab.output.renderOutput(dataTable, element);\n",
              "          const docLink = document.createElement('div');\n",
              "          docLink.innerHTML = docLinkHtml;\n",
              "          element.appendChild(docLink);\n",
              "        }\n",
              "      </script>\n",
              "    </div>\n",
              "  </div>\n",
              "  "
            ]
          },
          "metadata": {},
          "execution_count": 45
        }
      ]
    },
    {
      "cell_type": "code",
      "source": [
        "train_encoded_df_final['category'].unique()"
      ],
      "metadata": {
        "colab": {
          "base_uri": "https://localhost:8080/"
        },
        "id": "1pat6srbV-8u",
        "outputId": "548cb47c-035b-4cf6-c8c8-b6c383957786"
      },
      "execution_count": null,
      "outputs": [
        {
          "output_type": "execute_result",
          "data": {
            "text/plain": [
              "array([1, 4, 0, 2, 5, 3, 7, 6])"
            ]
          },
          "metadata": {},
          "execution_count": 48
        }
      ]
    },
    {
      "cell_type": "code",
      "source": [
        "train_encoded_df_final['category']=mms.fit_transform(train_encoded_df[['category']])\n",
        "train_encoded_df_final['year']=mms.fit_transform(train_encoded_df[['year']])\n",
        "\n"
      ],
      "metadata": {
        "id": "O6U87ZXeWqls"
      },
      "execution_count": null,
      "outputs": []
    },
    {
      "cell_type": "code",
      "source": [
        "train_encoded_df_final.info()"
      ],
      "metadata": {
        "colab": {
          "base_uri": "https://localhost:8080/"
        },
        "id": "rfIQL_9BsWSV",
        "outputId": "c90e086b-ce0f-41c5-83ee-eef54a2c2144"
      },
      "execution_count": null,
      "outputs": [
        {
          "output_type": "stream",
          "name": "stdout",
          "text": [
            "<class 'pandas.core.frame.DataFrame'>\n",
            "RangeIndex: 11835 entries, 0 to 11834\n",
            "Data columns (total 20 columns):\n",
            " #   Column                            Non-Null Count  Dtype  \n",
            "---  ------                            --------------  -----  \n",
            " 0   category                          11835 non-null  int64  \n",
            " 1   year                              11835 non-null  int64  \n",
            " 2   deaths                            11835 non-null  float64\n",
            " 3   population                        11835 non-null  float64\n",
            " 4   crude_rate                        11835 non-null  float64\n",
            " 5   standardised_age_rate             11835 non-null  float64\n",
            " 6   rate_ratio                        11835 non-null  float64\n",
            " 7   premature_deaths                  11835 non-null  float64\n",
            " 8   premature_deaths_percent          11835 non-null  float64\n",
            " 9   premature_deaths_asr_per_100,000  11835 non-null  float64\n",
            " 10  potential_years_of_life_lost      11835 non-null  float64\n",
            " 11  leverman_rate                     11835 non-null  float64\n",
            " 12  potentially_avoidable_deaths      11835 non-null  float64\n",
            " 13  pad_percent                       11835 non-null  float64\n",
            " 14  pad_asr_per_100,000               11835 non-null  float64\n",
            " 15  marital_status                    11835 non-null  int64  \n",
            " 16  stramer_rate                      11835 non-null  float64\n",
            " 17  inverse_pyll_metric               11835 non-null  float64\n",
            " 18  0                                 11835 non-null  float64\n",
            " 19  1                                 11835 non-null  float64\n",
            "dtypes: float64(17), int64(3)\n",
            "memory usage: 1.8 MB\n"
          ]
        }
      ]
    },
    {
      "cell_type": "code",
      "source": [
        "train_encoded_df_final['category'] = train_encoded_df_final['category'].astype(float)\n",
        "train_encoded_df_final['year'] = train_encoded_df_final['year'].astype(float)\n",
        "train_encoded_df_final['marital_status'] = train_encoded_df_final['marital_status'].astype(float)\n"
      ],
      "metadata": {
        "id": "w6PIQTi0sinj"
      },
      "execution_count": null,
      "outputs": []
    },
    {
      "cell_type": "code",
      "source": [
        "train_encoded_df.info()"
      ],
      "metadata": {
        "colab": {
          "base_uri": "https://localhost:8080/"
        },
        "id": "7clWiWBxtDbi",
        "outputId": "6b43bb40-142e-46b9-9807-606aca373f75"
      },
      "execution_count": null,
      "outputs": [
        {
          "output_type": "stream",
          "name": "stdout",
          "text": [
            "<class 'pandas.core.frame.DataFrame'>\n",
            "RangeIndex: 11835 entries, 0 to 11834\n",
            "Data columns (total 20 columns):\n",
            " #   Column                            Non-Null Count  Dtype  \n",
            "---  ------                            --------------  -----  \n",
            " 0   category                          11835 non-null  int64  \n",
            " 1   year                              11835 non-null  int64  \n",
            " 2   gender                            11835 non-null  object \n",
            " 3   deaths                            11835 non-null  float64\n",
            " 4   population                        11835 non-null  float64\n",
            " 5   crude_rate                        11835 non-null  float64\n",
            " 6   standardised_age_rate             11835 non-null  float64\n",
            " 7   rate_ratio                        11835 non-null  float64\n",
            " 8   premature_deaths                  11835 non-null  float64\n",
            " 9   premature_deaths_percent          11835 non-null  float64\n",
            " 10  premature_deaths_asr_per_100,000  11835 non-null  float64\n",
            " 11  potential_years_of_life_lost      11835 non-null  float64\n",
            " 12  leverman_rate                     11835 non-null  float64\n",
            " 13  potentially_avoidable_deaths      11835 non-null  float64\n",
            " 14  pad_percent                       11835 non-null  float64\n",
            " 15  pad_asr_per_100,000               11835 non-null  float64\n",
            " 16  marital_status                    11835 non-null  int64  \n",
            " 17  stramer_rate                      11835 non-null  float64\n",
            " 18  inverse_pyll_metric               11835 non-null  float64\n",
            " 19  median_age                        11835 non-null  float64\n",
            "dtypes: float64(16), int64(3), object(1)\n",
            "memory usage: 1.8+ MB\n"
          ]
        }
      ]
    },
    {
      "cell_type": "code",
      "source": [
        "f1 = train_encoded_df_final.iloc[:,:20].values\n",
        "t1 = train_encoded_df.iloc[:,19].values"
      ],
      "metadata": {
        "id": "5XpGWVbhPtAH"
      },
      "execution_count": null,
      "outputs": []
    },
    {
      "cell_type": "code",
      "source": [
        "from sklearn.ensemble import RandomForestRegressor\n",
        "from sklearn.model_selection import train_test_split\n",
        "x_train1,x_test1,y_train1,y_test1 = train_test_split(f1,t1,test_size=0.25,random_state=1)"
      ],
      "metadata": {
        "id": "2gX7STgfQqNX"
      },
      "execution_count": null,
      "outputs": []
    },
    {
      "cell_type": "code",
      "source": [
        "print(x_train1[0:21])"
      ],
      "metadata": {
        "colab": {
          "base_uri": "https://localhost:8080/"
        },
        "id": "Mu205mDlzgpi",
        "outputId": "552c7ee4-fb56-4cec-bb46-348287f97aec"
      },
      "execution_count": null,
      "outputs": [
        {
          "output_type": "stream",
          "name": "stdout",
          "text": [
            "[[ 1.00000000e+00  4.00000000e+00 -1.53127956e-01 -1.53201711e-01\n",
            "  -1.35919719e+00 -9.57874150e-16  0.00000000e+00 -1.53193318e-01\n",
            "  -5.63896410e-16  0.00000000e+00 -1.52727637e-01 -1.85464395e-01\n",
            "  -1.52673519e-01 -1.03637162e-15 -3.73883512e-16  1.00000000e+00\n",
            "  -8.76564482e-01 -1.19616764e-01  1.00000000e+00  0.00000000e+00]\n",
            " [ 1.00000000e+00  2.00000000e+00 -1.51148516e-01 -1.52434478e-01\n",
            "   1.65836778e+00  2.75647931e+00  2.25371846e+00 -1.50865097e-01\n",
            "   7.07962089e-01  0.00000000e+00 -1.51278310e-01  4.60303290e-01\n",
            "  -1.50353373e-01 -7.11713151e-01 -3.73883512e-16  1.00000000e+00\n",
            "   5.63070411e-01 -2.36498439e-01  0.00000000e+00  1.00000000e+00]\n",
            " [ 1.00000000e+00  0.00000000e+00 -6.98924862e-02 -2.19927737e-02\n",
            "  -1.21438842e+00 -9.62879730e-03 -1.62729338e-01 -4.90054580e-02\n",
            "   4.54005722e-01 -3.86200352e-01 -4.50122333e-02 -6.23272994e-01\n",
            "  -3.20259252e-02  1.11149108e+00 -9.14202525e-02  1.00000000e+00\n",
            "   5.69517798e-01  3.45767016e-02  1.00000000e+00  0.00000000e+00]\n",
            " [ 1.00000000e+00  2.00000000e+00 -1.39667761e-01 -1.44928827e-01\n",
            "   1.12636143e+00  8.02594235e-01  1.24218217e+00 -1.39223996e-01\n",
            "  -7.77154195e-02  8.62419841e-01 -1.38556441e-01  6.79207590e-01\n",
            "  -1.38752642e-01 -5.53596293e-02  8.79408166e-01  1.00000000e+00\n",
            "   5.47698007e-01 -2.62125077e-01  1.00000000e+00  0.00000000e+00]\n",
            " [ 1.00000000e+00  3.00000000e+00 -1.45606083e-01 -1.48924037e-01\n",
            "   1.29732165e+00 -4.41016964e-01  3.99235266e-01 -1.47663794e-01\n",
            "  -8.23712245e-01 -3.59507758e-01 -1.48522799e-01 -2.47487280e-01\n",
            "  -1.47453190e-01 -4.05414841e-01 -3.73883512e-16  0.00000000e+00\n",
            "  -2.32715511e-01 -1.03168229e-01  1.00000000e+00  0.00000000e+00]\n",
            " [ 1.00000000e+00  3.00000000e+00 -6.83089338e-02  1.79968629e-02\n",
            "  -1.56216366e+00 -3.13791157e-01 -4.43711641e-01 -3.12527780e-02\n",
            "   9.46046182e-01 -3.01673807e-01  1.00979730e-02 -4.62743174e-01\n",
            "  -3.02858157e-02  7.90607132e-01 -4.80804008e-01  1.00000000e+00\n",
            "   3.47228759e-01 -3.39632989e-02  1.00000000e+00  0.00000000e+00]\n",
            " [ 4.00000000e+00  0.00000000e+00 -1.31848972e-01 -1.39792310e-01\n",
            "   1.08459718e+00  1.66031524e+00  6.80217569e-01 -1.24963646e-01\n",
            "   6.68281406e-01  1.75958756e+00 -1.29180548e-01  7.01098020e-01\n",
            "  -1.21931584e-01  6.00993892e-01  2.12911954e+00  2.00000000e+00\n",
            "   4.02204062e-01 -2.64437909e-01  0.00000000e+00  1.00000000e+00]\n",
            " [ 4.00000000e+00  1.00000000e+00 -1.21654853e-01 -1.30305594e-01\n",
            "   6.00209892e-01  6.86321644e-01  7.92610490e-01 -1.26127756e-01\n",
            "  -5.85628152e-01 -6.57235962e-03 -1.20466694e-01  2.41398990e-01\n",
            "  -1.25411803e-01  1.75685398e-02  2.96044284e-02  1.00000000e+00\n",
            "   7.08262588e-01 -2.05290683e-01  1.00000000e+00  0.00000000e+00]\n",
            " [ 1.00000000e+00  1.00000000e+00 -1.49268047e-01 -1.51228917e-01\n",
            "   1.39255977e+00 -2.81650076e-02 -1.06532878e-01 -1.49992015e-01\n",
            "  -3.79288604e-01  0.00000000e+00 -1.50222627e-01  8.81659802e-02\n",
            "  -1.47453190e-01  2.05955727e+00 -3.73883512e-16  0.00000000e+00\n",
            "  -7.13385149e-01 -1.79067585e-01  1.00000000e+00  0.00000000e+00]\n",
            " [ 1.00000000e+00  0.00000000e+00 -1.48773187e-01 -1.49843954e-01\n",
            "   2.16134879e-01  3.93955054e-01  1.57936094e+00 -1.49700987e-01\n",
            "  -5.69755879e-01  0.00000000e+00 -1.49059587e-01 -2.03706420e-01\n",
            "  -1.49773336e-01 -1.09093963e+00 -3.73883512e-16  1.00000000e+00\n",
            "   3.31112668e-01 -1.14914283e-01  1.00000000e+00  0.00000000e+00]\n",
            " [ 4.00000000e+00  2.00000000e+00 -1.38183181e-01 -1.21623010e-01\n",
            "  -1.61407624e+00 -1.87420304e+00 -1.62383731e+00 -1.37768858e-01\n",
            "  -1.01523829e-01 -1.42572856e+00 -1.39522659e-01 -1.14499491e+00\n",
            "  -1.35852460e-01  6.13254413e-02 -1.32271483e+00  1.00000000e+00\n",
            "  -1.32404522e+00  5.00929278e-01  1.00000000e+00  0.00000000e+00]\n",
            " [ 1.00000000e+00  2.00000000e+00 -1.37688321e-01 -1.40035967e-01\n",
            "   8.92808348e-02 -3.12106047e-01  8.48806950e-01 -1.39806051e-01\n",
            "  -5.53883606e-01 -1.60796231e-01 -1.37339722e-01 -8.33090547e-02\n",
            "  -1.39912715e-01 -3.17901038e-01 -3.28207672e-01  1.00000000e+00\n",
            "   3.52181751e-01 -1.44069667e-01  1.00000000e+00  0.00000000e+00]\n",
            " [ 1.00000000e+00  1.00000000e+00 -1.53325900e-01 -1.53069386e-01\n",
            "  -2.39159395e+00 -9.57874150e-16  0.00000000e+00 -1.53484345e-01\n",
            "  -5.63896410e-16  0.00000000e+00 -1.52781315e-01 -6.99889499e-01\n",
            "  -1.52673519e-01 -1.03637162e-15 -3.73883512e-16  0.00000000e+00\n",
            "  -8.90590533e-01  7.45459635e-02  1.00000000e+00  0.00000000e+00]\n",
            " [ 1.00000000e+00  4.00000000e+00 -1.21852798e-01 -1.17426131e-01\n",
            "  -6.22663092e-01 -5.62344886e-01 -1.23046209e+00 -1.24381591e-01\n",
            "  -4.18969287e-01 -6.26433690e-01 -1.29538407e-01 -8.23935269e-01\n",
            "  -1.22511620e-01  3.09281216e-01 -6.41293259e-01  1.00000000e+00\n",
            "  -7.76806375e-01  1.53000062e-01  0.00000000e+00  1.00000000e+00]\n",
            " [ 0.00000000e+00  0.00000000e+00 -5.99952840e-02 -8.15322208e-02\n",
            "   4.41739917e-01 -1.91620680e-01  6.80217569e-01 -7.40338265e-02\n",
            "  -6.33244971e-01 -2.30493558e-01 -7.73805330e-02 -2.40190470e-01\n",
            "  -7.49486267e-02 -1.57459066e-01 -2.80850188e-01  1.00000000e+00\n",
            "   1.34999127e+00 -1.05172627e-01  1.00000000e+00  0.00000000e+00]\n",
            " [ 5.00000000e+00  1.00000000e+00 -6.75171577e-02 -8.97243103e-02\n",
            "   5.62739159e-01  1.10856570e-01  6.20565035e-02 -5.86093669e-02\n",
            "   5.71989001e-02  7.24508109e-01 -5.86108556e-02  3.98280405e-01\n",
            "  -5.81275680e-02 -2.61883616e-02  7.87324169e-01  2.00000000e+00\n",
            "   7.74371381e-01 -2.28296334e-01  1.00000000e+00  0.00000000e+00]\n",
            " [ 1.00000000e+00  4.00000000e+00 -1.52039264e-01 -1.52894437e-01\n",
            "   1.49209140e+00 -9.57874150e-16  0.00000000e+00 -1.51447152e-01\n",
            "   1.33491687e+00  0.00000000e+00 -1.51224631e-01  1.89047805e+00\n",
            "  -1.50933409e-01 -1.03637162e-15 -3.73883512e-16  0.00000000e+00\n",
            "  -8.03982802e-01 -3.48506177e-01  0.00000000e+00  1.00000000e+00]\n",
            " [ 1.00000000e+00  3.00000000e+00 -1.40558510e-01 -1.38614105e-01\n",
            "  -6.67159588e-01  7.25079174e-01  8.48806950e-01 -1.35731665e-01\n",
            "   8.50812544e-01  2.06968386e-01 -1.32347596e-01  1.50188865e-01\n",
            "  -1.39912715e-01 -7.70055686e-01 -5.54471205e-01  2.00000000e+00\n",
            "   2.55077138e-01 -1.90186169e-01  1.00000000e+00  0.00000000e+00]\n",
            " [ 1.00000000e+00  2.00000000e+00 -1.52633096e-01 -1.52942786e-01\n",
            "  -1.96433504e-01 -9.57874150e-16  0.00000000e+00 -1.52029208e-01\n",
            "  -5.63896410e-16  0.00000000e+00 -1.51135166e-01  1.99263339e+00\n",
            "  -1.50933409e-01 -1.03637162e-15 -3.73883512e-16  1.00000000e+00\n",
            "  -8.42657392e-01 -3.53247533e-01  1.00000000e+00  0.00000000e+00]\n",
            " [ 4.00000000e+00  0.00000000e+00 -8.00866044e-02 -1.03666194e-01\n",
            "   8.71092066e-01  2.25444051e-01 -8.37086864e-01 -8.16005426e-02\n",
            "  -2.76118831e-01  3.46363039e-01 -8.84920389e-02  1.31946840e-01\n",
            "  -8.07489917e-02  2.98290601e-03  3.97940414e-01  2.00000000e+00\n",
            "  -6.14958660e-02 -1.86991318e-01  0.00000000e+00  1.00000000e+00]\n",
            " [ 4.00000000e+00  0.00000000e+00 -1.31354112e-01 -9.26736406e-02\n",
            "  -1.89900994e+00 -8.67349801e-01 -1.23046209e+00 -1.20307206e-01\n",
            "   1.16032187e+00 -9.74920324e-01 -1.16530251e-01 -9.33387419e-01\n",
            "  -1.23091657e-01 -7.55470052e-01 -1.31219095e+00  0.00000000e+00\n",
            "  -9.23985422e-01  2.41570768e-01  1.00000000e+00  0.00000000e+00]]\n"
          ]
        }
      ]
    },
    {
      "cell_type": "code",
      "source": [
        "from sklearn.model_selection import GridSearchCV\n",
        "parameters = {\n",
        "    'n_estimators': [16],\n",
        "    'max_depth': [6],\n",
        "    'random_state' : [66,67,68]\n",
        "}\n",
        "regr = RandomForestRegressor(random_state=0)\n",
        "clf = GridSearchCV(regr, parameters)\n",
        "clf.fit(x_train1, y_train1)\n"
      ],
      "metadata": {
        "colab": {
          "base_uri": "https://localhost:8080/"
        },
        "id": "Vdx7VXggtoR6",
        "outputId": "f013433a-a52c-4b5e-e9e0-d5e904926bbf"
      },
      "execution_count": null,
      "outputs": [
        {
          "output_type": "execute_result",
          "data": {
            "text/plain": [
              "GridSearchCV(estimator=RandomForestRegressor(random_state=0),\n",
              "             param_grid={'max_depth': [6], 'n_estimators': [16],\n",
              "                         'random_state': [66, 67, 68]})"
            ]
          },
          "metadata": {},
          "execution_count": 67
        }
      ]
    },
    {
      "cell_type": "code",
      "source": [
        "clf.best_estimator_"
      ],
      "metadata": {
        "colab": {
          "base_uri": "https://localhost:8080/"
        },
        "id": "YUhWNRgCu90O",
        "outputId": "75a5d5f1-f7b6-4e9d-85df-71385ff4c449"
      },
      "execution_count": null,
      "outputs": [
        {
          "output_type": "execute_result",
          "data": {
            "text/plain": [
              "RandomForestRegressor(max_depth=6, n_estimators=16, random_state=67)"
            ]
          },
          "metadata": {},
          "execution_count": 68
        }
      ]
    },
    {
      "cell_type": "code",
      "source": [
        "model_f=RandomForestRegressor(n_estimators=16,\n",
        "                             max_depth=6,\n",
        "                             random_state =67\n",
        "                            )\n",
        "model_f.fit(train_encoded_df_final, y)\n",
        "prediction=model_f.predict(test_encoded_df_final)\n",
        "output_f=pd.DataFrame({'index':index_df['index'],'median_age':prediction})"
      ],
      "metadata": {
        "colab": {
          "base_uri": "https://localhost:8080/"
        },
        "id": "IOWiZYKqvpQD",
        "outputId": "f3e2b903-c495-42c0-9b35-de9e074619cc"
      },
      "execution_count": null,
      "outputs": [
        {
          "output_type": "stream",
          "name": "stderr",
          "text": [
            "/usr/local/lib/python3.7/dist-packages/sklearn/utils/validation.py:1692: FutureWarning: Feature names only support names that are all strings. Got feature names with dtypes: ['int', 'str']. An error will be raised in 1.2.\n",
            "  FutureWarning,\n",
            "/usr/local/lib/python3.7/dist-packages/sklearn/utils/validation.py:1692: FutureWarning: Feature names only support names that are all strings. Got feature names with dtypes: ['int', 'str']. An error will be raised in 1.2.\n",
            "  FutureWarning,\n"
          ]
        }
      ]
    },
    {
      "cell_type": "code",
      "source": [
        "from google.colab import files\n",
        "output_f.to_csv('final_submissionctd.csv',index=False)\n",
        "files.download('final_submissionctd.csv')"
      ],
      "metadata": {
        "colab": {
          "base_uri": "https://localhost:8080/",
          "height": 17
        },
        "id": "jCqPSVOzv1mM",
        "outputId": "51ed366d-e17f-47be-f7e1-f2407018a412"
      },
      "execution_count": null,
      "outputs": [
        {
          "output_type": "display_data",
          "data": {
            "text/plain": [
              "<IPython.core.display.Javascript object>"
            ],
            "application/javascript": [
              "\n",
              "    async function download(id, filename, size) {\n",
              "      if (!google.colab.kernel.accessAllowed) {\n",
              "        return;\n",
              "      }\n",
              "      const div = document.createElement('div');\n",
              "      const label = document.createElement('label');\n",
              "      label.textContent = `Downloading \"${filename}\": `;\n",
              "      div.appendChild(label);\n",
              "      const progress = document.createElement('progress');\n",
              "      progress.max = size;\n",
              "      div.appendChild(progress);\n",
              "      document.body.appendChild(div);\n",
              "\n",
              "      const buffers = [];\n",
              "      let downloaded = 0;\n",
              "\n",
              "      const channel = await google.colab.kernel.comms.open(id);\n",
              "      // Send a message to notify the kernel that we're ready.\n",
              "      channel.send({})\n",
              "\n",
              "      for await (const message of channel.messages) {\n",
              "        // Send a message to notify the kernel that we're ready.\n",
              "        channel.send({})\n",
              "        if (message.buffers) {\n",
              "          for (const buffer of message.buffers) {\n",
              "            buffers.push(buffer);\n",
              "            downloaded += buffer.byteLength;\n",
              "            progress.value = downloaded;\n",
              "          }\n",
              "        }\n",
              "      }\n",
              "      const blob = new Blob(buffers, {type: 'application/binary'});\n",
              "      const a = document.createElement('a');\n",
              "      a.href = window.URL.createObjectURL(blob);\n",
              "      a.download = filename;\n",
              "      div.appendChild(a);\n",
              "      a.click();\n",
              "      div.remove();\n",
              "    }\n",
              "  "
            ]
          },
          "metadata": {}
        },
        {
          "output_type": "display_data",
          "data": {
            "text/plain": [
              "<IPython.core.display.Javascript object>"
            ],
            "application/javascript": [
              "download(\"download_2afe4c03-285f-42a2-a085-fb98e37e3e71\", \"final_submissionctd.csv\", 91522)"
            ]
          },
          "metadata": {}
        }
      ]
    },
    {
      "cell_type": "code",
      "source": [
        "from xgboost import XGBRegressor"
      ],
      "metadata": {
        "id": "8X_2lBfeVW-u"
      },
      "execution_count": null,
      "outputs": []
    },
    {
      "cell_type": "code",
      "source": [
        "model2 = XGBRegressor()\n",
        "model2.fit(train_encoded_df_final, y)\n",
        "prediction=model2.predict(test_encoded_df_final)\n",
        "output2=pd.DataFrame({'index':index_df['index'],'median_age':prediction})"
      ],
      "metadata": {
        "colab": {
          "base_uri": "https://localhost:8080/"
        },
        "id": "3tdEUgZ8VNsI",
        "outputId": "985d1376-a39d-449e-a704-24915e7d404e"
      },
      "execution_count": null,
      "outputs": [
        {
          "output_type": "stream",
          "name": "stdout",
          "text": [
            "[10:29:02] WARNING: /workspace/src/objective/regression_obj.cu:152: reg:linear is now deprecated in favor of reg:squarederror.\n"
          ]
        }
      ]
    },
    {
      "cell_type": "code",
      "source": [
        "output2.to_csv('final_sub2.csv')\n",
        "files.download('final_sub2.csv')"
      ],
      "metadata": {
        "colab": {
          "base_uri": "https://localhost:8080/",
          "height": 17
        },
        "id": "bk0ECqOXVjPC",
        "outputId": "80beff71-805e-4fed-f62f-3bd87066e3ac"
      },
      "execution_count": null,
      "outputs": [
        {
          "output_type": "display_data",
          "data": {
            "text/plain": [
              "<IPython.core.display.Javascript object>"
            ],
            "application/javascript": [
              "\n",
              "    async function download(id, filename, size) {\n",
              "      if (!google.colab.kernel.accessAllowed) {\n",
              "        return;\n",
              "      }\n",
              "      const div = document.createElement('div');\n",
              "      const label = document.createElement('label');\n",
              "      label.textContent = `Downloading \"${filename}\": `;\n",
              "      div.appendChild(label);\n",
              "      const progress = document.createElement('progress');\n",
              "      progress.max = size;\n",
              "      div.appendChild(progress);\n",
              "      document.body.appendChild(div);\n",
              "\n",
              "      const buffers = [];\n",
              "      let downloaded = 0;\n",
              "\n",
              "      const channel = await google.colab.kernel.comms.open(id);\n",
              "      // Send a message to notify the kernel that we're ready.\n",
              "      channel.send({})\n",
              "\n",
              "      for await (const message of channel.messages) {\n",
              "        // Send a message to notify the kernel that we're ready.\n",
              "        channel.send({})\n",
              "        if (message.buffers) {\n",
              "          for (const buffer of message.buffers) {\n",
              "            buffers.push(buffer);\n",
              "            downloaded += buffer.byteLength;\n",
              "            progress.value = downloaded;\n",
              "          }\n",
              "        }\n",
              "      }\n",
              "      const blob = new Blob(buffers, {type: 'application/binary'});\n",
              "      const a = document.createElement('a');\n",
              "      a.href = window.URL.createObjectURL(blob);\n",
              "      a.download = filename;\n",
              "      div.appendChild(a);\n",
              "      a.click();\n",
              "      div.remove();\n",
              "    }\n",
              "  "
            ]
          },
          "metadata": {}
        },
        {
          "output_type": "display_data",
          "data": {
            "text/plain": [
              "<IPython.core.display.Javascript object>"
            ],
            "application/javascript": [
              "download(\"download_3085d8a2-a8f9-46f6-b8dd-596b2ee1e8b7\", \"final_sub2.csv\", 75758)"
            ]
          },
          "metadata": {}
        }
      ]
    },
    {
      "cell_type": "code",
      "source": [
        "model3=RandomForestRegressor(n_estimators=20,\n",
        "                             max_depth=12,\n",
        "                             criterion='mse',\n",
        "                            )\n",
        "model3.fit(train_encoded_df_final, y)\n",
        "prediction=model3.predict(test_encoded_df_final)\n",
        "output3=pd.DataFrame({'index':index_df['index'],'median_age':prediction})"
      ],
      "metadata": {
        "colab": {
          "base_uri": "https://localhost:8080/"
        },
        "id": "syttL6SyXFed",
        "outputId": "d7db01a1-1843-4bdc-82ca-8ea5048eec28"
      },
      "execution_count": null,
      "outputs": [
        {
          "output_type": "stream",
          "name": "stderr",
          "text": [
            "/usr/local/lib/python3.7/dist-packages/sklearn/utils/validation.py:1692: FutureWarning: Feature names only support names that are all strings. Got feature names with dtypes: ['int', 'str']. An error will be raised in 1.2.\n",
            "  FutureWarning,\n",
            "/usr/local/lib/python3.7/dist-packages/sklearn/ensemble/_forest.py:400: FutureWarning: Criterion 'mse' was deprecated in v1.0 and will be removed in version 1.2. Use `criterion='squared_error'` which is equivalent.\n",
            "  FutureWarning,\n",
            "/usr/local/lib/python3.7/dist-packages/sklearn/utils/validation.py:1692: FutureWarning: Feature names only support names that are all strings. Got feature names with dtypes: ['int', 'str']. An error will be raised in 1.2.\n",
            "  FutureWarning,\n"
          ]
        }
      ]
    },
    {
      "cell_type": "code",
      "source": [
        "output3.to_csv('final_submit.csv',index=False)\n",
        "files.download('final_submit.csv')"
      ],
      "metadata": {
        "colab": {
          "base_uri": "https://localhost:8080/",
          "height": 17
        },
        "id": "ko8MISsHXRS3",
        "outputId": "38d84864-2e21-4169-9dbd-5b142bd21ba2"
      },
      "execution_count": null,
      "outputs": [
        {
          "output_type": "display_data",
          "data": {
            "text/plain": [
              "<IPython.core.display.Javascript object>"
            ],
            "application/javascript": [
              "\n",
              "    async function download(id, filename, size) {\n",
              "      if (!google.colab.kernel.accessAllowed) {\n",
              "        return;\n",
              "      }\n",
              "      const div = document.createElement('div');\n",
              "      const label = document.createElement('label');\n",
              "      label.textContent = `Downloading \"${filename}\": `;\n",
              "      div.appendChild(label);\n",
              "      const progress = document.createElement('progress');\n",
              "      progress.max = size;\n",
              "      div.appendChild(progress);\n",
              "      document.body.appendChild(div);\n",
              "\n",
              "      const buffers = [];\n",
              "      let downloaded = 0;\n",
              "\n",
              "      const channel = await google.colab.kernel.comms.open(id);\n",
              "      // Send a message to notify the kernel that we're ready.\n",
              "      channel.send({})\n",
              "\n",
              "      for await (const message of channel.messages) {\n",
              "        // Send a message to notify the kernel that we're ready.\n",
              "        channel.send({})\n",
              "        if (message.buffers) {\n",
              "          for (const buffer of message.buffers) {\n",
              "            buffers.push(buffer);\n",
              "            downloaded += buffer.byteLength;\n",
              "            progress.value = downloaded;\n",
              "          }\n",
              "        }\n",
              "      }\n",
              "      const blob = new Blob(buffers, {type: 'application/binary'});\n",
              "      const a = document.createElement('a');\n",
              "      a.href = window.URL.createObjectURL(blob);\n",
              "      a.download = filename;\n",
              "      div.appendChild(a);\n",
              "      a.click();\n",
              "      div.remove();\n",
              "    }\n",
              "  "
            ]
          },
          "metadata": {}
        },
        {
          "output_type": "display_data",
          "data": {
            "text/plain": [
              "<IPython.core.display.Javascript object>"
            ],
            "application/javascript": [
              "download(\"download_58a6ca18-b9f7-49b8-bbe1-520fdfe0ef73\", \"final_submit.csv\", 90224)"
            ]
          },
          "metadata": {}
        }
      ]
    },
    {
      "cell_type": "code",
      "source": [
        "pip install scikeras"
      ],
      "metadata": {
        "colab": {
          "base_uri": "https://localhost:8080/"
        },
        "id": "6yzcI6Wk3uRa",
        "outputId": "b32fdedb-a355-4e2a-a034-7912c618fe0a"
      },
      "execution_count": null,
      "outputs": [
        {
          "output_type": "stream",
          "name": "stdout",
          "text": [
            "Looking in indexes: https://pypi.org/simple, https://us-python.pkg.dev/colab-wheels/public/simple/\n",
            "Collecting scikeras\n",
            "  Downloading scikeras-0.9.0-py3-none-any.whl (27 kB)\n",
            "Requirement already satisfied: importlib-metadata>=3 in /usr/local/lib/python3.7/dist-packages (from scikeras) (4.13.0)\n",
            "Requirement already satisfied: packaging>=0.21 in /usr/local/lib/python3.7/dist-packages (from scikeras) (21.3)\n",
            "Requirement already satisfied: scikit-learn>=1.0.0 in /usr/local/lib/python3.7/dist-packages (from scikeras) (1.0.2)\n",
            "Requirement already satisfied: zipp>=0.5 in /usr/local/lib/python3.7/dist-packages (from importlib-metadata>=3->scikeras) (3.10.0)\n",
            "Requirement already satisfied: typing-extensions>=3.6.4 in /usr/local/lib/python3.7/dist-packages (from importlib-metadata>=3->scikeras) (4.1.1)\n",
            "Requirement already satisfied: pyparsing!=3.0.5,>=2.0.2 in /usr/local/lib/python3.7/dist-packages (from packaging>=0.21->scikeras) (3.0.9)\n",
            "Requirement already satisfied: numpy>=1.14.6 in /usr/local/lib/python3.7/dist-packages (from scikit-learn>=1.0.0->scikeras) (1.21.6)\n",
            "Requirement already satisfied: scipy>=1.1.0 in /usr/local/lib/python3.7/dist-packages (from scikit-learn>=1.0.0->scikeras) (1.7.3)\n",
            "Requirement already satisfied: threadpoolctl>=2.0.0 in /usr/local/lib/python3.7/dist-packages (from scikit-learn>=1.0.0->scikeras) (3.1.0)\n",
            "Requirement already satisfied: joblib>=0.11 in /usr/local/lib/python3.7/dist-packages (from scikit-learn>=1.0.0->scikeras) (1.2.0)\n",
            "Installing collected packages: scikeras\n",
            "Successfully installed scikeras-0.9.0\n"
          ]
        }
      ]
    },
    {
      "cell_type": "code",
      "source": [
        "from tensorflow.keras.models import Sequential\n",
        "from tensorflow.keras.layers import Dense\n",
        "from scikeras.wrappers import KerasRegressor\n",
        "from sklearn.model_selection import cross_val_score\n",
        "from sklearn.model_selection import KFold\n",
        "from sklearn.preprocessing import StandardScaler\n",
        "from sklearn.pipeline import Pipeline"
      ],
      "metadata": {
        "id": "maKef55T1U4O"
      },
      "execution_count": null,
      "outputs": []
    },
    {
      "cell_type": "code",
      "source": [
        "# create model\n",
        "def baseline_model():\n",
        "  model = Sequential()\n",
        "  model.add(Dense(20, input_shape=(20,), kernel_initializer='normal', activation='relu'))\n",
        "  model.add(Dense(10, kernel_initializer='normal'))\n",
        "  model.add(Dense(5, kernel_initializer='normal'))\n",
        "  model.add(Dense(1, kernel_initializer='normal'))\n",
        "  # Compile model\n",
        "  model.compile(loss='mean_squared_error', optimizer='adam')\n",
        "  return model"
      ],
      "metadata": {
        "id": "3diQouTa1Zgt"
      },
      "execution_count": null,
      "outputs": []
    },
    {
      "cell_type": "code",
      "source": [
        "estimator = KerasRegressor(build_fn = baseline_model)\n"
      ],
      "metadata": {
        "id": "wlIMffNL2-yd"
      },
      "execution_count": null,
      "outputs": []
    },
    {
      "cell_type": "code",
      "source": [
        "estimator.fit(train_encoded_df_final,y)\n",
        "prediction_final = estimator.predict(test_encoded_df_final)"
      ],
      "metadata": {
        "colab": {
          "base_uri": "https://localhost:8080/"
        },
        "id": "3xTVfoqE4CIu",
        "outputId": "045601f7-94a4-4d50-8fca-4a282709d97a"
      },
      "execution_count": null,
      "outputs": [
        {
          "output_type": "stream",
          "name": "stderr",
          "text": [
            "/usr/local/lib/python3.7/dist-packages/scikeras/wrappers.py:302: UserWarning: ``build_fn`` will be renamed to ``model`` in a future release, at which point use of ``build_fn`` will raise an Error instead.\n",
            "  \"``build_fn`` will be renamed to ``model`` in a future release,\"\n"
          ]
        },
        {
          "output_type": "stream",
          "name": "stdout",
          "text": [
            "370/370 [==============================] - 1s 2ms/step - loss: 2505.1509\n",
            "124/124 [==============================] - 0s 1ms/step\n"
          ]
        }
      ]
    },
    {
      "cell_type": "code",
      "source": [
        "output4=pd.DataFrame({'index':index_df['index'],'median_age':prediction_final})"
      ],
      "metadata": {
        "id": "jKzjoPL05CdG"
      },
      "execution_count": null,
      "outputs": []
    },
    {
      "cell_type": "code",
      "source": [
        "output4.to_csv('final_submit2.csv',index=False)\n",
        "files.download('final_submit2.csv')"
      ],
      "metadata": {
        "colab": {
          "base_uri": "https://localhost:8080/",
          "height": 17
        },
        "id": "siPGvupD5y53",
        "outputId": "d9a4e250-ab81-4c73-f39c-544281f59263"
      },
      "execution_count": null,
      "outputs": [
        {
          "output_type": "display_data",
          "data": {
            "text/plain": [
              "<IPython.core.display.Javascript object>"
            ],
            "application/javascript": [
              "\n",
              "    async function download(id, filename, size) {\n",
              "      if (!google.colab.kernel.accessAllowed) {\n",
              "        return;\n",
              "      }\n",
              "      const div = document.createElement('div');\n",
              "      const label = document.createElement('label');\n",
              "      label.textContent = `Downloading \"${filename}\": `;\n",
              "      div.appendChild(label);\n",
              "      const progress = document.createElement('progress');\n",
              "      progress.max = size;\n",
              "      div.appendChild(progress);\n",
              "      document.body.appendChild(div);\n",
              "\n",
              "      const buffers = [];\n",
              "      let downloaded = 0;\n",
              "\n",
              "      const channel = await google.colab.kernel.comms.open(id);\n",
              "      // Send a message to notify the kernel that we're ready.\n",
              "      channel.send({})\n",
              "\n",
              "      for await (const message of channel.messages) {\n",
              "        // Send a message to notify the kernel that we're ready.\n",
              "        channel.send({})\n",
              "        if (message.buffers) {\n",
              "          for (const buffer of message.buffers) {\n",
              "            buffers.push(buffer);\n",
              "            downloaded += buffer.byteLength;\n",
              "            progress.value = downloaded;\n",
              "          }\n",
              "        }\n",
              "      }\n",
              "      const blob = new Blob(buffers, {type: 'application/binary'});\n",
              "      const a = document.createElement('a');\n",
              "      a.href = window.URL.createObjectURL(blob);\n",
              "      a.download = filename;\n",
              "      div.appendChild(a);\n",
              "      a.click();\n",
              "      div.remove();\n",
              "    }\n",
              "  "
            ]
          },
          "metadata": {}
        },
        {
          "output_type": "display_data",
          "data": {
            "text/plain": [
              "<IPython.core.display.Javascript object>"
            ],
            "application/javascript": [
              "download(\"download_0c5bf2bf-ff8a-4c78-b6bc-f37446f23c46\", \"final_submit2.csv\", 57794)"
            ]
          },
          "metadata": {}
        }
      ]
    }
  ]
}